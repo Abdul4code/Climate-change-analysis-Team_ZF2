{
 "cells": [
  {
   "cell_type": "markdown",
   "id": "132677f3",
   "metadata": {},
   "source": [
    "# Climate Change Belief Analysis 2022 - Team ZF2\n",
    "\n",
    "© Explore Data Science Academy\n",
    "\n",
    "---\n",
    "\n",
    "###### Team Members\n",
    "\n",
    "1. Abubakar Abdulkadir\n",
    "2. Joseph Mugo\n",
    "3. Philip Ogunmola\n",
    "4. Rogers Mugambi\n",
    "5. Adewale Nana\n",
    "6. Philip Wambua\n",
    "\n",
    "---"
   ]
  },
  {
   "cell_type": "markdown",
   "id": "d90ce7f3",
   "metadata": {},
   "source": [
    "## Overview\n",
    "\n",
    "<img src=\"images/climate.jpg\"/>\n",
    "\n",
    "Many companies are built around lessening one’s environmental impact or carbon footprint. They offer products and services that are environmentally friendly and sustainable, in line with their values and ideals. They would like to determine how people perceive climate change and whether or not they believe it is a real threat. This would add to their market research efforts in gauging how their product/service may be received.\n",
    "\n",
    "With this context, this notebook provides a walthrough the creation of a Machine Learning model that is able to classify whether or not a person believes in climate change, based on their novel tweet data.\n",
    "\n",
    "Providing an accurate and robust solution to this task gives companies access to a broad base of consumer sentiment, spanning multiple demographic and geographic categories - thus increasing their insights and informing future marketing strategies.\n",
    "\n",
    "---"
   ]
  },
  {
   "cell_type": "markdown",
   "id": "58eadaea",
   "metadata": {},
   "source": [
    "## Table of Contents     <a id=\"content\"></a>\n",
    "\n",
    "<a href=#1>1. Problem Statement </a>\n",
    "\n",
    "<a href=#1>2. Packages </a>\n",
    "\n",
    "<a href=#2>3. Loading Data</a>\n",
    "\n",
    "<a href=#4>4. Exploratory Data Analysis (EDA)</a>\n",
    "\n",
    "<a href=#5>5. Data Cleaning and Engineering</a>\n",
    "\n",
    "<a href=#6>6. Modeling</a>\n",
    "\n",
    "<a href=#7>7. Model Performance </a>\n",
    "\n",
    "<a href=#8>8. Model Explanation </a>\n",
    "\n",
    "<a href=#9>9. Model Deployment </a>"
   ]
  },
  {
   "cell_type": "markdown",
   "id": "7a696c8e",
   "metadata": {},
   "source": [
    "## 1.0 Problem Statement\n",
    "\n",
    "To build a robust Machine Learning Model that will be able to predict a person’s belief in Climate Change based on their tweet data, allowing companies to gain access into customer sentiment. <br ><br>"
   ]
  },
  {
   "cell_type": "markdown",
   "id": "bd1902e6",
   "metadata": {},
   "source": []
  },
  {
   "cell_type": "markdown",
   "id": "16017d2d",
   "metadata": {},
   "source": [
    "## 2.0 Packages"
   ]
  },
  {
   "cell_type": "markdown",
   "id": "98c946a4",
   "metadata": {},
   "source": [
    "### 2.1. Installing Packages\n",
    "\n",
    "Aside the popular libraries for Machine learning like sklearn, pandas, matplotlib  and numpy, other libraries were used to provide different useful functionality to aid in the development of this project."
   ]
  },
  {
   "cell_type": "code",
   "execution_count": null,
   "id": "18107615",
   "metadata": {},
   "outputs": [],
   "source": [
    "!pip install comet_ml \n",
    "!pip install langdetect\n",
    "!pip install imblearn\n",
    "!pip install nltk"
   ]
  },
  {
   "cell_type": "markdown",
   "id": "33b8d89c",
   "metadata": {},
   "source": [
    "- <a href=\"https://www.comet.ml/\"> comet</a> was used in this project to improve collaboration and control version by means of keeping track of all the stages of our project and using its registry as a source of secure storage. <br><br>\n",
    "\n",
    "- <a href=\"https://pypi.org/project/langdetect/\"> langdetect</a>  was used for detecting words in tweets which does not belong to the language of choice for this project; English. It can recognize about 55 languages. <br><br>\n",
    "\n",
    "- <a href=\"https://imbalanced-learn.org\"> imblearn</a> was used to generate synthetic data for handling the class imbalance in the tweet sentiment. <br><br>\n",
    "\n",
    "- <a href=\"https://www.nltk.org\"> nltk</a> was used for Natural language progressing. It contains methods which allows us to manipulate human language using python"
   ]
  },
  {
   "cell_type": "markdown",
   "id": "6e712a5b",
   "metadata": {},
   "source": [
    "### 2.2 Importing Packages "
   ]
  },
  {
   "cell_type": "code",
   "execution_count": 2,
   "id": "71369bed",
   "metadata": {},
   "outputs": [],
   "source": [
    "# Data loading and Text processing\n",
    "import numpy as np\n",
    "import pandas as pd\n",
    "import re\n",
    "import string\n",
    "import nltk\n",
    "from nltk.corpus import stopwords\n",
    "from sklearn.feature_extraction.text import CountVectorizer\n",
    "from nltk import tokenize\n",
    "from nltk.stem import WordNetLemmatizer\n",
    "from sklearn.feature_extraction.text import CountVectorizer\n",
    "from sklearn.feature_extraction.text import TfidfVectorizer\n",
    "\n",
    "# Data Visualisation\n",
    "import seaborn as sns\n",
    "import matplotlib.pyplot as plt\n",
    "\n",
    "# Modeling and Evaluation\n",
    "from sklearn.model_selection import train_test_split\n",
    "from sklearn.metrics import classification_report\n",
    "from sklearn.linear_model import RidgeClassifier\n",
    "from sklearn.ensemble import RandomForestClassifier\n",
    "from sklearn.tree import DecisionTreeClassifier\n",
    "from sklearn.ensemble import RandomForestClassifier, AdaBoostClassifier\n",
    "from sklearn.neighbors import KNeighborsClassifier\n",
    "from sklearn.svm import SVC\n",
    "from sklearn.linear_model import SGDClassifier\n",
    "from sklearn.naive_bayes import MultinomialNB\n",
    "from sklearn.neural_network import MLPClassifier\n",
    "\n",
    "#Resampling techniques\n",
    "from collections import Counter \n",
    "from sklearn.utils import resample\n",
    "from imblearn.over_sampling import SMOTE\n",
    "\n",
    "# Ignore warnings\n",
    "import warnings\n",
    "warnings.simplefilter(action='ignore')"
   ]
  },
  {
   "cell_type": "markdown",
   "id": "fa8bc9b1",
   "metadata": {},
   "source": [
    "<br />\n",
    "\n",
    "## 3.0 Loading Data\n",
    "\n",
    "    \n",
    "\n",
    "For this project, Pandas library will be used to access and manipulate the datasets. Hence, The training and testing datasets are loaded from the `train` and `test_with_no_labels` csv files into df_train and df_test variables respectively using the pandas <a href=\"https://pandas.pydata.org/docs/reference/api/pandas.read_csv.html\"> read_csv</a> method. The read_csv method returns a <a href=\"https://pandas.pydata.org/pandas-docs/stable/reference/api/pandas.DataFrame.html\"> dataframe</a>."
   ]
  },
  {
   "cell_type": "code",
   "execution_count": 4,
   "id": "879637dc",
   "metadata": {},
   "outputs": [],
   "source": [
    "# read train dataset\n",
    "df_train = pd.read_csv('data/train.csv')\n",
    "\n",
    "# read test dataset\n",
    "df_test = pd.read_csv('data/test_with_no_labels.csv')"
   ]
  },
  {
   "cell_type": "markdown",
   "id": "ad7f0939",
   "metadata": {},
   "source": [
    "<br><br>\n",
    "## 4.0 Exploratory Data Analysis\n",
    "\n",
    "\n",
    "Exploratory data analysis is an approach to analyzing data sets to summarize their main characteristics, often with visual methods. Primarily, EDA is for seeing what the data can tell us beyond the formal modeling or hypothesis testing task.This approach for data analysis uses many tools(mainly graphical to maximize insight into a data set, extract important variables, detect outliers and anomalies, amongst other details that is missed when looking at DataFrame. This step is very important especially when we model the data in order to apply Machine Learning techniques."
   ]
  },
  {
   "cell_type": "markdown",
   "id": "e94a714a",
   "metadata": {},
   "source": [
    "### Comet \n",
    "\n",
    "* Install Comet\n",
    "* Import Experiment from Comet\n",
    "* Create an experiment instance"
   ]
  },
  {
   "cell_type": "code",
   "execution_count": 12,
   "id": "f81290eb",
   "metadata": {},
   "outputs": [],
   "source": [
    "from comet_ml import Experiment"
   ]
  },
  {
   "cell_type": "code",
   "execution_count": null,
   "id": "1724fc17",
   "metadata": {},
   "outputs": [],
   "source": [
    "# # Create an experiment with the comet generated api key:\n",
    "# experiment = Experiment(\n",
    "#     api_key=\"<API key here>\",\n",
    "#     project_name=\"team_zf2_classification\",\n",
    "#     workspace=\"pheelog\", # I will suggest we use Joe Mugo comet username here\n",
    "# )"
   ]
  },
  {
   "cell_type": "markdown",
   "id": "e136785d",
   "metadata": {},
   "source": [
    "### Packages "
   ]
  },
  {
   "cell_type": "code",
   "execution_count": 55,
   "id": "ae61345e",
   "metadata": {},
   "outputs": [
    {
     "name": "stderr",
     "output_type": "stream",
     "text": [
      "[nltk_data] Downloading package stopwords to\n",
      "[nltk_data]     C:\\Users\\DELL\\AppData\\Roaming\\nltk_data...\n",
      "[nltk_data]   Package stopwords is already up-to-date!\n",
      "[nltk_data] Downloading package punkt to\n",
      "[nltk_data]     C:\\Users\\DELL\\AppData\\Roaming\\nltk_data...\n",
      "[nltk_data]   Package punkt is already up-to-date!\n"
     ]
    },
    {
     "name": "stdout",
     "output_type": "stream",
     "text": [
      "✔ Download and installation successful\n",
      "You can now load the package via spacy.load('en_core_web_sm')\n"
     ]
    }
   ],
   "source": [
    "import seaborn as sns\n",
    "from scipy import stats\n",
    "import matplotlib.pyplot as plt\n",
    "# from wordcloud import WordCloud, STOPWORDS\n",
    "from matplotlib.colors import ListedColormap\n",
    "%matplotlib inline\n",
    "\n",
    "# imports for Natural Language  Processing\n",
    "import re\n",
    "import os\n",
    "import nltk\n",
    "import string\n",
    "import time\n",
    "# import fasttext\n",
    "import spacy.cli\n",
    "from langdetect import detect\n",
    "import contractions\n",
    "import unicodedata\n",
    "import numpy as np\n",
    "import pandas as pd\n",
    "# import xgboost\n",
    "from sklearn import metrics\n",
    "from nltk.corpus import stopwords\n",
    "from html.parser import HTMLParser\n",
    "from nltk.tokenize import TweetTokenizer\n",
    "from nltk.corpus import stopwords, wordnet\n",
    "from nltk.stem import WordNetLemmatizer\n",
    "from nltk.stem import PorterStemmer\n",
    "from nltk.tokenize import word_tokenize\n",
    "from sklearn.feature_extraction.text import TfidfVectorizer\n",
    "nltk.download('stopwords')\n",
    "nltk.download('punkt')\n",
    "\n",
    "# Classification Models\n",
    "\n",
    "from sklearn.svm import LinearSVC, SVC\n",
    "from sklearn.naive_bayes import MultinomialNB\n",
    "from sklearn.tree import DecisionTreeClassifier\n",
    "from sklearn.ensemble import AdaBoostClassifier\n",
    "from sklearn.neighbors import KNeighborsClassifier\n",
    "from sklearn.ensemble import RandomForestClassifier\n",
    "from sklearn.linear_model import LogisticRegression, SGDClassifier\n",
    "\n",
    "# Performance Evaluation\n",
    "from sklearn.pipeline import Pipeline\n",
    "from sklearn.metrics import roc_curve, auc\n",
    "from sklearn.preprocessing import label_binarize\n",
    "from sklearn.model_selection import GridSearchCV\n",
    "from sklearn.model_selection import StratifiedKFold\n",
    "# from scikitplot.metrics import plot_roc, plot_confusion_matrix\n",
    "from sklearn.multiclass import OneVsRestClassifier, OneVsOneClassifier\n",
    "from sklearn.metrics import f1_score, accuracy_score, precision_score, recall_score, classification_report, confusion_matrix\n",
    "\n",
    "# Import library for train test split\n",
    "from sklearn.model_selection import train_test_split, KFold, cross_val_score, GridSearchCV\n",
    "\n",
    "#Resampling techniques\n",
    "from collections import Counter \n",
    "from sklearn.utils import resample\n",
    "from imblearn.over_sampling import SMOTE\n",
    "\n",
    "# Ignore warnings\n",
    "import warnings\n",
    "warnings.simplefilter(action='ignore')\n",
    "\n",
    "#spacy\n",
    "spacy.cli.download('en_core_web_sm')"
   ]
  },
  {
   "cell_type": "markdown",
   "id": "64ec139b",
   "metadata": {},
   "source": [
    "### 4.1 Overview of the Training Dataset"
   ]
  },
  {
   "cell_type": "code",
   "execution_count": 9,
   "id": "60ddc108",
   "metadata": {},
   "outputs": [
    {
     "data": {
      "text/html": [
       "<div>\n",
       "<style scoped>\n",
       "    .dataframe tbody tr th:only-of-type {\n",
       "        vertical-align: middle;\n",
       "    }\n",
       "\n",
       "    .dataframe tbody tr th {\n",
       "        vertical-align: top;\n",
       "    }\n",
       "\n",
       "    .dataframe thead th {\n",
       "        text-align: right;\n",
       "    }\n",
       "</style>\n",
       "<table border=\"1\" class=\"dataframe\">\n",
       "  <thead>\n",
       "    <tr style=\"text-align: right;\">\n",
       "      <th></th>\n",
       "      <th>sentiment</th>\n",
       "      <th>message</th>\n",
       "      <th>tweetid</th>\n",
       "    </tr>\n",
       "  </thead>\n",
       "  <tbody>\n",
       "    <tr>\n",
       "      <th>0</th>\n",
       "      <td>1</td>\n",
       "      <td>PolySciMajor EPA chief doesn't think carbon di...</td>\n",
       "      <td>625221</td>\n",
       "    </tr>\n",
       "    <tr>\n",
       "      <th>1</th>\n",
       "      <td>1</td>\n",
       "      <td>It's not like we lack evidence of anthropogeni...</td>\n",
       "      <td>126103</td>\n",
       "    </tr>\n",
       "    <tr>\n",
       "      <th>2</th>\n",
       "      <td>2</td>\n",
       "      <td>RT @RawStory: Researchers say we have three ye...</td>\n",
       "      <td>698562</td>\n",
       "    </tr>\n",
       "    <tr>\n",
       "      <th>3</th>\n",
       "      <td>1</td>\n",
       "      <td>#TodayinMaker# WIRED : 2016 was a pivotal year...</td>\n",
       "      <td>573736</td>\n",
       "    </tr>\n",
       "    <tr>\n",
       "      <th>4</th>\n",
       "      <td>1</td>\n",
       "      <td>RT @SoyNovioDeTodas: It's 2016, and a racist, ...</td>\n",
       "      <td>466954</td>\n",
       "    </tr>\n",
       "  </tbody>\n",
       "</table>\n",
       "</div>"
      ],
      "text/plain": [
       "   sentiment                                            message  tweetid\n",
       "0          1  PolySciMajor EPA chief doesn't think carbon di...   625221\n",
       "1          1  It's not like we lack evidence of anthropogeni...   126103\n",
       "2          2  RT @RawStory: Researchers say we have three ye...   698562\n",
       "3          1  #TodayinMaker# WIRED : 2016 was a pivotal year...   573736\n",
       "4          1  RT @SoyNovioDeTodas: It's 2016, and a racist, ...   466954"
      ]
     },
     "execution_count": 9,
     "metadata": {},
     "output_type": "execute_result"
    }
   ],
   "source": [
    "df_train.head()"
   ]
  },
  {
   "cell_type": "markdown",
   "id": "bdbd4f98",
   "metadata": {},
   "source": [
    "To have a quick overview of the dataset, the pandas<a href=\"https://pandas.pydata.org/docs/reference/api/pandas.DataFrame.head.html?highlight=head#pandas.DataFrame.head\"> DataFrame.head </a> method was used to display the first five rows of the train dataset. It is immediately obvious that the dataset contains two predictors; message and tweetid with a target variable; sentiment. The message field also contains common tweet characters like # and @ tags.\n",
    "<br /><br />"
   ]
  },
  {
   "cell_type": "code",
   "execution_count": 10,
   "id": "93185608",
   "metadata": {},
   "outputs": [
    {
     "name": "stdout",
     "output_type": "stream",
     "text": [
      "<class 'pandas.core.frame.DataFrame'>\n",
      "RangeIndex: 15819 entries, 0 to 15818\n",
      "Data columns (total 3 columns):\n",
      " #   Column     Non-Null Count  Dtype \n",
      "---  ------     --------------  ----- \n",
      " 0   sentiment  15819 non-null  int64 \n",
      " 1   message    15819 non-null  object\n",
      " 2   tweetid    15819 non-null  int64 \n",
      "dtypes: int64(2), object(1)\n",
      "memory usage: 370.9+ KB\n"
     ]
    }
   ],
   "source": [
    "df_train.info()"
   ]
  },
  {
   "cell_type": "markdown",
   "id": "3704f50d",
   "metadata": {},
   "source": [
    "A little more exploration with the <a href=\"https://pandas.pydata.org/pandas-docs/stable/reference/api/pandas.DataFrame.info.html\"> DataFrame.info </a> method reveals that the dataset contains 15,819 entries with no null values. Hence, the shape of the dataset can be deduced to be (15819, 3) <br /><br />"
   ]
  },
  {
   "cell_type": "markdown",
   "id": "7ceed350",
   "metadata": {},
   "source": [
    "**Observations:**\n",
    "* The train datasets contains one categorical column called 'message'\n",
    "* The train dataset contains three columns; one categorical - 'message' and two numerical - 'sentiment and 'tweetid\n",
    "* Some tweets contain twitter handles (e.g @RawStory), numbers (e.g year 2016), hashtags (e.g #TodayinMaker# WIRED) and re-tweets (RT).\n",
    "* Some tweets contain names of ogarnisations, continents and countries.\n",
    "* New lines are represented by '\\n' in the tweet string."
   ]
  },
  {
   "cell_type": "markdown",
   "id": "a7d0fc2c",
   "metadata": {},
   "source": [
    "### 4.2 Analysis  of the Sentiments"
   ]
  },
  {
   "cell_type": "markdown",
   "id": "3f8aefa0",
   "metadata": {},
   "source": [
    "#### 4.2.1 Sentiment Distribution"
   ]
  },
  {
   "cell_type": "code",
   "execution_count": 5,
   "id": "1b073b95",
   "metadata": {},
   "outputs": [
    {
     "data": {
      "text/plain": [
       " 1    8530\n",
       " 2    3640\n",
       " 0    2353\n",
       "-1    1296\n",
       "Name: sentiment, dtype: int64"
      ]
     },
     "execution_count": 5,
     "metadata": {},
     "output_type": "execute_result"
    }
   ],
   "source": [
    "# Count occurence of each class in training dataset\n",
    "category_counts = df_train['sentiment'].value_counts()\n",
    "category_counts"
   ]
  },
  {
   "cell_type": "markdown",
   "id": "3f33e61f",
   "metadata": {},
   "source": [
    "There are four distinct Class labels present in the train data. Hence the the problem is a multi-class classification problem. \n",
    "  \n",
    "        Label   Sentiments    Description\n",
    "         2\t   News:         the tweet link to factual news about climate change\n",
    "         1       Pro:          the tweet supports the belief of man-made climate change\n",
    "         0\t   Neutral:      the tweet neither supports nor refutes the belief of man-made climate change\n",
    "        -1       Anti:         the tweet does not believe in man-made climate change"
   ]
  },
  {
   "cell_type": "markdown",
   "id": "7fc385a7",
   "metadata": {},
   "source": [
    "#### 4.2.2 Sentiment Distribution (Visual Representation)"
   ]
  },
  {
   "cell_type": "code",
   "execution_count": 17,
   "id": "69c53e91",
   "metadata": {},
   "outputs": [
    {
     "data": {
      "image/png": "[encoded data removed]",
      "text/plain": [
       "<Figure size 576x432 with 1 Axes>"
      ]
     },
     "metadata": {},
     "output_type": "display_data"
    }
   ],
   "source": [
    "'''\n",
    "    Calculate the number of tweets per Sentiment \n",
    "    and plot the class distributions results\n",
    "'''\n",
    "\n",
    "fig, ax = plt.subplots(figsize = (8, 6))\n",
    "target =df_train['sentiment'].value_counts()\n",
    "sns.barplot(x=['Pro', 'News', 'Neutral', 'Anti'], y=target, ax=ax, palette=\"Blues_d\")\n",
    "plt.title('Class Distributions')\n",
    "plt.ylabel(\"Count\")\n",
    "plt.show()"
   ]
  },
  {
   "cell_type": "markdown",
   "id": "06412836",
   "metadata": {},
   "source": [
    "**Observations:**\n",
    "* The sum of the tweets relating to news,neutral and anti is less than half of the total tweets.\n",
    "* The distribution indicates that there is a class imbalance in the train dataset. The effect of this imbalance, if not attended to, is a model which performs very well at categorising samples of a particular category and fails at others. For an instance, a model built on this train data will perform well in categorising tweets which supports man-made climate change (Pro) but performs way lesser at classifying the Anti tweets.\n",
    "* The training dataset is skewed to the Pro sentiment category indicating a strong support for the belief of man-made climate change. <br><br>"
   ]
  },
  {
   "cell_type": "markdown",
   "id": "65ece7cd",
   "metadata": {},
   "source": [
    "### 4.3 Analysis  of the Message feature"
   ]
  },
  {
   "cell_type": "markdown",
   "id": "96fa0dd3",
   "metadata": {},
   "source": [
    "From the overview of the data carried out prior, there are two features in the dataset; the message and tweetId features. The tweeteId is numerical while the message is object. The tweetid feature contains unique value for all samples. Hence will not be very useful for modelling. It will be beter off being dropped or being converted to the dataset index. This section contains an exploration of the message feature."
   ]
  },
  {
   "cell_type": "markdown",
   "id": "5de0b573",
   "metadata": {},
   "source": [
    "#### 4.3.1 Unique Words"
   ]
  },
  {
   "cell_type": "code",
   "execution_count": 19,
   "id": "42c4b659",
   "metadata": {},
   "outputs": [],
   "source": [
    " def create_bank_set(dataset, word=\"\", category=\"\"):\n",
    "    '''\n",
    "        Creates a list of all the words or characters in the message feature\n",
    "        \n",
    "        Input:\n",
    "            dataset - The dataset to extract words or characters from\n",
    "            category - Filters the dataset by the specified category\n",
    "            type - Specifies the level of extraction; wether characters or words\n",
    "        \n",
    "        Output:\n",
    "            pandas DataFrame of all the characters or words of the specified category \n",
    "    '''\n",
    "    corpus = []\n",
    "    if category:\n",
    "        df = dataset[dataset['sentiment'] == category]['message']\n",
    "    else:\n",
    "        df = dataset['message']\n",
    "    \n",
    "    if word:\n",
    "        bank = []\n",
    "        for row in df:\n",
    "            bank.extend(row.split(\" \"))\n",
    "    else:\n",
    "        bank = [row[x] for row in df for x in range(len(row))]\n",
    "        \n",
    "    return pd.DataFrame(bank)"
   ]
  },
  {
   "cell_type": "markdown",
   "id": "c13f7b58",
   "metadata": {},
   "source": [
    "<br />\n",
    "Using the create_bank_set function to create a word bank for the entire train dataset"
   ]
  },
  {
   "cell_type": "code",
   "execution_count": 20,
   "id": "3113805b",
   "metadata": {},
   "outputs": [
    {
     "name": "stdout",
     "output_type": "stream",
     "text": [
      "Total words: 278862 \n",
      "Unique words: 47968\n"
     ]
    }
   ],
   "source": [
    "words = create_bank_set(df_train, word=True)\n",
    "total_words = len(words[0])\n",
    "count_unique = len(words[0].unique())\n",
    "print(\"Total words: {} \\nUnique words: {}\".format(total_words, count_unique))"
   ]
  },
  {
   "cell_type": "markdown",
   "id": "5b8ed687",
   "metadata": {},
   "source": [
    "There are about 48,000 total words in the unprocessed train dataset. Considering that there are 15,819 total number of tweets, it can be deduced that each tweet will only contain on the average 47,968 / 15,189 = 3.158 unique word."
   ]
  },
  {
   "cell_type": "markdown",
   "id": "c19e4ca7",
   "metadata": {},
   "source": [
    "##### 4.3.2 Words Popularity"
   ]
  },
  {
   "cell_type": "code",
   "execution_count": 26,
   "id": "82cd3f64",
   "metadata": {},
   "outputs": [
    {
     "data": {
      "image/png": "[encoded data removed]",
      "text/plain": [
       "<Figure size 1080x720 with 4 Axes>"
      ]
     },
     "metadata": {},
     "output_type": "display_data"
    }
   ],
   "source": [
    "# Distribution of words per Class\n",
    "fig, ax = plt.subplots(2,2, figsize=(15,10))\n",
    "categories = [1, 2, 0, -1]\n",
    "labels = ['Pro', 'News', 'Neutral', 'Anti']\n",
    "\n",
    "pos_x = 0\n",
    "pos_y = 0 \n",
    "\n",
    "for i, category in enumerate(categories):\n",
    "    if i > 1:\n",
    "        pos_x = 1\n",
    "        \n",
    "    pos_y = i % 2\n",
    "    \n",
    "    data = create_bank_set(df_train, word=True, category=category)\n",
    "    data = data[0].value_counts().head(10)\n",
    "    sns.barplot(x=data, y=data.index, ax=ax[pos_x][pos_y], palette=\"Blues_d\")\n",
    "    ax[pos_x][pos_y].set_ylabel(\"Count\")\n",
    "    ax[pos_x][pos_y].set_title(\"Most Popular words in \" + str(labels[i]) + \" tweets\")\n",
    "    ax[pos_x][pos_y].set_xlabel(\"Words\")\n",
    "    \n",
    "plt.subplots_adjust(left=0.1,\n",
    "                    bottom=0.1, \n",
    "                    right=0.9, \n",
    "                    top=0.9, \n",
    "                    wspace=0.4, \n",
    "                    hspace=0.4)\n",
    "plt.show()"
   ]
  },
  {
   "cell_type": "markdown",
   "id": "41889af9",
   "metadata": {},
   "source": [
    "The graphs above showcase the evidence of noise. A lot of stop words are picked up as being important which include: (the, to, and, also of). Also, in the graph labeled popular for news tweets, there is a punctuation (a dash -) picked up as an important word. \n",
    "\n",
    "<a href=\"https://medium.com/@saitejaponugoti/stop-words-in-nlp-5b248dadad47\"> Stop words </a> are very common words that don’t have a lot of meaning or words that can be safely ignored without sacrificing the meaning of a text like this, that, or etc. From the above distribution, in addition to the obvious stop words, tweets from the different classes appear to contain similar wordings like Climate, change, RT, and global. These words usually will not be considered as stop words but in this case, since they appear the most frequent in almost all the categories, they will behave more like stop words, providing little or no information to our model. Hence, a consideration to drop such common words. <br /><br />"
   ]
  },
  {
   "cell_type": "markdown",
   "id": "04c7217a",
   "metadata": {},
   "source": [
    "##### 4.3.2 Mention Analysis"
   ]
  },
  {
   "cell_type": "markdown",
   "id": "7e94904e",
   "metadata": {},
   "source": [
    "A mention is a tweet that contains another person's username anywhere in the body of the tweet. We collect these messages, as well as all the replies including mentions of multiple usernames in a tweet. All those mentioned will see any tweet in which they are mentioned."
   ]
  },
  {
   "cell_type": "code",
   "execution_count": 44,
   "id": "943f9b54",
   "metadata": {},
   "outputs": [
    {
     "name": "stdout",
     "output_type": "stream",
     "text": [
      "7\n"
     ]
    },
    {
     "data": {
      "image/png": "[encoded data removed]",
      "text/plain": [
       "<Figure size 4320x720 with 1 Axes>"
      ]
     },
     "metadata": {},
     "output_type": "display_data"
    }
   ],
   "source": [
    "\"\"\"calculate the number of mentions for each sentiment in a tweet\"\"\"\n",
    "\n",
    "train1 = df_train.copy()\n",
    "# mention count \n",
    "train1['mentions'] = df_train['message'].apply(lambda x: len([i for i in str(x) if i == '@']))\n",
    "\n",
    "print(train1['mentions'].max())\n",
    "#plot the number of mentions\n",
    "plt.subplot(1,3,3)\n",
    "sns.boxplot(y='mentions', x='sentiment', data=train1, palette=\"Blues_d\")\n",
    "plt.title('Number of mentions')\n",
    "plt.ylabel('')\n",
    "plt.xlabel('')\n",
    "fig = plt.gcf()\n",
    "fig.set_size_inches(60, 10)\n",
    "\n",
    "plt.show()"
   ]
  },
  {
   "cell_type": "markdown",
   "id": "9d85f039",
   "metadata": {},
   "source": [
    " **Observation:**\n",
    "\n",
    "The pro and neutral setiments seem to have the most mentions in the tweets compared to the news and anti sentiment classes. "
   ]
  },
  {
   "cell_type": "markdown",
   "id": "b774ca19",
   "metadata": {},
   "source": [
    "###### 3.3.2.3 Total Number of Stop words "
   ]
  },
  {
   "cell_type": "code",
   "execution_count": 11,
   "id": "8ff0ad57",
   "metadata": {},
   "outputs": [
    {
     "name": "stdout",
     "output_type": "stream",
     "text": [
      "Total Stopwords: 73137\n",
      "Unique Stopwords: 151\n",
      "Percentage of stopwords in  the entire train dataset : 26.23%\n",
      "Percentage of Unique stopwords in the total unique words: 0.31%\n"
     ]
    }
   ],
   "source": [
    "stop_words = stopwords.words('english')\n",
    "chars = create_bank_set(df_train, word=True)[0]\n",
    "chars = [x for x in chars if x in stop_words]\n",
    "total_stopwords = len(chars)\n",
    "unique_stopwords = len(set(chars))\n",
    "print(\"Total Stopwords: {}\".format(total_stopwords))\n",
    "print(\"Unique Stopwords: {}\".format(unique_stopwords))\n",
    "print(\"Percentage of stopwords in  the entire train dataset : {}%\"\n",
    "      .format(round((total_stopwords / total_words) * 100, 2)))\n",
    "print(\"Percentage of Unique stopwords in the total unique words: {}%\"\n",
    "     .format(round((unique_stopwords / count_unique) * 100, 2)))"
   ]
  },
  {
   "cell_type": "markdown",
   "id": "0271b386",
   "metadata": {},
   "source": [
    "###### 3.3.2.4 Top 10 Common stop words in train dataset"
   ]
  },
  {
   "cell_type": "code",
   "execution_count": 12,
   "id": "4bbb15cf",
   "metadata": {},
   "outputs": [
    {
     "data": {
      "text/plain": [
       "<AxesSubplot:ylabel='0'>"
      ]
     },
     "execution_count": 12,
     "metadata": {},
     "output_type": "execute_result"
    },
    {
     "data": {
      "image/png": "[encoded data removed]",
      "text/plain": [
       "<Figure size 432x288 with 1 Axes>"
      ]
     },
     "metadata": {
      "needs_background": "light"
     },
     "output_type": "display_data"
    }
   ],
   "source": [
    "stop_words = stopwords.words('english')\n",
    "chars = create_bank_set(df_train, word=True)[0]\n",
    "chars = [x for x in chars if x in stop_words]\n",
    "data = pd.DataFrame(chars)[0].value_counts().head(10)\n",
    "sns.barplot(x=data.index, y=data)"
   ]
  },
  {
   "cell_type": "markdown",
   "id": "799e6866",
   "metadata": {},
   "source": [
    "###### 3.3.2.5 Ngram Analysis"
   ]
  },
  {
   "cell_type": "code",
   "execution_count": 13,
   "id": "9b415f41",
   "metadata": {},
   "outputs": [],
   "source": [
    "def get_ngram(message, nrange=(2, 3)):\n",
    "    '''\n",
    "        Takes a text and returns ngram and thier number of occurence.\n",
    "        \n",
    "        Input:\n",
    "            message: (series) A column of texts \n",
    "            nrange: (tuple) The range of ngram\n",
    "            \n",
    "        Output:\n",
    "            words_freq: (list) A list of tuple containing ngrams and their number of occurence\n",
    "    '''\n",
    "    vec = CountVectorizer(ngram_range = nrange).fit(message)\n",
    "    bag_of_words = vec.transform(message)\n",
    "    sum_of_words = bag_of_words.sum(axis=0)\n",
    "    words_freq = [(word, sum_of_words[0, idx]) for word, idx in vec.vocabulary_.items()]\n",
    "    words_freq = sorted(words_freq, key = lambda x: x[1], reverse=True)\n",
    "    return words_freq"
   ]
  },
  {
   "cell_type": "markdown",
   "id": "081232ed",
   "metadata": {},
   "source": [
    "###### 3.3.2.6 Top 10 most frequent Ngrams"
   ]
  },
  {
   "cell_type": "code",
   "execution_count": 14,
   "id": "d1d5d5dc",
   "metadata": {},
   "outputs": [
    {
     "data": {
      "text/plain": [
       "<AxesSubplot:>"
      ]
     },
     "execution_count": 14,
     "metadata": {},
     "output_type": "execute_result"
    },
    {
     "data": {
      "image/png": "[encoded data removed]",
      "text/plain": [
       "<Figure size 720x360 with 1 Axes>"
      ]
     },
     "metadata": {
      "needs_background": "light"
     },
     "output_type": "display_data"
    }
   ],
   "source": [
    "plt.figure(figsize=(10,5))\n",
    "top_tweet_bigrams = get_ngram(df_train['message'], nrange=(2,4))[:10]\n",
    "x, y = map(list,zip(*top_tweet_bigrams))\n",
    "sns.barplot(x=y,y=x)"
   ]
  },
  {
   "cell_type": "markdown",
   "id": "60280a79",
   "metadata": {},
   "source": [
    "The ngram analysis indicates a paramount need to rid the dataset of links. Links related texts like https and co dominated the ngrams <br /><br />"
   ]
  },
  {
   "cell_type": "markdown",
   "id": "4da3cc1e",
   "metadata": {},
   "source": [
    "### v. Extracting hashtags\n",
    "\n",
    "People use the hashtag symbol (#) before a relevant keyword or phrase in their Tweet to categorize those Tweets and help them show more easily in Twitter search. Clicking or tapping on a hashtagged word in any message shows you other Tweets that include that hashtag. Hashtags can be included anywhere in a Tweet"
   ]
  },
  {
   "cell_type": "code",
   "execution_count": 43,
   "id": "06f220ec",
   "metadata": {},
   "outputs": [],
   "source": [
    "# Creating a function to extract hashtags from tweets\n",
    "\n",
    "def extract_hashtags(x):\n",
    "    hashtags = []\n",
    "    for i in x:\n",
    "        ht = re.findall(r'#(\\w+)', i)\n",
    "        hashtags.append(ht)\n",
    "        \n",
    "    return hashtags"
   ]
  },
  {
   "cell_type": "code",
   "execution_count": 45,
   "id": "fb00e106",
   "metadata": {},
   "outputs": [
    {
     "data": {
      "image/png": "[encoded data removed]",
      "text/plain": [
       "<Figure size 3600x360 with 1 Axes>"
      ]
     },
     "metadata": {},
     "output_type": "display_data"
    },
    {
     "data": {
      "image/png": "[encoded data removed]",
      "text/plain": [
       "<Figure size 3600x360 with 1 Axes>"
      ]
     },
     "metadata": {},
     "output_type": "display_data"
    },
    {
     "data": {
      "image/png": "[encoded data removed]",
      "text/plain": [
       "<Figure size 3600x360 with 1 Axes>"
      ]
     },
     "metadata": {},
     "output_type": "display_data"
    },
    {
     "data": {
      "image/png": "[encoded data removed]",
      "text/plain": [
       "<Figure size 3600x360 with 1 Axes>"
      ]
     },
     "metadata": {},
     "output_type": "display_data"
    }
   ],
   "source": [
    "# Extracting hashtags from tweets\n",
    "news_h = extract_hashtags(tweet_df['message']\n",
    "                              [tweet_df['sentiment'] == 2])\n",
    "pro_h = extract_hashtags(tweet_df['message']\n",
    "                          [tweet_df['sentiment'] == 1])\n",
    "neutral_h = extract_hashtags(tweet_df['message']\n",
    "                              [tweet_df['sentiment'] == 0])\n",
    "anti_h = extract_hashtags(tweet_df['message']\n",
    "                          [tweet_df['sentiment'] == -1])\n",
    "\n",
    "# hashtag list\n",
    "hashtags = [sum(news_h, []), sum(pro_h, []),\n",
    "            sum(neutral_h, []),sum(anti_h, [])]\n",
    "\n",
    "# Visualising the Hashtags\n",
    "ft = [' Hashtags on the News sentiment',\n",
    "              ' Hashtags on the Pro sentiment',\n",
    "              ' Hashtags on the Neutral sentiment',\n",
    "              ' Hashtags on the Anti sentiment']\n",
    "\n",
    "plt.rcParams['figure.figsize'] = [50, 5]\n",
    "\n",
    "for i, sent in enumerate(hashtags):\n",
    "    plt.subplot(1, 4, i + 1)\n",
    "    freq_dist = nltk.FreqDist(sent)\n",
    "    df = pd.DataFrame({'Hashtag': list(freq_dist.keys()),\n",
    "                      'Count' : list(freq_dist.values())})\n",
    "\n",
    "    df = df.nlargest(columns='Count', n=15)\n",
    "\n",
    "    ax = sns.barplot(data=df, y='Hashtag', x='Count', palette=\"Blues_d\")\n",
    "    plt.title(ft[i])\n",
    "    plt.show()"
   ]
  },
  {
   "cell_type": "markdown",
   "id": "a751e112",
   "metadata": {},
   "source": [
    "**Observation:**\n",
    "\n",
    "* We can see that the top 5 hashtags have similar words like Climate, climate change, Trump and Before the flood\n",
    "* Before the flood is a popular hashtags used in pro climate change tweets, this refers to a 2016 documentary where actor Leonardo DiCaprio meets with scientists, activists and world leaders to discuss the dangers of climate change and possible solutions.\n",
    "* In the anti climate change tweets MAGA (Make America great again) is the top popular hashtag. It is a slogan that was often used by Donald Trump during his campaign for elections in 2016. This soon became a trending hashtag to use to show support for Donald Trump., "
   ]
  },
  {
   "cell_type": "markdown",
   "id": "426124b1",
   "metadata": {},
   "source": [
    "### vi. Url counts "
   ]
  },
  {
   "cell_type": "code",
   "execution_count": 46,
   "id": "8ae56c8f",
   "metadata": {},
   "outputs": [
    {
     "data": {
      "image/png": "[encoded data removed]",
      "text/plain": [
       "<Figure size 1656x360 with 1 Axes>"
      ]
     },
     "metadata": {},
     "output_type": "display_data"
    }
   ],
   "source": [
    "# extracting urls\n",
    "train1['urls'] = train1['message'].apply(lambda x: len([i for i in x.lower().split() if 'http' in i or 'https' in i]))\n",
    "\n",
    "# ploting the number of urls\n",
    "plt.subplot(1,3,3)\n",
    "sns.stripplot(y='urls', x='sentiment', data=train1, jitter=True, palette=\"Blues_d\")\n",
    "plt.title('Number of urls')\n",
    "plt.ylabel('')\n",
    "plt.xlabel('')\n",
    "fig = plt.gcf()\n",
    "fig.set_size_inches( 23, 5)\n",
    "\n",
    "plt.show()"
   ]
  },
  {
   "cell_type": "markdown",
   "id": "0ec4b0a5",
   "metadata": {},
   "source": [
    "**Observation:\n",
    "There is not much difference between the number of urls in each setiment. "
   ]
  },
  {
   "cell_type": "markdown",
   "id": "5e64958f",
   "metadata": {},
   "source": [
    "### vii. Retweets\n",
    "\n",
    "Twitter allows a user to retweet, or RT another users tweets. We see RT as a popular word in the above visuals. This is great for creating trends, but not useful for sentiment analysis. Now we will remove the duplicates to get a clearer picture of our data set."
   ]
  },
  {
   "cell_type": "code",
   "execution_count": 49,
   "id": "a75911c7",
   "metadata": {},
   "outputs": [
    {
     "data": {
      "image/png": "[encoded data removed]",
      "text/plain": [
       "<Figure size 576x360 with 1 Axes>"
      ]
     },
     "metadata": {},
     "output_type": "display_data"
    }
   ],
   "source": [
    "# Class distribution for set of retweeted-tweets and set without retweets\n",
    "plt.figure(figsize = (8,5))\n",
    "train1['retweet'] = train1['message'].apply(lambda tweet: 1 if tweet.startswith('RT @') else 0)\n",
    "sns.countplot(x='retweet', data=train1, palette='Blues_d', hue='sentiment')\n",
    "plt.title('Number of Retweets Per Sentiment Class',fontsize=14)\n",
    "plt.xlabel('Retweet')\n",
    "plt.ylabel('Count')\n",
    "plt.legend(title='Class')\n",
    "plt.show()"
   ]
  },
  {
   "cell_type": "markdown",
   "id": "9838fb4b",
   "metadata": {},
   "source": [
    "**Observations:**\n",
    "\n",
    "The Pro sentiment class seems to have more tweets retweeted with over 5000 retweets. while other sentiment classes have less than 2000 retweets. looks like evryone is retweeting positive climate change tweets more than others."
   ]
  },
  {
   "cell_type": "markdown",
   "id": "c6a1b5fc",
   "metadata": {},
   "source": [
    "### viii. Finding entities "
   ]
  },
  {
   "cell_type": "code",
   "execution_count": 56,
   "id": "f482318b",
   "metadata": {},
   "outputs": [],
   "source": [
    "nlp = spacy.load('en_core_web_sm')\n",
    "\n",
    "def entities(df):\n",
    "    df_index = 0\n",
    "\n",
    "    for tweet in df['message']:\n",
    "        tweet = nlp(tweet)\n",
    "\n",
    "    for entity in tweet.ents:\n",
    "        df.loc[df_index, 'message'] = df.loc[df_index, 'message'].replace(str(entity.text), str(entity.label_))\n",
    "        df_index += 1\n",
    "\n",
    "        return df"
   ]
  },
  {
   "cell_type": "code",
   "execution_count": 57,
   "id": "d23c2af5",
   "metadata": {},
   "outputs": [
    {
     "data": {
      "text/html": [
       "<div>\n",
       "<style scoped>\n",
       "    .dataframe tbody tr th:only-of-type {\n",
       "        vertical-align: middle;\n",
       "    }\n",
       "\n",
       "    .dataframe tbody tr th {\n",
       "        vertical-align: top;\n",
       "    }\n",
       "\n",
       "    .dataframe thead th {\n",
       "        text-align: right;\n",
       "    }\n",
       "</style>\n",
       "<table border=\"1\" class=\"dataframe\">\n",
       "  <thead>\n",
       "    <tr style=\"text-align: right;\">\n",
       "      <th></th>\n",
       "      <th>sentiment</th>\n",
       "      <th>message</th>\n",
       "      <th>tweetid</th>\n",
       "    </tr>\n",
       "  </thead>\n",
       "  <tbody>\n",
       "    <tr>\n",
       "      <th>0</th>\n",
       "      <td>1</td>\n",
       "      <td>PolySciMajor EPA chief doesn't think carbon di...</td>\n",
       "      <td>625221</td>\n",
       "    </tr>\n",
       "    <tr>\n",
       "      <th>1</th>\n",
       "      <td>1</td>\n",
       "      <td>It's not like we lack evidence of anthropogeni...</td>\n",
       "      <td>126103</td>\n",
       "    </tr>\n",
       "    <tr>\n",
       "      <th>2</th>\n",
       "      <td>2</td>\n",
       "      <td>RT @RawStory: Researchers say we have three ye...</td>\n",
       "      <td>698562</td>\n",
       "    </tr>\n",
       "    <tr>\n",
       "      <th>3</th>\n",
       "      <td>1</td>\n",
       "      <td>#TodayinMaker# WIRED : 2016 was a pivotal year...</td>\n",
       "      <td>573736</td>\n",
       "    </tr>\n",
       "    <tr>\n",
       "      <th>4</th>\n",
       "      <td>1</td>\n",
       "      <td>RT @SoyNovioDeTodas: It's 2016, and a racist, ...</td>\n",
       "      <td>466954</td>\n",
       "    </tr>\n",
       "    <tr>\n",
       "      <th>...</th>\n",
       "      <td>...</td>\n",
       "      <td>...</td>\n",
       "      <td>...</td>\n",
       "    </tr>\n",
       "    <tr>\n",
       "      <th>15814</th>\n",
       "      <td>1</td>\n",
       "      <td>RT @ezlusztig: They took down the material on ...</td>\n",
       "      <td>22001</td>\n",
       "    </tr>\n",
       "    <tr>\n",
       "      <th>15815</th>\n",
       "      <td>2</td>\n",
       "      <td>RT @washingtonpost: How climate change could b...</td>\n",
       "      <td>17856</td>\n",
       "    </tr>\n",
       "    <tr>\n",
       "      <th>15816</th>\n",
       "      <td>0</td>\n",
       "      <td>notiven: RT: nytimesworld :What does Trump act...</td>\n",
       "      <td>384248</td>\n",
       "    </tr>\n",
       "    <tr>\n",
       "      <th>15817</th>\n",
       "      <td>-1</td>\n",
       "      <td>RT @sara8smiles: Hey liberals the climate chan...</td>\n",
       "      <td>819732</td>\n",
       "    </tr>\n",
       "    <tr>\n",
       "      <th>15818</th>\n",
       "      <td>0</td>\n",
       "      <td>RT @Chet_Cannon: .@kurteichenwald's 'climate c...</td>\n",
       "      <td>806319</td>\n",
       "    </tr>\n",
       "  </tbody>\n",
       "</table>\n",
       "<p>15819 rows × 3 columns</p>\n",
       "</div>"
      ],
      "text/plain": [
       "       sentiment                                            message  tweetid\n",
       "0              1  PolySciMajor EPA chief doesn't think carbon di...   625221\n",
       "1              1  It's not like we lack evidence of anthropogeni...   126103\n",
       "2              2  RT @RawStory: Researchers say we have three ye...   698562\n",
       "3              1  #TodayinMaker# WIRED : 2016 was a pivotal year...   573736\n",
       "4              1  RT @SoyNovioDeTodas: It's 2016, and a racist, ...   466954\n",
       "...          ...                                                ...      ...\n",
       "15814          1  RT @ezlusztig: They took down the material on ...    22001\n",
       "15815          2  RT @washingtonpost: How climate change could b...    17856\n",
       "15816          0  notiven: RT: nytimesworld :What does Trump act...   384248\n",
       "15817         -1  RT @sara8smiles: Hey liberals the climate chan...   819732\n",
       "15818          0  RT @Chet_Cannon: .@kurteichenwald's 'climate c...   806319\n",
       "\n",
       "[15819 rows x 3 columns]"
      ]
     },
     "execution_count": 57,
     "metadata": {},
     "output_type": "execute_result"
    }
   ],
   "source": [
    "entities(df_train)"
   ]
  },
  {
   "cell_type": "markdown",
   "id": "29819b1a",
   "metadata": {},
   "source": [
    "### ix. Twitter Handles\n",
    "\n",
    "A Twitter handle is the username that appears at the end of your unique Twitter URL. Twitter handles appear after the @ sign in your profile URL and it must be unique to your account. A Twitter name, on the other hand, is simply there to help people find the company they're looking for."
   ]
  },
  {
   "cell_type": "code",
   "execution_count": 58,
   "id": "09120b4f",
   "metadata": {},
   "outputs": [],
   "source": [
    "# Creating a function to extract handles from tweets\n",
    "def extract_handles(x):\n",
    "    handles = []\n",
    "    for i in x:\n",
    "        h = re.findall(r'@(\\w+)', i)\n",
    "        handles.append(h)\n",
    "        \n",
    "    return handles"
   ]
  },
  {
   "cell_type": "code",
   "execution_count": 60,
   "id": "9705b83f",
   "metadata": {},
   "outputs": [
    {
     "data": {
      "image/png": "[encoded data removed]",
      "text/plain": [
       "<Figure size 3600x360 with 1 Axes>"
      ]
     },
     "metadata": {
      "needs_background": "light"
     },
     "output_type": "display_data"
    },
    {
     "data": {
      "image/png": "[encoded data removed]",
      "text/plain": [
       "<Figure size 3600x360 with 1 Axes>"
      ]
     },
     "metadata": {
      "needs_background": "light"
     },
     "output_type": "display_data"
    },
    {
     "data": {
      "image/png": "[encoded data removed]",
      "text/plain": [
       "<Figure size 3600x360 with 1 Axes>"
      ]
     },
     "metadata": {
      "needs_background": "light"
     },
     "output_type": "display_data"
    },
    {
     "data": {
      "image/png": "[encoded data removed]",
      "text/plain": [
       "<Figure size 3600x360 with 1 Axes>"
      ]
     },
     "metadata": {
      "needs_background": "light"
     },
     "output_type": "display_data"
    }
   ],
   "source": [
    "# Extracting handles from tweets\n",
    "news_h = extract_handles(tweet_df['message']\n",
    "                              [tweet_df['sentiment'] == 2])\n",
    "pro_h = extract_handles(tweet_df['message']\n",
    "                          [tweet_df['sentiment'] == 1])\n",
    "neutral_h = extract_handles(tweet_df['message']\n",
    "                              [tweet_df['sentiment'] == 0])\n",
    "anti_h = extract_handles(tweet_df['message']\n",
    "                          [tweet_df['sentiment'] == -1])\n",
    "\n",
    "# handle lists \n",
    "handles = [sum(news_h, []), sum(pro_h, []), sum(neutral_h, []),\n",
    "           sum(anti_h, [])]\n",
    "\n",
    "# Visualising the Handles\n",
    "full_title = ['Twitter Handles on the News sentiment',\n",
    "              'Twitter Handles on the Pro sentiment',\n",
    "              'Twitter Handles on the Neutral sentiment',\n",
    "              'Twitter Handles on the Anti sentiment']\n",
    "\n",
    "plt.rcParams['figure.figsize'] = [50, 5]\n",
    "\n",
    "for i, sent in enumerate(handles):\n",
    "    plt.subplot(1, 4, i + 1)\n",
    "    freq_dist = nltk.FreqDist(sent)\n",
    "    df = pd.DataFrame({'Handle': list(freq_dist.keys()),\n",
    "                      'Count' : list(freq_dist.values())})\n",
    "\n",
    "    df = df.nlargest(columns='Count', n=15)\n",
    "\n",
    "    ax = sns.barplot(data=df, y='Handle', x='Count', palette='Blues_d')\n",
    "    plt.title(full_title[i])\n",
    "    plt.show()"
   ]
  },
  {
   "cell_type": "markdown",
   "id": "85ffc710",
   "metadata": {},
   "source": [
    "**Observations**\n",
    "\n",
    "From the Visuals above we can all that ...\n",
    "* The most popular News handles are actual news broadcaster accounts\n",
    "* The most popular Pro handles seem to be celebrity accounts & news accounts.\n",
    "* Trump features most for most popular Anti & Neutral tweets."
   ]
  },
  {
   "cell_type": "code",
   "execution_count": null,
   "id": "b34c5f33",
   "metadata": {},
   "outputs": [],
   "source": []
  },
  {
   "cell_type": "code",
   "execution_count": null,
   "id": "64050c0e",
   "metadata": {},
   "outputs": [],
   "source": []
  },
  {
   "cell_type": "code",
   "execution_count": null,
   "id": "e0ba8a56",
   "metadata": {},
   "outputs": [],
   "source": []
  },
  {
   "cell_type": "code",
   "execution_count": null,
   "id": "e4866dfa",
   "metadata": {},
   "outputs": [],
   "source": []
  },
  {
   "cell_type": "code",
   "execution_count": null,
   "id": "63207d74",
   "metadata": {},
   "outputs": [],
   "source": []
  },
  {
   "cell_type": "code",
   "execution_count": null,
   "id": "ddd231bc",
   "metadata": {},
   "outputs": [],
   "source": []
  },
  {
   "cell_type": "code",
   "execution_count": null,
   "id": "a2247ecc",
   "metadata": {},
   "outputs": [],
   "source": []
  },
  {
   "cell_type": "markdown",
   "id": "8dc34d98",
   "metadata": {},
   "source": [
    "## 4.0 Data Cleaning and Engineering\n",
    "\n",
    "<a href=#content>Back to Table of Contents</a>\n",
    "\n",
    "    \n",
    "| Description |\n",
    "| :--------------------------- |\n",
    "| In this section, the recommendations from the exploratory data analytis phase was implemented. The dataset was cleaned and features engineered from the message field|\n",
    "\n",
    "---"
   ]
  },
  {
   "cell_type": "markdown",
   "id": "188ae5cf",
   "metadata": {},
   "source": [
    "### 4.1 Text Cleaning\n",
    "\n",
    "The dataset contains punctuations, links, emojis and twitter specific characters like @ and # symbols. Words also exist in different cases which models might translate and different. Hence, the proceeding function performs cleaning by:\n",
    "- Changing the Case of the words\n",
    "- Remove punctuations\n",
    "- Remove links\n",
    "- Remove emojis\n",
    "- Spelling Correction"
   ]
  },
  {
   "cell_type": "code",
   "execution_count": 376,
   "id": "6ca894ec",
   "metadata": {},
   "outputs": [],
   "source": [
    "def clean_data(text):\n",
    "    # change the case of all the words in the text to lowercase \n",
    "    text = text.lower()\n",
    "    \n",
    "    # Remove links from the text\n",
    "    url = re.compile(r'https?://\\S+|www\\.\\S+')\n",
    "    text =  url.sub(r'', text)\n",
    "    \n",
    "    # remove punctuation\n",
    "    text = \"\".join([x for x in text if x not in string.punctuation])\n",
    "    \n",
    "    # Remove Emojis - Emoji Reference : https://gist.github.com/slowkow/7a7f61f495e3dbb7e3d767f97bd7304b\n",
    "    emoji_pattern = re.compile(\"[\"\n",
    "                           u\"\\U0001F600-\\U0001F64F\"  # emoticons\n",
    "                           u\"\\U0001F300-\\U0001F5FF\"  # symbols & pictographs\n",
    "                           u\"\\U0001F680-\\U0001F6FF\"  # transport & map symbols\n",
    "                           u\"\\U0001F1E0-\\U0001F1FF\"  # flags (iOS)\n",
    "                           u\"\\U00002702-\\U000027B0\"\n",
    "                           u\"\\U000024C2-\\U0001F251\"\n",
    "                           \"]+\", flags=re.UNICODE)\n",
    "    text = emoji_pattern.sub(r'', text)\n",
    "    \n",
    "    '''# Correct mispelt word\n",
    "    spelling = SpellChecker()\n",
    "    correct_text = []\n",
    "    misspelt_words = spelling.unknown(text.split())\n",
    "    for word in text.split():\n",
    "        if word in misspelt_words:\n",
    "            correct_text.append(spelling.correction(word))\n",
    "        else:\n",
    "            correct_text.append(word)\n",
    "    text = \" \".join(correct_text)'''\n",
    "    \n",
    "    return text"
   ]
  },
  {
   "cell_type": "markdown",
   "id": "871bd0c1",
   "metadata": {},
   "source": [
    "The clean_data function accepts a row of text and returns a string with the punctuations, emojis and links removed including changing the case and correcting misspelt words. <br><br>  "
   ]
  },
  {
   "cell_type": "code",
   "execution_count": 377,
   "id": "b99d80be",
   "metadata": {},
   "outputs": [],
   "source": [
    "# Clean the train dataset\n",
    "df_train['message'] = df_train['message'].apply(clean_data)\n",
    "\n",
    "# Clean the test dataset\n",
    "df_test['message'] = df_test['message'].apply(clean_data)"
   ]
  },
  {
   "cell_type": "markdown",
   "id": "83b57bd0",
   "metadata": {},
   "source": [
    "### 4.2 Drop TweetId feature\n",
    "\n",
    "The tweetId feature contains unique values across the feature. Hence, it will contribute little or nothing to the accuracy of the model. While weighing down the moodel in terms of computational cost."
   ]
  },
  {
   "cell_type": "code",
   "execution_count": 378,
   "id": "2dbf2bb6",
   "metadata": {},
   "outputs": [],
   "source": [
    "def drop_unwanted(dataframe, unwanted_features):\n",
    "    df = dataframe.drop(unwanted_features,  axis='columns')\n",
    "    return df"
   ]
  },
  {
   "cell_type": "code",
   "execution_count": 379,
   "id": "06e7a2ea",
   "metadata": {},
   "outputs": [],
   "source": [
    "# drop tweetid from train dataset\n",
    "df_train = drop_unwanted(df_train, ['tweetid'])\n",
    "\n",
    "# Reserve tweetid for prediction\n",
    "test_tweet_id = df_test['tweetid']\n",
    "\n",
    "# drop tweetid from test dataset\n",
    "df_test = drop_unwanted(df_test, ['tweetid'])"
   ]
  },
  {
   "cell_type": "markdown",
   "id": "c83b123b",
   "metadata": {},
   "source": [
    "### 4.3 Text Tokenization\n",
    "\n",
    "In this section, the message feature was tokenized (each message was broken down into list of words) using the nltk RegexTokenizer."
   ]
  },
  {
   "cell_type": "code",
   "execution_count": 380,
   "id": "175a3d8f",
   "metadata": {},
   "outputs": [],
   "source": [
    "def tokenize_data(text):\n",
    "    tokenizer = tokenize.RegexpTokenizer(r'\\w+')\n",
    "    return tokenizer.tokenize(text)"
   ]
  },
  {
   "cell_type": "markdown",
   "id": "f454b58a",
   "metadata": {},
   "source": [
    "The function above takes a row of text and return a list of each word in the text. <br /><br />"
   ]
  },
  {
   "cell_type": "code",
   "execution_count": 381,
   "id": "76bd6f7c",
   "metadata": {},
   "outputs": [],
   "source": [
    "# Tokenize the train dataset\n",
    "df_train['message'] = df_train['message'].apply(tokenize_data)\n",
    "\n",
    "# Tokenize the test dataset\n",
    "df_test['message'] = df_test['message'].apply(tokenize_data)"
   ]
  },
  {
   "cell_type": "markdown",
   "id": "07ddd13e",
   "metadata": {},
   "source": [
    "### 4.4 Stop words Removal\n",
    "\n",
    "Stop words from the message feature are removed using the defined function remove_stop_words. <br ><br >"
   ]
  },
  {
   "cell_type": "code",
   "execution_count": 382,
   "id": "b916fe79",
   "metadata": {},
   "outputs": [],
   "source": [
    "def remove_stop_words(list_of_words):\n",
    "    # The function takes a list of words and filter out the stop words\n",
    "    words = [word for word in list_of_words if word not in stopwords.words('english')]\n",
    "    return words"
   ]
  },
  {
   "cell_type": "code",
   "execution_count": 383,
   "id": "3ece56a8",
   "metadata": {},
   "outputs": [],
   "source": [
    "# Remove stop words from train dataset\n",
    "df_train['message'] = df_train['message'].apply(remove_stop_words)\n",
    "\n",
    "# Remove stop words from test dataset\n",
    "df_test['message'] = df_test['message'].apply(remove_stop_words)"
   ]
  },
  {
   "cell_type": "markdown",
   "id": "604a6948",
   "metadata": {},
   "source": [
    "### 4.5 Lemmatization \n",
    "\n",
    "English words have different variants. cats and cat are variants of cat. Lemmatization will ensure that all variants of a word map to the same root word. ALthough, an alternative to lemmatization is stemming. Stemming will remove the suffix of words and does not necessarily return English words. Hence, Lematization is preffered in this instance."
   ]
  },
  {
   "cell_type": "code",
   "execution_count": 384,
   "id": "48e76d82",
   "metadata": {},
   "outputs": [],
   "source": [
    "def lemmatize_words(list_of_words):\n",
    "    lemmatizer = WordNetLemmatizer()\n",
    "    return [lemmatizer.lemmatize(x) for x in list_of_words]"
   ]
  },
  {
   "cell_type": "code",
   "execution_count": 385,
   "id": "a194ae5b",
   "metadata": {},
   "outputs": [],
   "source": [
    "# lemmatize train set\n",
    "df_train['message'] = df_train['message'].apply(lemmatize_words)\n",
    "\n",
    "# lemmatize test set\n",
    "df_test['message'] = df_test['message'].apply(lemmatize_words)"
   ]
  },
  {
   "cell_type": "markdown",
   "id": "351c0687",
   "metadata": {},
   "source": [
    "After the lemmatization, we join the tokenized words together. This is to enable us create features from the field."
   ]
  },
  {
   "cell_type": "code",
   "execution_count": 386,
   "id": "790ec768",
   "metadata": {},
   "outputs": [],
   "source": [
    "#Join all the words in the message field\n",
    "df_train['message'] = df_train['message'].apply(lambda x: \" \".join(x))\n",
    "df_test['message'] = df_test['message'].apply(lambda x: \" \".join(x))"
   ]
  },
  {
   "cell_type": "markdown",
   "id": "4c2c1587",
   "metadata": {},
   "source": [
    "### 4.6 Features Extraction \n",
    "\n",
    "To create a model, there is a need to have a set of feature(s) and target. Most models only accept numerical values for feature sets. For this project, our feature is a string of words. Hence there is a need to create vectors of digits from these words. The process is called Vectorization.\n",
    "\n",
    "For this project we define a vectorizer with the following tuning\n",
    "- stop_words = 'english'\n",
    "- ngram_range = (1, 4)\n",
    "- max_df = 0.7\n",
    "- min_df = 1"
   ]
  },
  {
   "cell_type": "code",
   "execution_count": 387,
   "id": "3d0bef6c",
   "metadata": {},
   "outputs": [],
   "source": [
    "def vectorize_data(train, test):\n",
    "    vectorizer = TfidfVectorizer(stop_words='english',\n",
    "                                 min_df=1,\n",
    "                                 ngram_range=(1, 2),\n",
    "                                 max_df = 0.5)\n",
    "    train_data = vectorizer.fit_transform(train)\n",
    "    test_data = vectorizer.transform(test)\n",
    "    return train_data, test_data"
   ]
  },
  {
   "cell_type": "code",
   "execution_count": 388,
   "id": "06ca7521",
   "metadata": {},
   "outputs": [],
   "source": [
    "#vectorize the train and test dataset\n",
    "train_data, test_data = vectorize_data(df_train['message'], df_test['message'])"
   ]
  },
  {
   "cell_type": "markdown",
   "id": "c1dca137",
   "metadata": {},
   "source": [
    "### 4.6 Spliting Train Dataset \n",
    "\n",
    "To properly access a model, we need to access the model on data which it has not seen before. Hence, there is a need to split the training dataset into two different datasets; the training dataset - which will be used to train a model and the validation set - which will be used to measure the performance of the model. "
   ]
  },
  {
   "cell_type": "code",
   "execution_count": 371,
   "id": "41c1bd2c",
   "metadata": {},
   "outputs": [],
   "source": [
    "train_x, validation_x, train_y, validation_y = train_test_split(train_data, df_train['sentiment'], test_size=0.2,  random_state=20)"
   ]
  },
  {
   "cell_type": "code",
   "execution_count": 372,
   "id": "44cdf404",
   "metadata": {},
   "outputs": [
    {
     "name": "stdout",
     "output_type": "stream",
     "text": [
      "(12655, 105665)\n",
      "(3164, 105665)\n",
      "(12655,)\n",
      "(3164,)\n"
     ]
    }
   ],
   "source": [
    "print(train_x.shape)\n",
    "print(validation_x.shape)\n",
    "print(train_y.shape)\n",
    "print(validation_y.shape)"
   ]
  },
  {
   "cell_type": "markdown",
   "id": "16d4a53b",
   "metadata": {},
   "source": [
    "## 5.0 Modeling and Evaluation\n",
    "\n",
    "<a href=#content>Back to Table of Contents</a>\n",
    "\n",
    "    \n",
    "| Description |\n",
    "| :--------------------------- |\n",
    "| In this section, several models are trained and evaluated.|\n",
    "\n",
    "---"
   ]
  },
  {
   "cell_type": "markdown",
   "id": "9b7fc224",
   "metadata": {},
   "source": [
    "#### 5.1 Ridge Classifier Model"
   ]
  },
  {
   "cell_type": "code",
   "execution_count": 373,
   "id": "ffbab370",
   "metadata": {},
   "outputs": [],
   "source": [
    "ridge_model = RidgeClassifier()\n",
    "ridge_model.fit(train_x, train_y)\n",
    "predictions = ridge_model.predict(validation_x)"
   ]
  },
  {
   "cell_type": "code",
   "execution_count": 374,
   "id": "9ef62c61",
   "metadata": {},
   "outputs": [
    {
     "name": "stdout",
     "output_type": "stream",
     "text": [
      "              precision    recall  f1-score   support\n",
      "\n",
      "     2: News       0.93      0.36      0.52       272\n",
      "      1: Pro       0.72      0.31      0.44       477\n",
      "  0: Neutral       0.72      0.93      0.81      1726\n",
      "    -1: Anti       0.79      0.71      0.75       689\n",
      "\n",
      "    accuracy                           0.74      3164\n",
      "   macro avg       0.79      0.58      0.63      3164\n",
      "weighted avg       0.75      0.74      0.72      3164\n",
      "\n"
     ]
    }
   ],
   "source": [
    "print(classification_report(validation_y, predictions, target_names=['2: News', '1: Pro', '0: Neutral', '-1: Anti']))"
   ]
  },
  {
   "cell_type": "markdown",
   "id": "05814e49",
   "metadata": {},
   "source": [
    "#### 5.2 Random Forest Classifier Model"
   ]
  },
  {
   "cell_type": "code",
   "execution_count": 342,
   "id": "629ab31d",
   "metadata": {},
   "outputs": [
    {
     "name": "stderr",
     "output_type": "stream",
     "text": [
      "\n",
      "KeyboardInterrupt\n",
      "\n"
     ]
    }
   ],
   "source": [
    "tree_model = RandomForestClassifier(random_state=50)\n",
    "tree_model.fit(train_x, train_y)\n",
    "predictions = tree_model.predict(validation_x)"
   ]
  },
  {
   "cell_type": "code",
   "execution_count": null,
   "id": "dfc333de",
   "metadata": {},
   "outputs": [],
   "source": [
    "print(classification_report(validation_y, predictions, target_names=['2: News', '1: Pro', '0: Neutral', '-1: Anti']))"
   ]
  },
  {
   "cell_type": "markdown",
   "id": "000f2ab9",
   "metadata": {},
   "source": [
    "#### 5.3 Nearest Neighbour Classifier"
   ]
  },
  {
   "cell_type": "code",
   "execution_count": 36,
   "id": "b4dd55fd",
   "metadata": {},
   "outputs": [
    {
     "name": "stdout",
     "output_type": "stream",
     "text": [
      "              precision    recall  f1-score   support\n",
      "\n",
      "     2: News       0.37      0.43      0.40       272\n",
      "      1: Pro       0.39      0.35      0.37       477\n",
      "  0: Neutral       0.74      0.70      0.72      1726\n",
      "    -1: Anti       0.58      0.67      0.62       689\n",
      "\n",
      "    accuracy                           0.62      3164\n",
      "   macro avg       0.52      0.54      0.53      3164\n",
      "weighted avg       0.62      0.62      0.62      3164\n",
      "\n"
     ]
    }
   ],
   "source": [
    "knn_model = KNeighborsClassifier(3)\n",
    "knn_model.fit(train_x, train_y)\n",
    "predictions = knn_model.predict(validation_x)\n",
    "print(classification_report(validation_y, predictions, target_names=['2: News', '1: Pro', '0: Neutral', '-1: Anti']))"
   ]
  },
  {
   "cell_type": "markdown",
   "id": "00635e98",
   "metadata": {},
   "source": [
    "#### 5.4 Support Vector Classifier"
   ]
  },
  {
   "cell_type": "code",
   "execution_count": 37,
   "id": "03a81ab5",
   "metadata": {},
   "outputs": [
    {
     "name": "stdout",
     "output_type": "stream",
     "text": [
      "              precision    recall  f1-score   support\n",
      "\n",
      "     2: News       0.95      0.14      0.25       272\n",
      "      1: Pro       0.88      0.16      0.27       477\n",
      "  0: Neutral       0.64      0.98      0.77      1726\n",
      "    -1: Anti       0.89      0.50      0.64       689\n",
      "\n",
      "    accuracy                           0.68      3164\n",
      "   macro avg       0.84      0.44      0.48      3164\n",
      "weighted avg       0.75      0.68      0.62      3164\n",
      "\n"
     ]
    }
   ],
   "source": [
    "svc_model = SVC(gamma=2, C=1)\n",
    "svc_model.fit(train_x, train_y)\n",
    "predictions = svc_model.predict(validation_x)\n",
    "print(classification_report(validation_y, predictions, target_names=['2: News', '1: Pro', '0: Neutral', '-1: Anti']))"
   ]
  },
  {
   "cell_type": "markdown",
   "id": "58705b7e",
   "metadata": {},
   "source": [
    "#### 5.5 AdaBoost Classifier"
   ]
  },
  {
   "cell_type": "code",
   "execution_count": 38,
   "id": "f3fb5062",
   "metadata": {},
   "outputs": [
    {
     "name": "stdout",
     "output_type": "stream",
     "text": [
      "              precision    recall  f1-score   support\n",
      "\n",
      "     2: News       0.54      0.25      0.34       272\n",
      "      1: Pro       0.46      0.29      0.35       477\n",
      "  0: Neutral       0.62      0.84      0.72      1726\n",
      "    -1: Anti       0.61      0.36      0.45       689\n",
      "\n",
      "    accuracy                           0.60      3164\n",
      "   macro avg       0.56      0.43      0.47      3164\n",
      "weighted avg       0.59      0.60      0.57      3164\n",
      "\n"
     ]
    }
   ],
   "source": [
    "ada_model = AdaBoostClassifier()\n",
    "ada_model.fit(train_x, train_y)\n",
    "predictions = ada_model.predict(validation_x)\n",
    "print(classification_report(validation_y, predictions, target_names=['2: News', '1: Pro', '0: Neutral', '-1: Anti']))"
   ]
  },
  {
   "cell_type": "code",
   "execution_count": 39,
   "id": "04f36259",
   "metadata": {},
   "outputs": [
    {
     "name": "stdout",
     "output_type": "stream",
     "text": [
      "              precision    recall  f1-score   support\n",
      "\n",
      "     2: News       1.00      0.01      0.01       272\n",
      "      1: Pro       1.00      0.08      0.14       477\n",
      "  0: Neutral       0.61      0.98      0.75      1726\n",
      "    -1: Anti       0.87      0.42      0.57       689\n",
      "\n",
      "    accuracy                           0.64      3164\n",
      "   macro avg       0.87      0.37      0.37      3164\n",
      "weighted avg       0.76      0.64      0.56      3164\n",
      "\n"
     ]
    }
   ],
   "source": [
    "bayes_model = MultinomialNB()\n",
    "bayes_model.fit(train_x, train_y)\n",
    "predictions = bayes_model.predict(validation_x)\n",
    "print(classification_report(validation_y, predictions, target_names=['2: News', '1: Pro', '0: Neutral', '-1: Anti']))"
   ]
  },
  {
   "cell_type": "code",
   "execution_count": 244,
   "id": "275aaefa",
   "metadata": {},
   "outputs": [
    {
     "name": "stdout",
     "output_type": "stream",
     "text": [
      "              precision    recall  f1-score   support\n",
      "\n",
      "     2: News       0.79      0.42      0.54       272\n",
      "      1: Pro       0.66      0.39      0.49       477\n",
      "  0: Neutral       0.75      0.89      0.81      1726\n",
      "    -1: Anti       0.73      0.72      0.73       689\n",
      "\n",
      "    accuracy                           0.74      3164\n",
      "   macro avg       0.73      0.60      0.64      3164\n",
      "weighted avg       0.73      0.74      0.72      3164\n",
      "\n"
     ]
    }
   ],
   "source": [
    "sgdc_model = SGDClassifier()\n",
    "sgdc_model.fit(train_x, train_y)\n",
    "predictions = sgdc_model.predict(validation_x)\n",
    "print(classification_report(validation_y, predictions, target_names=['2: News', '1: Pro', '0: Neutral', '-1: Anti']))"
   ]
  },
  {
   "cell_type": "code",
   "execution_count": 367,
   "id": "37078787",
   "metadata": {},
   "outputs": [],
   "source": [
    "final_ridge_model = RidgeClassifier()\n",
    "final_ridge_model.fit(train_data, df_train['sentiment'])\n",
    "predictions = final_ridge_model.predict(test_data)"
   ]
  },
  {
   "cell_type": "code",
   "execution_count": 368,
   "id": "fe7d3de0",
   "metadata": {},
   "outputs": [
    {
     "data": {
      "text/plain": [
       "(10546,)"
      ]
     },
     "execution_count": 368,
     "metadata": {},
     "output_type": "execute_result"
    }
   ],
   "source": [
    "submission = pd.DataFrame({'tweetid': test_tweet_id, 'sentiment':predictions})\n",
    "submission.to_csv('submission.csv', index=False)\n",
    "\n",
    "predictions.shape"
   ]
  },
  {
   "cell_type": "code",
   "execution_count": null,
   "id": "9904172e",
   "metadata": {},
   "outputs": [],
   "source": []
  }
 ],
 "metadata": {
  "kernelspec": {
   "display_name": "Python 3 (ipykernel)",
   "language": "python",
   "name": "python3"
  },
  "language_info": {
   "codemirror_mode": {
    "name": "ipython",
    "version": 3
   },
   "file_extension": ".py",
   "mimetype": "text/x-python",
   "name": "python",
   "nbconvert_exporter": "python",
   "pygments_lexer": "ipython3",
   "version": "3.9.10"
  }
 },
 "nbformat": 4,
 "nbformat_minor": 5
}
