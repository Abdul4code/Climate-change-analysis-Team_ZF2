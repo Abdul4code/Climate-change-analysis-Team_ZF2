{
 "cells": [
  {
   "cell_type": "markdown",
   "metadata": {},
   "source": [
    "# Climate Change Belief Analysis 2022 - Team ZF2\n",
    "\n",
    "© Explore Data Science Academy\n",
    "\n",
    "---\n",
    "\n",
    "###### Team Members\n",
    "\n",
    "1. Abubakar Abdulkadir\n",
    "2. Joseph Mugo\n",
    "3. Philip Ogunmola\n",
    "4. Rogers Mugambi\n",
    "5. Adewale Nana\n",
    "6. Philip Wambua\n",
    "\n",
    "---"
   ]
  },
  {
   "cell_type": "markdown",
   "metadata": {},
   "source": [
    "## Overview\n",
    "\n",
    "<img src=\"images/climate.jpg\"/>\n",
    "\n",
    "Many companies are built around lessening one’s environmental impact or carbon footprint. They offer products and services that are environmentally friendly and sustainable, in line with their values and ideals. They would like to determine how people perceive climate change and whether or not they believe it is a real threat. This would add to their market research efforts in gauging how their product/service may be received.\n",
    "\n",
    "With this context, this notebook provides a walthrough the creation of a Machine Learning model that is able to classify whether or not a person believes in climate change, based on their novel tweet data.\n",
    "\n",
    "Providing an accurate and robust solution to this task gives companies access to a broad base of consumer sentiment, spanning multiple demographic and geographic categories - thus increasing their insights and informing future marketing strategies.\n",
    "\n",
    "---"
   ]
  },
  {
   "cell_type": "markdown",
   "metadata": {},
   "source": [
    "## Table of Contents     <a id=\"content\"></a>\n",
    "\n",
    "<a href=#1>1. Problem Statement </a>\n",
    "\n",
    "<a href=#1>2. Packages </a>\n",
    "\n",
    "<a href=#2>3. Loading Data</a>\n",
    "\n",
    "<a href=#4>4. Exploratory Data Analysis (EDA)</a>\n",
    "\n",
    "<a href=#5>5. Data Cleaning and Engineering</a>\n",
    "\n",
    "<a href=#6>6. Modeling and Evaluation</a>\n",
    "\n",
    "<a href=#7>7. Kaggle Submission </a>\n",
    "\n",
    "<a href=#8>8. Models Deployment </a>"
   ]
  },
  {
   "cell_type": "markdown",
   "metadata": {},
   "source": [
    "## 1.0 Problem Statement\n",
    "\n",
    "To build a robust Machine Learning Model that will be able to predict a person’s belief in Climate Change based on their tweet data, allowing companies to gain access into customer sentiment. <br ><br>"
   ]
  },
  {
   "cell_type": "markdown",
   "metadata": {},
   "source": [
    "## 2.0 Packages"
   ]
  },
  {
   "cell_type": "markdown",
   "metadata": {},
   "source": [
    "### 2.1. Installing Packages\n",
    "\n",
    "Aside the popular libraries for Machine learning like sklearn, pandas, matplotlib  and numpy, other libraries were used to provide different useful functionality to aid in the development of this project."
   ]
  },
  {
   "cell_type": "code",
   "execution_count": null,
   "metadata": {},
   "outputs": [],
   "source": [
    "!pip install comet_ml \n",
    "!pip install langdetect\n",
    "!pip install imblearn\n",
    "!pip install nltk"
   ]
  },
  {
   "cell_type": "markdown",
   "metadata": {},
   "source": [
    "- <a href=\"https://www.comet.ml/\"> comet</a> was used in this project to improve collaboration and control version by means of keeping track of all the stages of our project and using its registry as a source of secure storage. <br><br>\n",
    "\n",
    "- <a href=\"https://pypi.org/project/langdetect/\"> langdetect</a>  was used for detecting words in tweets which does not belong to the language of choice for this project; English. It can recognize about 55 languages. <br><br>\n",
    "\n",
    "- <a href=\"https://imbalanced-learn.org\"> imblearn</a> was used to generate synthetic data for handling the class imbalance in the tweet sentiment. <br><br>\n",
    "\n",
    "- <a href=\"https://www.nltk.org\"> nltk</a> was used for Natural language progressing. It contains methods which allows us to manipulate human language using python"
   ]
  },
  {
   "cell_type": "markdown",
   "metadata": {},
   "source": [
    "### 2.2 Importing Packages "
   ]
  },
  {
   "cell_type": "code",
   "execution_count": 2,
   "metadata": {},
   "outputs": [],
   "source": [
    "# Data loading and Text processing\n",
    "import numpy as np\n",
    "import pandas as pd\n",
    "import re\n",
    "import string\n",
    "import nltk\n",
    "from nltk.corpus import stopwords\n",
    "from sklearn.feature_extraction.text import CountVectorizer\n",
    "from nltk import tokenize\n",
    "from nltk.stem import WordNetLemmatizer\n",
    "from sklearn.feature_extraction.text import CountVectorizer\n",
    "from sklearn.feature_extraction.text import TfidfVectorizer\n",
    "\n",
    "# Data Visualisation\n",
    "import seaborn as sns\n",
    "import matplotlib.pyplot as plt\n",
    "\n",
    "# Modeling and Evaluation\n",
    "from sklearn.model_selection import train_test_split\n",
    "from sklearn.metrics import classification_report\n",
    "from sklearn.linear_model import RidgeClassifier\n",
    "from sklearn.ensemble import RandomForestClassifier\n",
    "from sklearn.tree import DecisionTreeClassifier\n",
    "from sklearn.ensemble import RandomForestClassifier, AdaBoostClassifier\n",
    "from sklearn.neighbors import KNeighborsClassifier\n",
    "from sklearn.svm import SVC\n",
    "from sklearn.linear_model import SGDClassifier\n",
    "from sklearn.naive_bayes import MultinomialNB\n",
    "from sklearn.neural_network import MLPClassifier\n",
    "from sklearn.linear_model import LogisticRegression\n",
    "from sklearn.metrics import precision_score, recall_score, f1_score, accuracy_score\n",
    "from sklearn.metrics import confusion_matrix\n",
    "\n",
    "#Resampling techniques\n",
    "from collections import Counter \n",
    "from sklearn.utils import resample\n",
    "from imblearn.over_sampling import SMOTE\n",
    "\n",
    "# Ignore warnings\n",
    "import warnings\n",
    "warnings.simplefilter(action='ignore')\n",
    "\n",
    "# deployment\n",
    "import pickle\n",
    "from comet_ml import Experiment"
   ]
  },
  {
   "cell_type": "markdown",
   "metadata": {},
   "source": [
    "### 2.3 Using Comet \n",
    "\n",
    "* Install Comet\n",
    "* Import Experiment from Comet\n",
    "* Create an experiment instance"
   ]
  },
  {
   "cell_type": "markdown",
<<<<<<< HEAD
   "id": "dcd035e5",
=======
>>>>>>> a953ab204ac8caa937dbfa0eb5e5114267381bcd
   "metadata": {},
   "source": [
    "### 2.4 Functions to create metrics and save an experiment"
   ]
  },
  {
   "cell_type": "code",
<<<<<<< HEAD
   "execution_count": 78,
   "id": "a30376fd",
=======
   "execution_count": 3,
>>>>>>> a953ab204ac8caa937dbfa0eb5e5114267381bcd
   "metadata": {},
   "outputs": [],
   "source": [
    "def get_metrics(y_pred, y_test):\n",
    "    metrics = {}\n",
    "    metrics['precision'] = precision_score(y_test, y_pred, average=None)\n",
    "    metrics['recall'] = recall_score(y_test, y_pred, average=None)\n",
    "    metrics['f1-score'] = f1_score(y_test, y_pred, average=None)\n",
    "    metrics['accuracy'] =  accuracy_score(y_test, y_pred)\n",
    "    return metrics"
   ]
  },
  {
   "cell_type": "markdown",
<<<<<<< HEAD
   "id": "0e7a5337",
=======
>>>>>>> a953ab204ac8caa937dbfa0eb5e5114267381bcd
   "metadata": {},
   "source": [
    "The get_metrics function will take in the predicted value and compares it with the actual value. Then returns a metric of its precision, recall, f1-score and accuracy. This function is usefull for saving the metrics from several experiments. <br><br>"
   ]
  },
  {
   "cell_type": "code",
<<<<<<< HEAD
   "execution_count": 55,
   "id": "0857cbac",
=======
   "execution_count": 4,
>>>>>>> a953ab204ac8caa937dbfa0eb5e5114267381bcd
   "metadata": {},
   "outputs": [],
   "source": [
    "def run_experiment(model, name, X_test, y_test):\n",
    "    experiment = Experiment(\n",
    "        api_key=\"pNVkV7OAISR026rbN4raEvcOb\",\n",
    "        project_name=\"ZF2_Classification_predict\",\n",
    "        workspace=\"joe-mugo\",\n",
    "    )\n",
    "    experiment.set_name(name)\n",
    "    \n",
    "    with experiment.validate():\n",
    "        y_pred = model.predict(X_test)\n",
    "        metrics = get_metrics(y_pred, y_test)\n",
    "        experiment.log_metrics(metrics)\n",
    "        experiment.log_confusion_matrix(y_test, y_pred)\n",
    "        \n",
    "    experiment.end()"
   ]
  },
  {
   "cell_type": "markdown",
<<<<<<< HEAD
   "id": "39bae1e4",
=======
>>>>>>> a953ab204ac8caa937dbfa0eb5e5114267381bcd
   "metadata": {},
   "source": [
    "The function creates an experiment and extracts the perfromance metrics using the get_metrics function. Then it logs and ends the experiment."
   ]
  },
  {
   "cell_type": "markdown",
   "metadata": {},
   "source": [
    "<br />\n",
    "\n",
    "## 3.0 Loading Data\n",
    "\n",
    "    \n",
    "\n",
    "For this project, Pandas library will be used to access and manipulate the datasets. Hence, The training and testing datasets are loaded from the `train` and `test_with_no_labels` csv files into df_train and df_test variables respectively using the pandas <a href=\"https://pandas.pydata.org/docs/reference/api/pandas.read_csv.html\"> read_csv</a> method. The read_csv method returns a <a href=\"https://pandas.pydata.org/pandas-docs/stable/reference/api/pandas.DataFrame.html\"> dataframe</a>."
   ]
  },
  {
   "cell_type": "code",
   "execution_count": 5,
   "metadata": {},
   "outputs": [],
   "source": [
    "# read train dataset\n",
    "df_train = pd.read_csv('data/train.csv')\n",
    "\n",
    "# read test dataset\n",
    "df_test = pd.read_csv('data/test_with_no_labels.csv')"
   ]
  },
  {
   "cell_type": "markdown",
   "metadata": {},
   "source": [
    "<br><br>\n",
    "## 4.0 Exploratory Data Analysis\n",
    "\n",
    "\n",
    "Exploratory data analysis is an approach to analyzing data sets to summarize their main characteristics, often with visual methods. Primarily, EDA is for seeing what the data can tell us beyond the formal modeling or hypothesis testing task.This approach for data analysis uses many tools(mainly graphical to maximize insight into a data set, extract important variables, detect outliers and anomalies, amongst other details that is missed when looking at DataFrame. This step is very important especially when we model the data in order to apply Machine Learning techniques."
   ]
  },
  {
   "cell_type": "markdown",
   "metadata": {},
   "source": [
    "### 4.1 Overview of the Training Dataset"
   ]
  },
  {
   "cell_type": "code",
   "execution_count": 6,
   "metadata": {},
   "outputs": [
    {
     "data": {
      "text/html": [
       "<div>\n",
       "<style scoped>\n",
       "    .dataframe tbody tr th:only-of-type {\n",
       "        vertical-align: middle;\n",
       "    }\n",
       "\n",
       "    .dataframe tbody tr th {\n",
       "        vertical-align: top;\n",
       "    }\n",
       "\n",
       "    .dataframe thead th {\n",
       "        text-align: right;\n",
       "    }\n",
       "</style>\n",
       "<table border=\"1\" class=\"dataframe\">\n",
       "  <thead>\n",
       "    <tr style=\"text-align: right;\">\n",
       "      <th></th>\n",
       "      <th>sentiment</th>\n",
       "      <th>message</th>\n",
       "      <th>tweetid</th>\n",
       "    </tr>\n",
       "  </thead>\n",
       "  <tbody>\n",
       "    <tr>\n",
       "      <th>0</th>\n",
       "      <td>1</td>\n",
       "      <td>PolySciMajor EPA chief doesn't think carbon di...</td>\n",
       "      <td>625221</td>\n",
       "    </tr>\n",
       "    <tr>\n",
       "      <th>1</th>\n",
       "      <td>1</td>\n",
       "      <td>It's not like we lack evidence of anthropogeni...</td>\n",
       "      <td>126103</td>\n",
       "    </tr>\n",
       "    <tr>\n",
       "      <th>2</th>\n",
       "      <td>2</td>\n",
       "      <td>RT @RawStory: Researchers say we have three ye...</td>\n",
       "      <td>698562</td>\n",
       "    </tr>\n",
       "    <tr>\n",
       "      <th>3</th>\n",
       "      <td>1</td>\n",
       "      <td>#TodayinMaker# WIRED : 2016 was a pivotal year...</td>\n",
       "      <td>573736</td>\n",
       "    </tr>\n",
       "    <tr>\n",
       "      <th>4</th>\n",
       "      <td>1</td>\n",
       "      <td>RT @SoyNovioDeTodas: It's 2016, and a racist, ...</td>\n",
       "      <td>466954</td>\n",
       "    </tr>\n",
       "  </tbody>\n",
       "</table>\n",
       "</div>"
      ],
      "text/plain": [
       "   sentiment                                            message  tweetid\n",
       "0          1  PolySciMajor EPA chief doesn't think carbon di...   625221\n",
       "1          1  It's not like we lack evidence of anthropogeni...   126103\n",
       "2          2  RT @RawStory: Researchers say we have three ye...   698562\n",
       "3          1  #TodayinMaker# WIRED : 2016 was a pivotal year...   573736\n",
       "4          1  RT @SoyNovioDeTodas: It's 2016, and a racist, ...   466954"
      ]
     },
     "execution_count": 6,
     "metadata": {},
     "output_type": "execute_result"
    }
   ],
   "source": [
    "df_train.head()"
   ]
  },
  {
   "cell_type": "markdown",
   "metadata": {},
   "source": [
    "To have a quick overview of the dataset, the pandas<a href=\"https://pandas.pydata.org/docs/reference/api/pandas.DataFrame.head.html?highlight=head#pandas.DataFrame.head\"> DataFrame.head </a> method was used to display the first five rows of the train dataset. It is immediately obvious that the dataset contains two predictors; message and tweetid with a target variable; sentiment. The message field also contains common tweet characters like # and @ tags.\n",
    "<br /><br />"
   ]
  },
  {
   "cell_type": "code",
   "execution_count": 7,
   "metadata": {},
   "outputs": [
    {
     "name": "stdout",
     "output_type": "stream",
     "text": [
      "<class 'pandas.core.frame.DataFrame'>\n",
      "RangeIndex: 15819 entries, 0 to 15818\n",
      "Data columns (total 3 columns):\n",
      " #   Column     Non-Null Count  Dtype \n",
      "---  ------     --------------  ----- \n",
      " 0   sentiment  15819 non-null  int64 \n",
      " 1   message    15819 non-null  object\n",
      " 2   tweetid    15819 non-null  int64 \n",
      "dtypes: int64(2), object(1)\n",
      "memory usage: 370.9+ KB\n"
     ]
    }
   ],
   "source": [
    "df_train.info()"
   ]
  },
  {
   "cell_type": "markdown",
   "metadata": {},
   "source": [
    "A little more exploration with the <a href=\"https://pandas.pydata.org/pandas-docs/stable/reference/api/pandas.DataFrame.info.html\"> DataFrame.info </a> method reveals that the dataset contains 15,819 entries with no null values. Hence, the shape of the dataset can be deduced to be (15819, 3) <br /><br />"
   ]
  },
  {
   "cell_type": "markdown",
   "metadata": {},
   "source": [
    "**Observations:**\n",
    "* The train datasets contains one categorical column called 'message'\n",
    "* The train dataset contains three columns; one categorical - 'message' and two numerical - 'sentiment and 'tweetid\n",
    "* Some tweets contain twitter handles (e.g @RawStory), numbers (e.g year 2016), hashtags (e.g #TodayinMaker# WIRED) and re-tweets (RT).\n",
    "* Some tweets contain names of ogarnisations, continents and countries.\n",
    "* New lines are represented by '\\n' in the tweet string."
   ]
  },
  {
   "cell_type": "markdown",
   "metadata": {},
   "source": [
    "### 4.2 Analysis  of the Sentiments"
   ]
  },
  {
   "cell_type": "markdown",
   "metadata": {},
   "source": [
    "#### 4.2.1 Sentiment Distribution"
   ]
  },
  {
   "cell_type": "code",
   "execution_count": 8,
   "metadata": {},
   "outputs": [
    {
     "data": {
      "text/plain": [
       " 1    8530\n",
       " 2    3640\n",
       " 0    2353\n",
       "-1    1296\n",
       "Name: sentiment, dtype: int64"
      ]
     },
     "execution_count": 8,
     "metadata": {},
     "output_type": "execute_result"
    }
   ],
   "source": [
    "# Count occurence of each class in training dataset\n",
    "category_counts = df_train['sentiment'].value_counts()\n",
    "category_counts"
   ]
  },
  {
   "cell_type": "markdown",
   "metadata": {},
   "source": [
    "There are four distinct Class labels present in the train data. Hence the the problem is a multi-class classification problem. \n",
    "  \n",
    "        Label   Sentiments    Description\n",
    "         2\t   News:         the tweet link to factual news about climate change\n",
    "         1       Pro:          the tweet supports the belief of man-made climate change\n",
    "         0\t   Neutral:      the tweet neither supports nor refutes the belief of man-made climate change\n",
    "        -1       Anti:         the tweet does not believe in man-made climate change"
   ]
  },
  {
   "cell_type": "markdown",
   "metadata": {},
   "source": [
    "#### 4.2.2 Sentiment Distribution (Visual Representation)"
   ]
  },
  {
   "cell_type": "code",
   "execution_count": 9,
   "metadata": {},
   "outputs": [
    {
     "data": {
      "image/png": "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\n",
      "text/plain": [
       "<Figure size 576x432 with 1 Axes>"
      ]
     },
     "metadata": {
      "needs_background": "light"
     },
     "output_type": "display_data"
    }
   ],
   "source": [
    "'''\n",
    "    Calculate the number of tweets per Sentiment \n",
    "    and plot the class distributions results\n",
    "'''\n",
    "\n",
    "fig, ax = plt.subplots(figsize = (8, 6))\n",
    "target =df_train['sentiment'].value_counts()\n",
    "sns.barplot(x=['Pro', 'News', 'Neutral', 'Anti'], y=target, ax=ax, palette=\"Blues_d\")\n",
    "plt.title('Class Distributions')\n",
    "plt.ylabel(\"Count\")\n",
    "plt.show()"
   ]
  },
  {
   "cell_type": "markdown",
   "metadata": {},
   "source": [
    "**Observations:**\n",
    "* The sum of the tweets relating to news,neutral and anti is less than half of the total tweets.\n",
    "* The distribution indicates that there is a class imbalance in the train dataset. The effect of this imbalance, if not attended to, is a model which performs very well at categorising samples of a particular category and fails at others. For an instance, a model built on this train data will perform well in categorising tweets which supports man-made climate change (Pro) but performs way lesser at classifying the Anti tweets.\n",
    "* The training dataset is skewed to the Pro sentiment category indicating a strong support for the belief of man-made climate change. <br><br>"
   ]
  },
  {
   "cell_type": "markdown",
   "metadata": {},
   "source": [
    "### 4.3 Analysis  of the Message feature"
   ]
  },
  {
   "cell_type": "markdown",
   "metadata": {},
   "source": [
    "From the overview of the data carried out prior, there are two features in the dataset; the message and tweetId features. The tweeteId is numerical while the message is object. The tweetid feature contains unique value for all samples. Hence will not be very useful for modelling. It will be beter off being dropped or being converted to the dataset index. This section contains an exploration of the message feature."
   ]
  },
  {
   "cell_type": "markdown",
   "metadata": {},
   "source": [
    "#### 4.3.1 Unique Words"
   ]
  },
  {
   "cell_type": "code",
   "execution_count": 10,
   "metadata": {},
   "outputs": [],
   "source": [
    " def create_bank_set(dataset, word=\"\", category=\"\"):\n",
    "    '''\n",
    "        Creates a list of all the words or characters in the message feature\n",
    "        \n",
    "        Input:\n",
    "            dataset - The dataset to extract words or characters from\n",
    "            category - Filters the dataset by the specified category\n",
    "            type - Specifies the level of extraction; wether characters or words\n",
    "        \n",
    "        Output:\n",
    "            pandas DataFrame of all the characters or words of the specified category \n",
    "    '''\n",
    "    corpus = []\n",
    "    if category:\n",
    "        df = dataset[dataset['sentiment'] == category]['message']\n",
    "    else:\n",
    "        df = dataset['message']\n",
    "    \n",
    "    if word:\n",
    "        bank = []\n",
    "        for row in df:\n",
    "            bank.extend(row.split(\" \"))\n",
    "    else:\n",
    "        bank = [row[x] for row in df for x in range(len(row))]\n",
    "        \n",
    "    return pd.DataFrame(bank)"
   ]
  },
  {
   "cell_type": "markdown",
   "metadata": {},
   "source": [
    "<br />\n",
    "Using the create_bank_set function to create a word bank for the entire train dataset"
   ]
  },
  {
   "cell_type": "code",
   "execution_count": 11,
   "metadata": {},
   "outputs": [
    {
     "name": "stdout",
     "output_type": "stream",
     "text": [
      "Total words: 278862 \n",
      "Unique words: 47968\n"
     ]
    }
   ],
   "source": [
    "words = create_bank_set(df_train, word=True)\n",
    "total_words = len(words[0])\n",
    "count_unique = len(words[0].unique())\n",
    "print(\"Total words: {} \\nUnique words: {}\".format(total_words, count_unique))"
   ]
  },
  {
   "cell_type": "markdown",
   "metadata": {},
   "source": [
    "There are about 48,000 total words in the unprocessed train dataset. Considering that there are 15,819 total number of tweets, it can be deduced that each tweet will only contain on the average 47,968 / 15,189 = 3.158 unique word."
   ]
  },
  {
   "cell_type": "markdown",
   "metadata": {},
   "source": [
    "#### 4.3.2 Words Popularity"
   ]
  },
  {
   "cell_type": "code",
   "execution_count": 12,
   "metadata": {},
   "outputs": [
    {
     "data": {
      "image/png": "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\n",
      "text/plain": [
       "<Figure size 1080x720 with 4 Axes>"
      ]
     },
     "metadata": {
      "needs_background": "light"
     },
     "output_type": "display_data"
    }
   ],
   "source": [
    "# Distribution of words per Class\n",
    "fig, ax = plt.subplots(2,2, figsize=(15,10))\n",
    "categories = [1, 2, 0, -1]\n",
    "labels = ['Pro', 'News', 'Neutral', 'Anti']\n",
    "\n",
    "pos_x = 0\n",
    "pos_y = 0 \n",
    "\n",
    "for i, category in enumerate(categories):\n",
    "    if i > 1:\n",
    "        pos_x = 1\n",
    "        \n",
    "    pos_y = i % 2\n",
    "    \n",
    "    data = create_bank_set(df_train, word=True, category=category)\n",
    "    data = data[0].value_counts().head(10)\n",
    "    sns.barplot(x=data, y=data.index, ax=ax[pos_x][pos_y], palette=\"Blues_d\")\n",
    "    ax[pos_x][pos_y].set_ylabel(\"Count\")\n",
    "    ax[pos_x][pos_y].set_title(\"Most Popular words in \" + str(labels[i]) + \" tweets\")\n",
    "    ax[pos_x][pos_y].set_xlabel(\"Words\")\n",
    "    \n",
    "plt.subplots_adjust(left=0.1,\n",
    "                    bottom=0.1, \n",
    "                    right=0.9, \n",
    "                    top=0.9, \n",
    "                    wspace=0.4, \n",
    "                    hspace=0.4)\n",
    "plt.show()"
   ]
  },
  {
   "cell_type": "markdown",
   "metadata": {},
   "source": [
    "The graphs above showcase the evidence of noise. A lot of stop words are picked up as being important which include: (the, to, and, also of). Also, in the graph labeled popular for news tweets, there is a punctuation (a dash -) picked up as an important word. \n",
    "\n",
    "<a href=\"https://medium.com/@saitejaponugoti/stop-words-in-nlp-5b248dadad47\"> Stop words </a> are very common words that don’t have a lot of meaning or words that can be safely ignored without sacrificing the meaning of a text like this, that, or etc. From the above distribution, in addition to the obvious stop words, tweets from the different classes appear to contain similar wordings like Climate, change, RT, and global. These words usually will not be considered as stop words but in this case, since they appear the most frequent in almost all the categories, they will behave more like stop words, providing little or no information to our model. Hence, a consideration to drop such common words. <br /><br />"
   ]
  },
  {
   "cell_type": "markdown",
   "metadata": {},
   "source": [
    "#### 4.3.2 Mention Analysis"
   ]
  },
  {
   "cell_type": "markdown",
   "metadata": {},
   "source": [
    "A mention is a tweet that contains another person's username anywhere in the body of the tweet. We collect these messages, as well as all the replies including mentions of multiple usernames in a tweet. All those mentioned will see any tweet in which they are mentioned."
   ]
  },
  {
   "cell_type": "code",
   "execution_count": 13,
   "metadata": {},
   "outputs": [
    {
     "data": {
      "image/png": "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\n",
      "text/plain": [
       "<Figure size 4320x720 with 1 Axes>"
      ]
     },
     "metadata": {
      "needs_background": "light"
     },
     "output_type": "display_data"
    }
   ],
   "source": [
    "\"\"\"calculate the number of mentions for each sentiment in a tweet\"\"\"\n",
    "\n",
    "train1 = df_train.copy()\n",
    "# mention count \n",
    "train1['mentions'] = df_train['message'].apply(lambda x: len([i for i in str(x) if i == '@']))\n",
    "\n",
    "#plot the number of mentions\n",
    "plt.subplot(1,3,3)\n",
    "sns.boxplot(y='mentions', x='sentiment', data=train1, palette=\"Blues_d\")\n",
    "plt.title('Number of mentions')\n",
    "plt.ylabel('')\n",
    "plt.xlabel('')\n",
    "fig = plt.gcf()\n",
    "fig.set_size_inches(60, 10)\n",
    "\n",
    "plt.show()"
   ]
  },
  {
   "cell_type": "markdown",
   "metadata": {},
   "source": [
    " **Observation:**\n",
    "\n",
    "The Anti and pro setiments seem to have the most mentions per tweet; most of the tweets have atleast one mention as compared to the news and Neutral sentiment classes which have most tweets either having or not having a mention since their avarage mentions per tweet lies between 0.5. Although, expectations would have been that the news class will hold more mentions. "
   ]
  },
  {
   "cell_type": "markdown",
   "metadata": {},
   "source": [
    "#### 4.3.3. Hashtags Analysis\n",
    "\n",
    "People use the hashtag symbol (#) before a relevant keyword or phrase in their Tweet to categorize those Tweets and help them show more easily in Twitter search. Clicking or tapping on a hashtagged word in any message shows you other Tweets that include that hashtag. Hashtags can be included anywhere in a Tweet"
   ]
  },
  {
   "cell_type": "code",
   "execution_count": 14,
   "metadata": {},
   "outputs": [],
   "source": [
    "# Creating a function to extract hashtags from tweets\n",
    "\n",
    "def extract_hashtags(x):\n",
    "    hashtags = []\n",
    "    for i in x:\n",
    "        ht = re.findall(r'#(\\w+)', i)\n",
    "        hashtags.append(ht)\n",
    "        \n",
    "    return hashtags"
   ]
  },
  {
   "cell_type": "code",
   "execution_count": 15,
   "metadata": {},
   "outputs": [
    {
     "data": {
      "image/png": "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\n",
      "text/plain": [
       "<Figure size 1080x720 with 4 Axes>"
      ]
     },
     "metadata": {
      "needs_background": "light"
     },
     "output_type": "display_data"
    }
   ],
   "source": [
    "# Extracting hashtags from tweets\n",
    "news_h = extract_hashtags(df_train['message']\n",
    "                              [df_train['sentiment'] == 2])\n",
    "pro_h = extract_hashtags(df_train['message']\n",
    "                          [df_train['sentiment'] == 1])\n",
    "neutral_h = extract_hashtags(df_train['message']\n",
    "                              [df_train['sentiment'] == 0])\n",
    "anti_h = extract_hashtags(df_train['message']\n",
    "                          [df_train['sentiment'] == -1])\n",
    "\n",
    "# hashtag list\n",
    "hashtags = [sum(news_h, []), sum(pro_h, []),\n",
    "            sum(neutral_h, []),sum(anti_h, [])]\n",
    "            \n",
    "# Distribution of words per Class\n",
    "fig, ax = plt.subplots(2,2, figsize=(15,10))\n",
    "categories = [1, 2, 0, -1]\n",
    "labels = ['Pro', 'News', 'Neutral', 'Anti']\n",
    "\n",
    "pos_x = 0\n",
    "pos_y = 0 \n",
    "\n",
    "for i, sent in enumerate(hashtags):\n",
    "    if i > 1:\n",
    "        pos_x = 1\n",
    "        \n",
    "    pos_y = i % 2\n",
    "            \n",
    "    freq_dist = nltk.FreqDist(sent)\n",
    "    df = pd.DataFrame({'Hashtag': list(freq_dist.keys()),\n",
    "                      'Count' : list(freq_dist.values())})\n",
    "\n",
    "    df = df.nlargest(columns='Count', n=15)\n",
    "            \n",
    "    sns.barplot(data=df, y='Hashtag', x='Count', palette=\"Blues_d\", ax=ax[pos_x][pos_y])\n",
    "    ax[pos_x][pos_y].set_ylabel(\"Hastags\")\n",
    "    ax[pos_x][pos_y].set_title(\"Hashtags on the \" + labels[i] + \" sentiment\")\n",
    "    ax[pos_x][pos_y].set_xlabel(\"Frequency\")\n",
    "    \n",
    "    \n",
    "    \n",
    "plt.subplots_adjust(left=0.1,\n",
    "                    bottom=0.1, \n",
    "                    right=0.9, \n",
    "                    top=0.9, \n",
    "                    wspace=0.4, \n",
    "                    hspace=0.4)\n",
    "plt.show()"
   ]
  },
  {
   "cell_type": "markdown",
   "metadata": {},
   "source": [
    "**Observation:**\n",
    "\n",
    "* We can see that the top 5 hashtags have similar words like Climate, climate change, Trump and Before the flood\n",
    "* Before the flood is a popular hashtags used in pro climate change tweets, this refers to a 2016 documentary where actor Leonardo DiCaprio meets with scientists, activists and world leaders to discuss the dangers of climate change and possible solutions.\n",
    "* In the anti climate change tweets MAGA (Make America great again) is the top popular hashtag. It is a slogan that was often used by Donald Trump during his campaign for elections in 2016. This soon became a trending hashtag to use to show support for Donald Trump., "
   ]
  },
  {
   "cell_type": "markdown",
   "metadata": {},
   "source": [
    "#### 4.3.4. Retweets Analysis\n",
    "\n",
    "Another very popular words in all the classes is the RT which stands for retweet. Twitter allows a user to retweet, or RT another users tweets. This is great for creating trends, but not useful for sentiment analysis. Now we will remove the duplicates to get a clearer picture of our data set. <br><br>"
   ]
  },
  {
   "cell_type": "code",
   "execution_count": 16,
   "metadata": {},
   "outputs": [
    {
     "data": {
      "image/png": "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\n",
      "text/plain": [
       "<Figure size 720x504 with 1 Axes>"
      ]
     },
     "metadata": {
      "needs_background": "light"
     },
     "output_type": "display_data"
    }
   ],
   "source": [
    "# Class distribution for set of retweeted-tweets and set without retweets\n",
    "plt.figure(figsize = (10,7))\n",
    "train1['retweet'] = train1['message'].apply(lambda tweet: 1 if tweet.startswith('RT @') else 0)\n",
    "sns.countplot(x='retweet', data=train1, palette='Blues_d', hue='sentiment')\n",
    "plt.title('Number of Retweets Per Sentiment Class',fontsize=14)\n",
    "plt.xlabel('Retweet')\n",
    "plt.ylabel('Count')\n",
    "plt.legend(title='Class')\n",
    "plt.show()"
   ]
  },
  {
   "cell_type": "markdown",
   "metadata": {},
   "source": [
    "**Observations:**\n",
    "\n",
    "* The pro sentiment has about 6000 retweets as compared to the about its 3000 tweets. The retweets are twice the number of tweets\n",
    "\n",
    "* Other class have the retweet almost equal to the number of actual tweets\n",
    "\n",
    "* This indicates a relative higher support ratio for the pro sentiment"
   ]
  },
  {
   "cell_type": "markdown",
   "metadata": {},
   "source": [
    "#### 4.3.5. URL Analysis\n",
    "\n",
    "There are also URL related words occuring frequently as indicated by the distribution of words. This section seeks to explore if links are more peculiar to some classes than others.<br><br>"
   ]
  },
  {
   "cell_type": "code",
   "execution_count": 17,
   "metadata": {},
   "outputs": [
    {
     "data": {
      "image/png": "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\n",
      "text/plain": [
       "<Figure size 2160x504 with 1 Axes>"
      ]
     },
     "metadata": {
      "needs_background": "light"
     },
     "output_type": "display_data"
    }
   ],
   "source": [
    "# extracting urls\n",
    "train1['urls'] = train1['message'].apply(lambda x: len([i for i in x.lower().split() if 'http' in i or 'https' in i]))\n",
    "\n",
    "# ploting the number of urls\n",
    "plt.subplot(1,3,3)\n",
    "sns.boxplot(y='urls', x='sentiment', data=train1, palette=\"Blues_d\")\n",
    "plt.title('Number of urls')\n",
    "plt.ylabel('')\n",
    "plt.xlabel('')\n",
    "fig = plt.gcf()\n",
    "fig.set_size_inches( 30, 7)\n",
    "\n",
    "plt.show()"
   ]
  },
  {
   "cell_type": "markdown",
   "metadata": {},
   "source": [
    "**Observation**:\n",
    "There is not much difference between the number of urls in each setiment. Although, as expected, most tweets in the pro sentiment contain atleast a link while the other classes either have or do not. Generally, links can not be attributed to a particular sentiment."
   ]
  },
  {
   "cell_type": "markdown",
   "metadata": {},
   "source": [
    "#### 4.3.5. Twitter Handles Analysis\n",
    "\n",
    "A Twitter handle is the username that appears at the end of your unique Twitter URL. Twitter handles appear after the @ sign in your profile URL and it must be unique to your account. A Twitter name, on the other hand, is simply there to help people find the company they're looking for."
   ]
  },
  {
   "cell_type": "code",
   "execution_count": 18,
   "metadata": {},
   "outputs": [],
   "source": [
    "# Creating a function to extract handles from tweets\n",
    "def extract_handles(x):\n",
    "    handles = []\n",
    "    for i in x:\n",
    "        h = re.findall(r'@(\\w+)', i)\n",
    "        handles.append(h)\n",
    "        \n",
    "    return handles"
   ]
  },
  {
   "cell_type": "code",
   "execution_count": 19,
   "metadata": {},
   "outputs": [
    {
     "data": {
      "image/png": "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\n",
      "text/plain": [
       "<Figure size 1080x720 with 4 Axes>"
      ]
     },
     "metadata": {
      "needs_background": "light"
     },
     "output_type": "display_data"
    }
   ],
   "source": [
    "# Extracting handles from tweets\n",
    "news_h = extract_handles(df_train['message']\n",
    "                              [df_train['sentiment'] == 2])\n",
    "pro_h = extract_handles(df_train['message']\n",
    "                          [df_train['sentiment'] == 1])\n",
    "neutral_h = extract_handles(df_train['message']\n",
    "                              [df_train['sentiment'] == 0])\n",
    "anti_h = extract_handles(df_train['message']\n",
    "                          [df_train['sentiment'] == -1])\n",
    "\n",
    "# handle lists \n",
    "handles = [sum(news_h, []), sum(pro_h, []), sum(neutral_h, []),\n",
    "           sum(anti_h, [])]\n",
    "\n",
    "# Distribution of words per Class\n",
    "fig, ax = plt.subplots(2,2, figsize=(15,10))\n",
    "categories = [1, 2, 0, -1]\n",
    "labels = ['Pro', 'News', 'Neutral', 'Anti']\n",
    "\n",
    "pos_x = 0\n",
    "pos_y = 0 \n",
    "\n",
    "plt.rcParams['figure.figsize'] = [50, 5]\n",
    "\n",
    "for i, sent in enumerate(handles):\n",
    "    if i > 1:\n",
    "        pos_x = 1\n",
    "        \n",
    "    pos_y = i % 2\n",
    "   \n",
    "    freq_dist = nltk.FreqDist(sent)\n",
    "    df = pd.DataFrame({'Handle': list(freq_dist.keys()),\n",
    "                      'Count' : list(freq_dist.values())})\n",
    "\n",
    "    df = df.nlargest(columns='Count', n=15)\n",
    "\n",
    "    sns.barplot(data=df, y='Handle', x='Count', palette='Blues_d', ax=ax[pos_x][pos_y])\n",
    "    ax[pos_x][pos_y].set_ylabel(\"Handles\")\n",
    "    ax[pos_x][pos_y].set_title(\"Twitter Handles on the \" + labels[i] + \" sentiment\")\n",
    "    ax[pos_x][pos_y].set_xlabel(\"Frequency\")\n",
    "\n",
    "plt.subplots_adjust(left=0.1,\n",
    "                    bottom=0.1, \n",
    "                    right=0.9, \n",
    "                    top=0.9, \n",
    "                    wspace=0.4, \n",
    "                    hspace=0.4)\n",
    "\n",
    "plt.show()"
   ]
  },
  {
   "cell_type": "markdown",
   "metadata": {},
   "source": [
    "**Observations**\n",
    "\n",
    "From the Visuals above we can all that ...\n",
    "* The most popular News handles are actual news broadcaster accounts\n",
    "* The most popular Pro handles seem to be celebrity accounts & news accounts.\n",
    "* Trump features most for most popular Anti & Neutral tweets."
   ]
  },
  {
   "cell_type": "markdown",
   "metadata": {},
   "source": [
    "## 5.0 Data Cleaning and Engineering\n",
    "\n",
    "\n",
    "In this section, the recommendations from the exploratory data analysis phase is implemented. The dataset was cleaned and features engineered from the message field."
   ]
  },
  {
   "cell_type": "markdown",
   "metadata": {},
   "source": [
    "### 5.1 Text Cleaning\n",
    "\n",
    "The dataset contains punctuations, links, emojis and twitter specific characters like @ and # symbols. Words also exist in different cases which models might translate and different. Hence, the proceeding function performs cleaning by:\n",
    "- Changing the Case of the words\n",
    "- Remove punctuations\n",
    "- Remove links\n",
    "- Remove emojis"
   ]
  },
  {
   "cell_type": "code",
   "execution_count": 20,
   "metadata": {},
   "outputs": [],
   "source": [
    "def clean_data(text):\n",
    "    # change the case of all the words in the text to lowercase \n",
    "    text = text.lower()\n",
    "    \n",
    "    # Remove links from the text\n",
    "    url = re.compile(r'https?://\\S+|www\\.\\S+')\n",
    "    text =  url.sub(r'', text)\n",
    "    \n",
    "    # remove punctuation\n",
    "    text = \"\".join([x for x in text if x not in string.punctuation])\n",
    "    \n",
    "    # Remove Emojis - Emoji Reference : https://gist.github.com/slowkow/7a7f61f495e3dbb7e3d767f97bd7304b\n",
    "    emoji_pattern = re.compile(\"[\"\n",
    "                           u\"\\U0001F600-\\U0001F64F\"  # emoticons\n",
    "                           u\"\\U0001F300-\\U0001F5FF\"  # symbols & pictographs\n",
    "                           u\"\\U0001F680-\\U0001F6FF\"  # transport & map symbols\n",
    "                           u\"\\U0001F1E0-\\U0001F1FF\"  # flags (iOS)\n",
    "                           u\"\\U00002702-\\U000027B0\"\n",
    "                           u\"\\U000024C2-\\U0001F251\"\n",
    "                           \"]+\", flags=re.UNICODE)\n",
    "    text = emoji_pattern.sub(r'', text)\n",
    "    \n",
    "    '''# Correct mispelt word\n",
    "    spelling = SpellChecker()\n",
    "    correct_text = []\n",
    "    misspelt_words = spelling.unknown(text.split())\n",
    "    for word in text.split():\n",
    "        if word in misspelt_words:\n",
    "            correct_text.append(spelling.correction(word))\n",
    "        else:\n",
    "            correct_text.append(word)\n",
    "    text = \" \".join(correct_text)'''\n",
    "    \n",
    "    return text"
   ]
  },
  {
   "cell_type": "markdown",
   "metadata": {},
   "source": [
    "The clean_data function accepts a row of text and returns a string with the punctuations, emojis and links removed including changing the case and correcting misspelt words. <br><br>  "
   ]
  },
  {
   "cell_type": "code",
   "execution_count": 21,
   "metadata": {},
   "outputs": [
    {
     "data": {
      "text/html": [
       "<div>\n",
       "<style scoped>\n",
       "    .dataframe tbody tr th:only-of-type {\n",
       "        vertical-align: middle;\n",
       "    }\n",
       "\n",
       "    .dataframe tbody tr th {\n",
       "        vertical-align: top;\n",
       "    }\n",
       "\n",
       "    .dataframe thead th {\n",
       "        text-align: right;\n",
       "    }\n",
       "</style>\n",
       "<table border=\"1\" class=\"dataframe\">\n",
       "  <thead>\n",
       "    <tr style=\"text-align: right;\">\n",
       "      <th></th>\n",
       "      <th>sentiment</th>\n",
       "      <th>message</th>\n",
       "      <th>tweetid</th>\n",
       "    </tr>\n",
       "  </thead>\n",
       "  <tbody>\n",
       "    <tr>\n",
       "      <th>0</th>\n",
       "      <td>1</td>\n",
       "      <td>polyscimajor epa chief doesnt think carbon dio...</td>\n",
       "      <td>625221</td>\n",
       "    </tr>\n",
       "    <tr>\n",
       "      <th>1</th>\n",
       "      <td>1</td>\n",
       "      <td>its not like we lack evidence of anthropogenic...</td>\n",
       "      <td>126103</td>\n",
       "    </tr>\n",
       "    <tr>\n",
       "      <th>2</th>\n",
       "      <td>2</td>\n",
       "      <td>rt rawstory researchers say we have three year...</td>\n",
       "      <td>698562</td>\n",
       "    </tr>\n",
       "    <tr>\n",
       "      <th>3</th>\n",
       "      <td>1</td>\n",
       "      <td>todayinmaker wired  2016 was a pivotal year in...</td>\n",
       "      <td>573736</td>\n",
       "    </tr>\n",
       "    <tr>\n",
       "      <th>4</th>\n",
       "      <td>1</td>\n",
       "      <td>rt soynoviodetodas its 2016 and a racist sexis...</td>\n",
       "      <td>466954</td>\n",
       "    </tr>\n",
       "  </tbody>\n",
       "</table>\n",
       "</div>"
      ],
      "text/plain": [
       "   sentiment                                            message  tweetid\n",
       "0          1  polyscimajor epa chief doesnt think carbon dio...   625221\n",
       "1          1  its not like we lack evidence of anthropogenic...   126103\n",
       "2          2  rt rawstory researchers say we have three year...   698562\n",
       "3          1  todayinmaker wired  2016 was a pivotal year in...   573736\n",
       "4          1  rt soynoviodetodas its 2016 and a racist sexis...   466954"
      ]
     },
     "execution_count": 21,
     "metadata": {},
     "output_type": "execute_result"
    }
   ],
   "source": [
    "# Clean the train dataset\n",
    "df_train['message'] = df_train['message'].apply(clean_data)\n",
    "\n",
    "# Clean the test dataset\n",
    "df_test['message'] = df_test['message'].apply(clean_data)\n",
    "\n",
    "df_train.head()"
   ]
  },
  {
   "cell_type": "markdown",
   "metadata": {},
   "source": [
    "### 5.2 Drop TweetId feature\n",
    "\n",
    "The tweetId feature contains unique values across the feature. Hence, it will contribute little or nothing to the accuracy of the model. While weighing down the model in terms of computational cost."
   ]
  },
  {
   "cell_type": "code",
   "execution_count": 22,
   "metadata": {},
   "outputs": [],
   "source": [
    "def drop_unwanted(dataframe, unwanted_features):\n",
    "    df = dataframe.drop(unwanted_features,  axis='columns')\n",
    "    return df"
   ]
  },
  {
   "cell_type": "code",
   "execution_count": 23,
   "metadata": {},
   "outputs": [
    {
     "data": {
      "text/html": [
       "<div>\n",
       "<style scoped>\n",
       "    .dataframe tbody tr th:only-of-type {\n",
       "        vertical-align: middle;\n",
       "    }\n",
       "\n",
       "    .dataframe tbody tr th {\n",
       "        vertical-align: top;\n",
       "    }\n",
       "\n",
       "    .dataframe thead th {\n",
       "        text-align: right;\n",
       "    }\n",
       "</style>\n",
       "<table border=\"1\" class=\"dataframe\">\n",
       "  <thead>\n",
       "    <tr style=\"text-align: right;\">\n",
       "      <th></th>\n",
       "      <th>sentiment</th>\n",
       "      <th>message</th>\n",
       "    </tr>\n",
       "  </thead>\n",
       "  <tbody>\n",
       "    <tr>\n",
       "      <th>0</th>\n",
       "      <td>1</td>\n",
       "      <td>polyscimajor epa chief doesnt think carbon dio...</td>\n",
       "    </tr>\n",
       "    <tr>\n",
       "      <th>1</th>\n",
       "      <td>1</td>\n",
       "      <td>its not like we lack evidence of anthropogenic...</td>\n",
       "    </tr>\n",
       "    <tr>\n",
       "      <th>2</th>\n",
       "      <td>2</td>\n",
       "      <td>rt rawstory researchers say we have three year...</td>\n",
       "    </tr>\n",
       "    <tr>\n",
       "      <th>3</th>\n",
       "      <td>1</td>\n",
       "      <td>todayinmaker wired  2016 was a pivotal year in...</td>\n",
       "    </tr>\n",
       "    <tr>\n",
       "      <th>4</th>\n",
       "      <td>1</td>\n",
       "      <td>rt soynoviodetodas its 2016 and a racist sexis...</td>\n",
       "    </tr>\n",
       "  </tbody>\n",
       "</table>\n",
       "</div>"
      ],
      "text/plain": [
       "   sentiment                                            message\n",
       "0          1  polyscimajor epa chief doesnt think carbon dio...\n",
       "1          1  its not like we lack evidence of anthropogenic...\n",
       "2          2  rt rawstory researchers say we have three year...\n",
       "3          1  todayinmaker wired  2016 was a pivotal year in...\n",
       "4          1  rt soynoviodetodas its 2016 and a racist sexis..."
      ]
     },
     "execution_count": 23,
     "metadata": {},
     "output_type": "execute_result"
    }
   ],
   "source": [
    "# drop tweetid from train dataset\n",
    "df_train = drop_unwanted(df_train, ['tweetid'])\n",
    "\n",
    "# Reserve tweetid for prediction\n",
    "test_tweet_id = df_test['tweetid']\n",
    "\n",
    "# drop tweetid from test dataset\n",
    "df_test = drop_unwanted(df_test, ['tweetid'])\n",
    "\n",
    "# view snapshot\n",
    "df_train.head()"
   ]
  },
  {
   "cell_type": "markdown",
   "metadata": {},
   "source": [
    "### 5.3 Text Tokenization\n",
    "\n",
    "In this section, the message feature was tokenized (each message was broken down into list of words) using the nltk RegexTokenizer."
   ]
  },
  {
   "cell_type": "code",
   "execution_count": 24,
   "metadata": {},
   "outputs": [],
   "source": [
    "def tokenize_data(text):\n",
    "    tokenizer = tokenize.RegexpTokenizer(r'\\w+')\n",
    "    return tokenizer.tokenize(text)"
   ]
  },
  {
   "cell_type": "markdown",
   "metadata": {},
   "source": [
    "The function above takes a row of text and return a list of each word in the text. <br /><br />"
   ]
  },
  {
   "cell_type": "code",
   "execution_count": 25,
   "metadata": {},
   "outputs": [
    {
     "data": {
      "text/plain": [
       "0    [polyscimajor, epa, chief, doesnt, think, carb...\n",
       "1    [its, not, like, we, lack, evidence, of, anthr...\n",
       "2    [rt, rawstory, researchers, say, we, have, thr...\n",
       "3    [todayinmaker, wired, 2016, was, a, pivotal, y...\n",
       "4    [rt, soynoviodetodas, its, 2016, and, a, racis...\n",
       "Name: message, dtype: object"
      ]
     },
     "execution_count": 25,
     "metadata": {},
     "output_type": "execute_result"
    }
   ],
   "source": [
    "# Tokenize the train dataset\n",
    "df_train['message'] = df_train['message'].apply(tokenize_data)\n",
    "\n",
    "# Tokenize the test dataset\n",
    "df_test['message'] = df_test['message'].apply(tokenize_data)\n",
    "\n",
    "df_train['message'].head()"
   ]
  },
  {
   "cell_type": "markdown",
   "metadata": {},
   "source": [
    "### 5.4 Stop words Removal\n",
    "\n",
    "Stop words from the message feature are removed using the defined function remove_stop_words. <br ><br >"
   ]
  },
  {
   "cell_type": "code",
   "execution_count": 26,
   "metadata": {},
   "outputs": [],
   "source": [
    "def remove_stop_words(list_of_words):\n",
    "    # The function takes a list of words and filter out the stop words\n",
    "    words = [word for word in list_of_words if word not in stopwords.words('english')]\n",
    "    return words"
   ]
  },
  {
   "cell_type": "code",
   "execution_count": 27,
   "metadata": {},
   "outputs": [],
   "source": [
    "# Remove stop words from train dataset\n",
    "df_train['message'] = df_train['message'].apply(remove_stop_words)\n",
    "\n",
    "# Remove stop words from test dataset\n",
    "df_test['message'] = df_test['message'].apply(remove_stop_words)"
   ]
  },
  {
   "cell_type": "markdown",
   "metadata": {},
   "source": [
    "### 5.5 Lemmatization \n",
    "\n",
    "English words have different variants. cats and cat are variants of cat. Lemmatization will ensure that all variants of a word map to the same root word. ALthough, an alternative to lemmatization is stemming. Stemming will remove the suffix of words and does not necessarily return English words. Hence, Lematization is preffered in this instance."
   ]
  },
  {
   "cell_type": "code",
   "execution_count": 28,
   "metadata": {},
   "outputs": [],
   "source": [
    "def lemmatize_words(list_of_words):\n",
    "    lemmatizer = WordNetLemmatizer()\n",
    "    return [lemmatizer.lemmatize(x) for x in list_of_words]"
   ]
  },
  {
   "cell_type": "code",
   "execution_count": 29,
   "metadata": {},
   "outputs": [],
   "source": [
    "# lemmatize train set\n",
    "df_train['message'] = df_train['message'].apply(lemmatize_words)\n",
    "\n",
    "# lemmatize test set\n",
    "df_test['message'] = df_test['message'].apply(lemmatize_words)"
   ]
  },
  {
   "cell_type": "markdown",
   "metadata": {},
   "source": [
    "After the lemmatization, we join the tokenized words together. This is to enable us create features from the field."
   ]
  },
  {
   "cell_type": "code",
   "execution_count": 30,
   "metadata": {},
   "outputs": [],
   "source": [
    "#Join all the words in the message field\n",
    "df_train['message'] = df_train['message'].apply(lambda x: \" \".join(x))\n",
    "df_test['message'] = df_test['message'].apply(lambda x: \" \".join(x))"
   ]
  },
  {
   "cell_type": "markdown",
   "metadata": {},
   "source": [
    "### 5.6 Features Extraction \n",
    "\n",
    "To create a model, there is a need to have a set of feature(s) and target. Most models only accept numerical values for feature sets. For this project, our feature is a string of words. Hence there is a need to create vectors of digits from these words. The process is called Vectorization.\n",
    "\n",
    "For this project we define a vectorizer with the following tuning\n",
    "- stop_words = 'english'\n",
    "- ngram_range = (1, 2)\n",
    "- max_df = 0.5\n",
    "- min_df = 1"
   ]
  },
  {
   "cell_type": "code",
   "execution_count": 31,
   "metadata": {},
   "outputs": [],
   "source": [
    "def vectorize_data(train, test):\n",
    "    vectorizer = TfidfVectorizer(stop_words='english',\n",
    "                                 min_df=1,\n",
    "                                 ngram_range=(1, 2),\n",
    "                                 max_df = 0.5)\n",
    "    train_data = vectorizer.fit_transform(train)\n",
    "    test_data = vectorizer.transform(test)\n",
    "    return train_data, test_data, vectorizer"
   ]
  },
  {
   "cell_type": "code",
   "execution_count": 32,
   "metadata": {},
   "outputs": [],
   "source": [
    "#vectorize the train and test dataset\n",
    "train_data, test_data, vectorizer = vectorize_data(df_train['message'], df_test['message'])\n",
    "\n",
    "#pickle the vectorizer into the resources folder\n",
    "with open('resources/vectorizer.pkl', 'wb') as fh:\n",
    "   pickle.dump(vectorizer, fh)"
   ]
  },
  {
   "cell_type": "markdown",
   "metadata": {},
   "source": [
    "### 5.7 Spliting Train Dataset \n",
    "\n",
    "To properly assess a model, we need to assess the model on data which it has not seen before. Hence, there is a need to split the training dataset into two different datasets; the training dataset - which will be used to train a model and the validation set - which will be used to measure the performance of the model. "
   ]
  },
  {
   "cell_type": "code",
   "execution_count": 33,
   "metadata": {},
   "outputs": [],
   "source": [
    "train_x, validation_x, train_y, validation_y = train_test_split(train_data, df_train['sentiment'], test_size=0.2,  random_state=20)"
   ]
  },
  {
   "cell_type": "code",
   "execution_count": 34,
   "metadata": {},
   "outputs": [
    {
     "name": "stdout",
     "output_type": "stream",
     "text": [
      "(12655, 105665)\n",
      "(3164, 105665)\n",
      "(12655,)\n",
      "(3164,)\n"
     ]
    }
   ],
   "source": [
    "print(train_x.shape)\n",
    "print(validation_x.shape)\n",
    "print(train_y.shape)\n",
    "print(validation_y.shape)"
   ]
  },
  {
   "cell_type": "markdown",
   "metadata": {},
   "source": [
    "### 5.8 Feature Selection\n",
    "\n",
    "The test and train dataset contains a large number of features, 105,665 features precisely. Performance wise, not all of these features will make a positive performance difference on the model. Although, they can have negative impact in terms of computational cost and performance.  It is therefore imperative to select features which contirbutes positively to the result of the model. For these project, the KBest method of features selection was implemented."
   ]
  },
  {
   "cell_type": "code",
   "execution_count": 35,
   "metadata": {},
   "outputs": [],
   "source": [
    "# Import the feature selector module\n",
    "from sklearn import feature_selection\n",
    "from sklearn.feature_selection import f_classif\n",
    "\n",
    "# Set up selector, choosing score function and number of features to retain\n",
    "selector_kbest = feature_selection.SelectKBest(score_func=f_classif, k=95000)\n",
    "\n",
    "# Transform (i.e.: run selection on) the training data\n",
    "train_x_new = selector_kbest.fit_transform(train_x, train_y)\n",
    "valid_x_new = selector_kbest.transform(validation_x)\n",
    "all_train_new = selector_kbest.transform(train_data)\n",
    "all_test_new = selector_kbest.transform(test_data)"
   ]
  },
  {
   "cell_type": "markdown",
   "metadata": {},
   "source": [
    "### 5.9 Balancing the classes with SMOTE"
   ]
  },
  {
   "cell_type": "markdown",
   "metadata": {},
   "source": [
    "Class imbalance is a scenario where the training dataset is skewed towards some classes. That it, there is more samples of data in some classes than others. So the models gets really good at predicting some classes and fails or perfroms poorly at others. Intuitively, class imbalance can cause a threat to the performance of the model. Hence, the classes in the train dataset is balanced using the SMOTE (Synthetic Minority Oversampling Technique). This technique will generate synthetic or artificial data to upsample classes with low distribution of samples. This technique is favoured because it reduces the chances of loss of data and overfitting."
   ]
  },
  {
   "cell_type": "code",
   "execution_count": 36,
   "metadata": {},
   "outputs": [],
   "source": [
    "sm = SMOTE(random_state=20)\n",
    "train_x_new, train_y_new = sm.fit_resample(train_x_new, train_y)\n",
    "all_train_new, all_y_new = sm.fit_resample(all_train_new, df_train['sentiment'])\n",
    "\n",
    "print(\"The training dataset has \" + str(train_x_new.shape) + \" shape\")\n",
    "print(\"The testing dataset has \" + str(train_x_new.shape) + \" shape\")"
   ]
  },
  {
   "cell_type": "markdown",
   "metadata": {},
   "source": [
    "<br><br>\n",
    "## 6.0 Modeling and Evaluation\n",
    "\n",
    "This section of the project focuses on the creation, training and evaluation of classification models. The created models are evaluated on accuracy, precision and recall metrics to select the best for the target purpose.  "
   ]
  },
  {
   "cell_type": "markdown",
   "metadata": {},
   "source": [
    "### 6.1 Random Forest Classifier Model"
   ]
  },
  {
   "cell_type": "markdown",
   "metadata": {},
   "source": [
    "The <a href=\"https://www.upgrad.com/blog/random-forest-classifier/\">Random Forest Classifier</a> is among the most popular classification algorithms. It is a supervised learning algorithm which can be used for regression and classification problems. The choice of trying this model includes its significance in terms of accuracy than most of the non-linear classifiers. It is also very robust because it uses multiple decision trees to arrive at its result. The minimum accuracy benchmark for this project is 0.7. "
   ]
  },
  {
   "cell_type": "code",
   "execution_count": 37,
   "metadata": {},
   "outputs": [
    {
     "name": "stdout",
     "output_type": "stream",
     "text": [
      "              precision    recall  f1-score   support\n",
      "\n",
      "     2: News       0.89      0.28      0.42       272\n",
      "      1: Pro       0.67      0.28      0.39       477\n",
      "  0: Neutral       0.68      0.93      0.79      1726\n",
      "    -1: Anti       0.81      0.61      0.70       689\n",
      "\n",
      "    accuracy                           0.71      3164\n",
      "   macro avg       0.76      0.52      0.57      3164\n",
      "weighted avg       0.73      0.71      0.68      3164\n",
      "\n"
     ]
    }
   ],
   "source": [
    "tree_model = RandomForestClassifier(random_state=10)\n",
    "tree_model.fit(train_x, train_y)\n",
    "predictions = tree_model.predict(validation_x)\n",
    "print(classification_report(validation_y, predictions, target_names=['2: News', '1: Pro', '0: Neutral', '-1: Anti']))"
   ]
  },
  {
   "cell_type": "code",
   "execution_count": null,
<<<<<<< HEAD
   "id": "9a9afd6f",
=======
>>>>>>> a953ab204ac8caa937dbfa0eb5e5114267381bcd
   "metadata": {},
   "outputs": [],
   "source": [
    "# Logging the experiment\n",
    "\n",
    "run_experiment(tree_model, \"Random Forest\", validation_x, validation_y)"
   ]
  },
  {
   "cell_type": "markdown",
   "metadata": {},
   "source": [
    "**Outcome**\n",
    "\n",
    "The Random Forest Classifier model, from the confusion matrix, indicates that the model will generate the correct prediction 71% of the time (accuracy) - just a little above the base accuracy (70%). For individual classes, the model will be able to clasify tweets correctly above 66% of the time for all classes (TP), the other 34% of the time, it will mistake other classes(FP). Although it will be able to detect only above 27% of the total tweets for two classes. Hence, there is a need to try other models in a bid to find better performance."
   ]
  },
  {
   "cell_type": "markdown",
   "metadata": {},
   "source": [
    "### 6.2 Ridge Classifier Model"
   ]
  },
  {
   "cell_type": "markdown",
   "metadata": {},
   "source": [
    "Unlike the Random Forest Classifier, the Ridge Classifier is a linear model which builds on the Linear regressor to improve performance. Since the considered problem is high dimentional (many features) and high dimensional problems are likely to be linearly separable meaning the different point can be sepehrated with a linear classifier, regardless of how the points are labelled. So linear classifiers like ridge regression or SVM with a linear kernel, are likely to do well. Hence, the choice to implement the Ridge Classifier."
   ]
  },
  {
   "cell_type": "code",
   "execution_count": 39,
   "metadata": {},
   "outputs": [],
   "source": [
    "ridge_model = RidgeClassifier()\n",
    "ridge_model.fit(train_x, train_y)\n",
    "predictions = ridge_model.predict(validation_x)"
   ]
  },
  {
   "cell_type": "code",
   "execution_count": 40,
   "metadata": {},
   "outputs": [
    {
     "name": "stdout",
     "output_type": "stream",
     "text": [
      "              precision    recall  f1-score   support\n",
      "\n",
      "     2: News       0.93      0.36      0.52       272\n",
      "      1: Pro       0.72      0.31      0.44       477\n",
      "  0: Neutral       0.72      0.93      0.81      1726\n",
      "    -1: Anti       0.79      0.71      0.75       689\n",
      "\n",
      "    accuracy                           0.74      3164\n",
      "   macro avg       0.79      0.58      0.63      3164\n",
      "weighted avg       0.75      0.74      0.72      3164\n",
      "\n"
     ]
    }
   ],
   "source": [
    "print(classification_report(validation_y, predictions, target_names=['2: News', '1: Pro', '0: Neutral', '-1: Anti']))"
   ]
  },
  {
   "cell_type": "code",
   "execution_count": null,
<<<<<<< HEAD
   "id": "65d122e2",
=======
>>>>>>> a953ab204ac8caa937dbfa0eb5e5114267381bcd
   "metadata": {},
   "outputs": [],
   "source": [
    "# Logging the experiment\n",
    "\n",
    "run_experiment(ridge_model, \"Ridge Regressor\", validation_x, validation_y)"
   ]
  },
  {
   "cell_type": "markdown",
   "metadata": {},
   "source": [
    "**Outcome**\n",
    "\n",
    "The Ridge Classifier model, from the confusion matrix, indicates that the model will generate the correct prediction 73% of the time (accuracy). It is an improvement to the Random Forest Classifier. For individual class, the model will identify identify tweet correctly (precision) above 70% for all the classes. It will also be able to detect above 60% of the total positive class (recall) for two of the classes and above 30% for the others."
   ]
  },
  {
   "cell_type": "markdown",
   "metadata": {},
   "source": [
    "### 6.3 Support Vector Classifier"
   ]
  },
  {
   "cell_type": "markdown",
   "metadata": {},
   "source": [
    "This classifier was experimented for similar reason with the Ridge Classifier. It is worthy of being experimented on because the linear Ridge Classifiier performs better than the unlinear Random Forest Classifier. Hence, the experimentation on Support Vector Classifier."
   ]
  },
  {
   "cell_type": "code",
   "execution_count": 42,
   "metadata": {},
   "outputs": [
    {
     "name": "stdout",
     "output_type": "stream",
     "text": [
      "              precision    recall  f1-score   support\n",
      "\n",
      "     2: News       0.91      0.30      0.45       272\n",
      "      1: Pro       0.71      0.32      0.44       477\n",
      "  0: Neutral       0.71      0.93      0.81      1726\n",
      "    -1: Anti       0.82      0.69      0.75       689\n",
      "\n",
      "    accuracy                           0.73      3164\n",
      "   macro avg       0.79      0.56      0.61      3164\n",
      "weighted avg       0.75      0.73      0.71      3164\n",
      "\n"
     ]
    }
   ],
   "source": [
    "svc_model = SVC(gamma=2, C=1, kernel='linear')\n",
    "svc_model.fit(train_x, train_y)\n",
    "predictions = svc_model.predict(validation_x)\n",
    "print(classification_report(validation_y, predictions, target_names=['2: News', '1: Pro', '0: Neutral', '-1: Anti']))"
   ]
  },
  {
   "cell_type": "code",
   "execution_count": null,
<<<<<<< HEAD
   "id": "7dd80fba",
=======
>>>>>>> a953ab204ac8caa937dbfa0eb5e5114267381bcd
   "metadata": {},
   "outputs": [],
   "source": [
    "# Logging the experiment\n",
    "\n",
    "run_experiment(svc_model, \"Support Vector Classifier\", validation_x, validation_y)"
   ]
  },
  {
   "cell_type": "markdown",
   "metadata": {},
   "source": [
    "**Outcome**\n",
    "\n",
    "As expected, the performance of the Support Vector Classifier is similar to the Ridge Classifier modelwith an accuracy of 73%. It can be use alternatively to the Ridge Regressor for similar task."
   ]
  },
  {
   "cell_type": "markdown",
   "metadata": {},
   "source": [
    "### 6.4 Nearest Neighbour Classifier"
   ]
  },
  {
   "cell_type": "markdown",
   "metadata": {},
   "source": [
    "Having considered models based on linear and unlinear layout of datapoints, an algorithms which based on an entirely different appraoch is considered. Hence, the K-Nearest Neighbor classifier is considered. The K-Nearest Neighbor classifier is a nonparametric classification method which uses plurality of vote of its neighbors for classification. K is the defined number of neighbors used in voting."
   ]
  },
  {
   "cell_type": "code",
   "execution_count": 44,
   "metadata": {},
   "outputs": [
    {
     "name": "stdout",
     "output_type": "stream",
     "text": [
      "              precision    recall  f1-score   support\n",
      "\n",
      "     2: News       0.60      0.30      0.40       272\n",
      "      1: Pro       0.39      0.48      0.43       477\n",
      "  0: Neutral       0.70      0.82      0.76      1726\n",
      "    -1: Anti       0.72      0.45      0.56       689\n",
      "\n",
      "    accuracy                           0.64      3164\n",
      "   macro avg       0.60      0.51      0.53      3164\n",
      "weighted avg       0.65      0.64      0.63      3164\n",
      "\n"
     ]
    }
   ],
   "source": [
    "knn_model = KNeighborsClassifier(10)\n",
    "knn_model.fit(train_x, train_y)\n",
    "predictions = knn_model.predict(validation_x)\n",
    "print(classification_report(validation_y, predictions, target_names=['2: News', '1: Pro', '0: Neutral', '-1: Anti']))"
   ]
  },
  {
   "cell_type": "code",
   "execution_count": null,
<<<<<<< HEAD
   "id": "07a96d2e",
=======
>>>>>>> a953ab204ac8caa937dbfa0eb5e5114267381bcd
   "metadata": {},
   "outputs": [],
   "source": [
    "# Logging the experiment\n",
    "\n",
    "run_experiment(knn_model, \"Nearest Neighbour\", validation_x, validation_y)"
   ]
  },
  {
   "cell_type": "markdown",
   "metadata": {},
   "source": [
    "**Outcome**\n",
    "\n",
    "The KNearest Neighbour performs worst than the previous experimented models. Its accuracy is way below the 70% benchmark. This model, if deployed will fail to identity the Pro tweets, it has only 38% precision rate for the class insipte of its recall being 49%. On the News tweets, its performance is no better than randomly guessing. "
   ]
  },
  {
   "cell_type": "markdown",
   "metadata": {},
   "source": [
    "### 6.5 AdaBoost Classifier"
   ]
  },
  {
   "cell_type": "markdown",
   "metadata": {},
   "source": [
    "Adaptive Boosting (AdaBoost) Classifier combines several simple and week models and learners into strong models for classification purpose. This model is experimented in a bid to improve on the performances of the other simpler models tried previously."
   ]
  },
  {
   "cell_type": "code",
   "execution_count": 46,
   "metadata": {},
   "outputs": [
    {
     "name": "stdout",
     "output_type": "stream",
     "text": [
      "              precision    recall  f1-score   support\n",
      "\n",
      "     2: News       0.69      0.31      0.43       272\n",
      "      1: Pro       0.38      0.03      0.05       477\n",
      "  0: Neutral       0.61      0.91      0.73      1726\n",
      "    -1: Anti       0.63      0.39      0.48       689\n",
      "\n",
      "    accuracy                           0.61      3164\n",
      "   macro avg       0.58      0.41      0.42      3164\n",
      "weighted avg       0.59      0.61      0.55      3164\n",
      "\n"
     ]
    }
   ],
   "source": [
    "ada_model = AdaBoostClassifier()\n",
    "ada_model.fit(train_x, train_y)\n",
    "predictions = ada_model.predict(validation_x)\n",
    "print(classification_report(validation_y, predictions, target_names=['2: News', '1: Pro', '0: Neutral', '-1: Anti']))"
   ]
  },
  {
   "cell_type": "code",
   "execution_count": null,
<<<<<<< HEAD
   "id": "fc430a8a",
=======
>>>>>>> a953ab204ac8caa937dbfa0eb5e5114267381bcd
   "metadata": {},
   "outputs": [],
   "source": [
    "# Logging the experiment\n",
    "\n",
    "run_experiment(ada_model, \"Random Forest\", validation_x, validation_y)"
   ]
  },
  {
   "cell_type": "markdown",
   "metadata": {},
   "source": [
    "**Outcome**\n",
    "\n",
    "The Performance of the AdaBoost classifier is similar to the KNN classifier in terms of its general accuracy. ALthough, for identification of idividual classes correctly (TP), it has a better performance - abobe 60% precision for all the classes. Although, its True positive rate is questionable as it identifies only small portion of the total True positives. "
   ]
  },
  {
   "cell_type": "markdown",
   "metadata": {},
   "source": [
    "### 6.6 Stochastic Gradient Descent  Classifier (SGD-Classifier)"
   ]
  },
  {
   "cell_type": "markdown",
   "metadata": {},
   "source": [
    "SGD Classifier is a linear classifier (SVM, logistic regression, a.o.) optimized by the SGD. These are two different concepts. While SGD is a optimization method, Logistic Regression or linear Support Vector Machine is a machine learning algorithm/model. You can think of that as while a machine learning model defines a loss function the optimization method minimizes/maximizes it."
   ]
  },
  {
   "cell_type": "code",
   "execution_count": 48,
   "metadata": {},
   "outputs": [
    {
     "name": "stdout",
     "output_type": "stream",
     "text": [
      "              precision    recall  f1-score   support\n",
      "\n",
      "     2: News       0.92      0.36      0.51       272\n",
      "      1: Pro       0.76      0.31      0.44       477\n",
      "  0: Neutral       0.72      0.93      0.81      1726\n",
      "    -1: Anti       0.77      0.70      0.73       689\n",
      "\n",
      "    accuracy                           0.74      3164\n",
      "   macro avg       0.79      0.57      0.63      3164\n",
      "weighted avg       0.75      0.74      0.71      3164\n",
      "\n"
     ]
    }
   ],
   "source": [
    "sgdc_model = SGDClassifier()\n",
    "sgdc_model.fit(train_x, train_y)\n",
    "predictions = sgdc_model.predict(validation_x)\n",
    "print(classification_report(validation_y, predictions, target_names=['2: News', '1: Pro', '0: Neutral', '-1: Anti']))"
   ]
  },
  {
   "cell_type": "code",
   "execution_count": null,
<<<<<<< HEAD
   "id": "f928d2a0",
=======
>>>>>>> a953ab204ac8caa937dbfa0eb5e5114267381bcd
   "metadata": {},
   "outputs": [],
   "source": [
    "# Logging the experiment\n",
    "\n",
    "run_experiment(sgdc_model, \"Stochastic Classifier\", validation_x, validation_y)"
   ]
  },
  {
   "cell_type": "markdown",
   "metadata": {},
   "source": [
    "**Outcome**\n",
    "\n",
    "This model performs slighly better than the ridge regressor. Although, both model are similar in precision and recall, the F1 score indicates a little increase in performance for this model."
   ]
  },
  {
   "cell_type": "markdown",
   "metadata": {},
   "source": [
    "### 6.7 Bayes Classifier"
   ]
  },
  {
   "cell_type": "markdown",
   "metadata": {},
   "source": [
    "Multinomial Naïve Bayes uses the frequency of words in the feature set for classification. This classification model has a track record of performing well in text classification on small sample sizes. It is experimented here due to its popularity and recommendations due to its performance. It is also very computationally effective."
   ]
  },
  {
   "cell_type": "code",
<<<<<<< HEAD
   "execution_count": 68,
   "id": "6563a0dd",
=======
   "execution_count": 50,
>>>>>>> a953ab204ac8caa937dbfa0eb5e5114267381bcd
   "metadata": {},
   "outputs": [
    {
     "name": "stdout",
     "output_type": "stream",
     "text": [
      "              precision    recall  f1-score   support\n",
      "\n",
      "     2: News       1.00      0.03      0.05       272\n",
      "      1: Pro       1.00      0.06      0.12       477\n",
      "  0: Neutral       0.61      0.99      0.75      1726\n",
      "    -1: Anti       0.91      0.42      0.58       689\n",
      "\n",
      "    accuracy                           0.64      3164\n",
      "   macro avg       0.88      0.38      0.37      3164\n",
      "weighted avg       0.77      0.64      0.56      3164\n",
      "\n"
     ]
    }
   ],
   "source": [
    "bayes_model = MultinomialNB()\n",
    "bayes_model.fit(train_x, train_y)\n",
    "predictions = bayes_model.predict(validation_x)\n",
    "print(classification_report(validation_y, predictions, target_names=['2: News', '1: Pro', '0: Neutral', '-1: Anti']))"
   ]
  },
  {
   "cell_type": "code",
   "execution_count": null,
<<<<<<< HEAD
   "id": "9519a9c0",
=======
>>>>>>> a953ab204ac8caa937dbfa0eb5e5114267381bcd
   "metadata": {},
   "outputs": [],
   "source": [
    "# Logging the experiment\n",
    "\n",
    "run_experiment(bayes_model, \"Bayes Model\", validation_x, validation_y)"
   ]
  },
  {
   "cell_type": "markdown",
   "metadata": {},
   "source": [
    "This model boost of a 100% precision for two classes and above 60% for the others. Using this metric alone  might confuse one into believing in the performance of this model. Although, a look at the recall, we can see that the model can only identify 0.4% which is less than 1 of the total positives for the News and Pro tweets. This model would have been useful if the goal of this project is to identify neutral or Anti tweets only."
   ]
  },
  {
   "cell_type": "markdown",
   "metadata": {},
   "source": [
    "## 7.0 Kaggle Submission"
   ]
  },
  {
   "cell_type": "markdown",
   "metadata": {},
   "source": [
    "The kaggle submission is accessed based on accuracy of the model. Therefore for this task, the selection of model will be based on classification accuracy. From the modeling and evaluation section, the ridge model has the highest accuracy score. Hence, a ridge regression model is trained and used for prediction to be submitted to kaggle."
   ]
  },
  {
   "cell_type": "code",
   "execution_count": 52,
   "metadata": {},
   "outputs": [],
   "source": [
    "final_ridge_model = RidgeClassifier()\n",
    "final_ridge_model.fit(train_data, df_train['sentiment'])\n",
    "predictions = final_ridge_model.predict(test_data)"
   ]
  },
  {
   "cell_type": "code",
   "execution_count": 53,
   "metadata": {},
   "outputs": [
    {
     "data": {
      "text/plain": [
       "(10546,)"
      ]
     },
     "execution_count": 53,
     "metadata": {},
     "output_type": "execute_result"
    }
   ],
   "source": [
    "submission = pd.DataFrame({'tweetid': test_tweet_id, 'sentiment':predictions})\n",
    "submission.to_csv('submission.csv', index=False)\n",
    "\n",
    "predictions.shape"
   ]
  },
  {
   "cell_type": "markdown",
   "metadata": {},
   "source": [
    "## 8.0 Deployment"
   ]
  },
  {
   "cell_type": "markdown",
   "metadata": {},
   "source": [
    "The models developed in this notebook is intended to be deployed on the opiniate web application. Since each model has its strenght and weeknesses, the application will contain section which allows users to select which model they intend to use. Hence, a copy of all the useful models trained in this notebook is pickeled."
   ]
  },
  {
   "cell_type": "code",
   "execution_count": 54,
   "metadata": {},
   "outputs": [],
   "source": [
    "# pickle random forest\n",
    "with open('models/random_forest.pkl', 'wb') as fh:\n",
    "   pickle.dump(tree_model, fh)\n",
    "\n",
    "# pickle ridge Classifier\n",
    "with open('models/ridge.pkl', 'wb') as fh:\n",
    "   pickle.dump(ridge_model, fh)\n",
    "\n",
    "# pickle support vector classifier \n",
    "with open('models/svc.pkl', 'wb') as fh:\n",
    "   pickle.dump(svc_model, fh)\n",
    "\n",
    "# pickle Knn classifier \n",
    "with open('models/knn.pkl', 'wb') as fh:\n",
    "   pickle.dump(knn_model, fh)\n",
    "\n",
    "# pickle adaboost classifier \n",
    "with open('models/ada.pkl', 'wb') as fh:\n",
    "   pickle.dump(ada_model, fh)\n",
    "\n",
    "# pickle bayes classifier \n",
    "with open('models/bayes.pkl', 'wb') as fh:\n",
    "   pickle.dump(bayes_model, fh)\n",
    "\n",
    "# pickle sgdc classifier \n",
    "with open('models/sgdc.pkl', 'wb') as fh:\n",
    "   pickle.dump(sgdc_model, fh)\n"
   ]
  }
 ],
 "metadata": {
  "kernelspec": {
   "display_name": "Python 3",
   "language": "python",
   "name": "python3"
  },
  "language_info": {
   "codemirror_mode": {
    "name": "ipython",
    "version": 3
   },
   "file_extension": ".py",
   "mimetype": "text/x-python",
   "name": "python",
   "nbconvert_exporter": "python",
   "pygments_lexer": "ipython3",
   "version": "3.8.5"
  }
 },
 "nbformat": 4,
 "nbformat_minor": 5
}
