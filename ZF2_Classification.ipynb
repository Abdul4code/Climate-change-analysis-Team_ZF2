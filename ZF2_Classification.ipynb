{
 "cells": [
  {
   "cell_type": "markdown",
   "metadata": {},
   "source": [
    "# Climate Change Belief Analysis 2022 - Team ZF2\n",
    "\n",
    "© Explore Data Science Academy\n",
    "\n",
    "---\n",
    "\n",
    "###### Team Members\n",
    "\n",
    "1. Abubakar Abdulkadir\n",
    "2. Joseph Mugo\n",
    "3. Philip Ogunmola\n",
    "4. Rogers Mugambi\n",
    "5. Adewale Nana\n",
    "6. Philip Wambua\n",
    "\n",
    "---"
   ]
  },
  {
   "cell_type": "markdown",
   "metadata": {},
   "source": [
    "## Overview\n",
    "\n",
    "<img src=\"images/climate.jpg\"/>\n",
    "\n",
    "Many companies are built around lessening one’s environmental impact or carbon footprint. They offer products and services that are environmentally friendly and sustainable, in line with their values and ideals. They would like to determine how people perceive climate change and whether or not they believe it is a real threat. This would add to their market research efforts in gauging how their product/service may be received.\n",
    "\n",
    "With this context, this notebook provides a walthrough the creation of a Machine Learning model that is able to classify whether or not a person believes in climate change, based on their novel tweet data.\n",
    "\n",
    "Providing an accurate and robust solution to this task gives companies access to a broad base of consumer sentiment, spanning multiple demographic and geographic categories - thus increasing their insights and informing future marketing strategies.\n",
    "\n",
    "---"
   ]
  },
  {
   "cell_type": "markdown",
   "metadata": {},
   "source": [
    "## Table of Contents     <a id=\"content\"></a>\n",
    "\n",
    "<a href=#1>1. Importing Packages</a>\n",
    "\n",
    "<a href=#2>2. Loading Data</a>\n",
    "\n",
    "<a href=#4>4. Exploratory Data Analysis (EDA)</a>\n",
    "\n",
    "<a href=#5>5. Data Cleaning and Engineering</a>\n",
    "\n",
    "<a href=#6>6. Modeling</a>\n",
    "\n",
    "<a href=#7>7. Model Performance </a>\n",
    "\n",
    "<a href=#8>8. Model Explanation </a>\n",
    "\n",
    "<a href=#9>9. Model Deployment </a>"
   ]
  },
  {
   "cell_type": "markdown",
<<<<<<< Updated upstream
   "id": "7a696c8e",
   "metadata": {},
   "source": [
    "### Problem statement\n",
    "Build a robust Machine Learning Model that will be able to predict a person’s belief in Climate Change based on their Tweet Data, allowing companies to gain access into customer sentiment"
   ]
  },
  {
   "cell_type": "markdown",
   "id": "bd1902e6",
   "metadata": {},
   "source": [
    "  ### Sentiment Discription\n",
    "  \n",
    "        Class   Sentiments    Description\n",
    "         2\t   News:         the tweet link to factual news about climate change\n",
    "         1       Pro:          the tweet supports the belief of man-made climate change\n",
    "         0\t   Neutral:      the tweet neither supports nor refutes the belief of man-made climate change\n",
    "        -1       Anti:         the tweet does not believe in man-made climate change"
   ]
  },
  {
   "cell_type": "markdown",
   "id": "0a33b5d1",
   "metadata": {},
   "source": [
    " #  Imports"
   ]
  },
  {
   "cell_type": "markdown",
   "id": "e94a714a",
   "metadata": {},
   "source": [
    "### Comet \n",
    "\n",
    "* Install Comet\n",
    "* Import Experiment from Comet\n",
    "* Create an experiment instance"
   ]
  },
  {
   "cell_type": "code",
   "execution_count": 11,
   "id": "aeb4ad19",
   "metadata": {},
   "outputs": [
    {
     "name": "stdout",
     "output_type": "stream",
     "text": [
      "Collecting comet_ml\n",
      "  Downloading comet_ml-3.31.4-py2.py3-none-any.whl (356 kB)\n",
      "Collecting websocket-client>=0.55.0\n",
      "  Downloading websocket_client-1.3.3-py3-none-any.whl (54 kB)\n",
      "Collecting wurlitzer>=1.0.2\n",
      "  Downloading wurlitzer-3.0.2-py3-none-any.whl (7.3 kB)\n",
      "Requirement already satisfied: requests>=2.18.4 in c:\\users\\dell\\anaconda3copy\\lib\\site-packages (from comet_ml) (2.26.0)\n",
      "Requirement already satisfied: jsonschema!=3.1.0,>=2.6.0 in c:\\users\\dell\\anaconda3copy\\lib\\site-packages (from comet_ml) (3.2.0)\n",
      "Collecting everett[ini]>=1.0.1\n",
      "  Downloading everett-3.0.0-py2.py3-none-any.whl (35 kB)\n",
      "Requirement already satisfied: wrapt>=1.11.2 in c:\\users\\dell\\anaconda3copy\\lib\\site-packages (from comet_ml) (1.12.1)\n",
      "Collecting semantic-version>=2.8.0\n",
      "  Downloading semantic_version-2.10.0-py2.py3-none-any.whl (15 kB)\n",
      "Requirement already satisfied: six in c:\\users\\dell\\anaconda3copy\\lib\\site-packages (from comet_ml) (1.16.0)\n",
      "Collecting requests-toolbelt>=0.8.0\n",
      "  Downloading requests_toolbelt-0.9.1-py2.py3-none-any.whl (54 kB)\n",
      "Collecting nvidia-ml-py3>=7.352.0\n",
      "  Downloading nvidia-ml-py3-7.352.0.tar.gz (19 kB)\n",
      "Collecting sentry-sdk>=1.1.0\n",
      "  Downloading sentry_sdk-1.5.12-py2.py3-none-any.whl (145 kB)\n",
      "Collecting dulwich!=0.20.33,>=0.20.6\n",
      "  Downloading dulwich-0.20.43-cp39-cp39-win_amd64.whl (496 kB)\n",
      "Requirement already satisfied: urllib3>=1.24.1 in c:\\users\\dell\\anaconda3copy\\lib\\site-packages (from dulwich!=0.20.33,>=0.20.6->comet_ml) (1.26.7)\n",
      "Requirement already satisfied: certifi in c:\\users\\dell\\anaconda3copy\\lib\\site-packages (from dulwich!=0.20.33,>=0.20.6->comet_ml) (2021.10.8)\n",
      "Collecting configobj\n",
      "  Downloading configobj-5.0.6.tar.gz (33 kB)\n",
      "Requirement already satisfied: setuptools in c:\\users\\dell\\anaconda3copy\\lib\\site-packages (from jsonschema!=3.1.0,>=2.6.0->comet_ml) (58.0.4)\n",
      "Requirement already satisfied: attrs>=17.4.0 in c:\\users\\dell\\anaconda3copy\\lib\\site-packages (from jsonschema!=3.1.0,>=2.6.0->comet_ml) (21.2.0)\n",
      "Requirement already satisfied: pyrsistent>=0.14.0 in c:\\users\\dell\\anaconda3copy\\lib\\site-packages (from jsonschema!=3.1.0,>=2.6.0->comet_ml) (0.18.0)\n",
      "Requirement already satisfied: charset-normalizer~=2.0.0 in c:\\users\\dell\\anaconda3copy\\lib\\site-packages (from requests>=2.18.4->comet_ml) (2.0.4)\n",
      "Requirement already satisfied: idna<4,>=2.5 in c:\\users\\dell\\anaconda3copy\\lib\\site-packages (from requests>=2.18.4->comet_ml) (3.2)\n",
      "Building wheels for collected packages: nvidia-ml-py3, configobj\n",
      "  Building wheel for nvidia-ml-py3 (setup.py): started\n",
      "  Building wheel for nvidia-ml-py3 (setup.py): finished with status 'done'\n",
      "  Created wheel for nvidia-ml-py3: filename=nvidia_ml_py3-7.352.0-py3-none-any.whl size=19191 sha256=69f9ea4ef9266945b8284dea2f438ae70b424c1228229da4a9c96e941781d058\n",
      "  Stored in directory: c:\\users\\dell\\appdata\\local\\pip\\cache\\wheels\\f6\\d8\\b0\\15cfd7805d39250ac29318105f09b1750683387630d68423e1\n",
      "  Building wheel for configobj (setup.py): started\n",
      "  Building wheel for configobj (setup.py): finished with status 'done'\n",
      "  Created wheel for configobj: filename=configobj-5.0.6-py3-none-any.whl size=34546 sha256=4a21bbcf02e60afa75a173b8a5583b16fdf02a53cd3f1182d445f64e21a71766\n",
      "  Stored in directory: c:\\users\\dell\\appdata\\local\\pip\\cache\\wheels\\4b\\35\\53\\dfa4d3a4196794cb0a777a97c68dcf02b073d33de9c135d72a\n",
      "Successfully built nvidia-ml-py3 configobj\n",
      "Installing collected packages: everett, configobj, wurlitzer, websocket-client, sentry-sdk, semantic-version, requests-toolbelt, nvidia-ml-py3, dulwich, comet-ml\n",
      "Successfully installed comet-ml-3.31.4 configobj-5.0.6 dulwich-0.20.43 everett-3.0.0 nvidia-ml-py3-7.352.0 requests-toolbelt-0.9.1 semantic-version-2.10.0 sentry-sdk-1.5.12 websocket-client-1.3.3 wurlitzer-3.0.2\n",
      "Note: you may need to restart the kernel to use updated packages.\n"
     ]
    }
   ],
   "source": [
    "pip install comet_ml"
   ]
  },
  {
   "cell_type": "code",
   "execution_count": 12,
   "id": "f81290eb",
   "metadata": {},
   "outputs": [],
   "source": [
    "from comet_ml import Experiment"
   ]
  },
  {
   "cell_type": "code",
   "execution_count": null,
   "id": "1724fc17",
   "metadata": {},
   "outputs": [],
   "source": [
    "# # Create an experiment with the comet generated api key:\n",
    "# experiment = Experiment(\n",
    "#     api_key=\"<API key here>\",\n",
    "#     project_name=\"team_zf2_classification\",\n",
    "#     workspace=\"pheelog\", # I will suggest we use Joe Mugo comet username here\n",
    "# )"
   ]
  },
  {
   "cell_type": "markdown",
   "id": "e136785d",
   "metadata": {},
   "source": [
    "### Packages "
   ]
  },
  {
   "cell_type": "code",
   "execution_count": 13,
   "id": "7d4367f8",
   "metadata": {},
   "outputs": [
    {
     "name": "stdout",
     "output_type": "stream",
     "text": [
      "Collecting langdetect\n",
      "  Downloading langdetect-1.0.9.tar.gz (981 kB)\n",
      "Requirement already satisfied: six in c:\\users\\dell\\anaconda3copy\\lib\\site-packages (from langdetect) (1.16.0)\n",
      "Building wheels for collected packages: langdetect\n",
      "  Building wheel for langdetect (setup.py): started\n",
      "  Building wheel for langdetect (setup.py): finished with status 'done'\n",
      "  Created wheel for langdetect: filename=langdetect-1.0.9-py3-none-any.whl size=993242 sha256=f81f49d410b2a5c52d2a763b7d72796e0fd2e66e0ac893699eb4621888359145\n",
      "  Stored in directory: c:\\users\\dell\\appdata\\local\\pip\\cache\\wheels\\d1\\c1\\d9\\7e068de779d863bc8f8fc9467d85e25cfe47fa5051fff1a1bb\n",
      "Successfully built langdetect\n",
      "Installing collected packages: langdetect\n",
      "Successfully installed langdetect-1.0.9\n",
      "Note: you may need to restart the kernel to use updated packages.\n"
     ]
    }
   ],
   "source": [
    "pip install langdetect"
   ]
  },
  {
   "cell_type": "code",
   "execution_count": 14,
   "id": "594b1291",
   "metadata": {},
   "outputs": [
    {
     "name": "stdout",
     "output_type": "stream",
     "text": [
      "Collecting contractions\n",
      "  Downloading contractions-0.1.72-py2.py3-none-any.whl (8.3 kB)\n",
      "Collecting textsearch>=0.0.21\n",
      "  Downloading textsearch-0.0.21-py2.py3-none-any.whl (7.5 kB)\n",
      "Collecting pyahocorasick\n",
      "  Downloading pyahocorasick-1.4.4-cp39-cp39-win_amd64.whl (39 kB)\n",
      "Collecting anyascii\n",
      "  Downloading anyascii-0.3.1-py3-none-any.whl (287 kB)\n",
      "Installing collected packages: pyahocorasick, anyascii, textsearch, contractions\n",
      "Successfully installed anyascii-0.3.1 contractions-0.1.72 pyahocorasick-1.4.4 textsearch-0.0.21\n",
      "Note: you may need to restart the kernel to use updated packages.\n"
     ]
    }
   ],
   "source": [
    "pip install contractions"
   ]
  },
  {
   "cell_type": "code",
   "execution_count": 15,
   "id": "d8cb6713",
   "metadata": {},
   "outputs": [
    {
     "name": "stdout",
     "output_type": "stream",
     "text": [
      "Collecting fasttext\n",
      "  Downloading fasttext-0.9.2.tar.gz (68 kB)\n",
      "Collecting pybind11>=2.2\n",
      "  Using cached pybind11-2.9.2-py2.py3-none-any.whl (213 kB)\n",
      "Requirement already satisfied: setuptools>=0.7.0 in c:\\users\\dell\\anaconda3copy\\lib\\site-packages (from fasttext) (58.0.4)\n",
      "Requirement already satisfied: numpy in c:\\users\\dell\\anaconda3copy\\lib\\site-packages (from fasttext) (1.22.4)\n",
      "Building wheels for collected packages: fasttext\n",
      "  Building wheel for fasttext (setup.py): started\n",
      "  Building wheel for fasttext (setup.py): finished with status 'error'\n",
      "  Running setup.py clean for fasttext\n",
      "Failed to build fasttext\n",
      "Installing collected packages: pybind11, fasttext\n",
      "    Running setup.py install for fasttext: started\n",
      "    Running setup.py install for fasttext: finished with status 'error'\n",
      "Note: you may need to restart the kernel to use updated packages.\n"
     ]
    },
    {
     "name": "stderr",
     "output_type": "stream",
     "text": [
      "  ERROR: Command errored out with exit status 1:\n",
      "   command: 'C:\\Users\\DELL\\anaconda3copy\\python.exe' -u -c 'import io, os, sys, setuptools, tokenize; sys.argv[0] = '\"'\"'C:\\\\Users\\\\DELL\\\\AppData\\\\Local\\\\Temp\\\\pip-install-nmoqx5_9\\\\fasttext_672d8d871f9648c1af8ebd2cd5616e54\\\\setup.py'\"'\"'; __file__='\"'\"'C:\\\\Users\\\\DELL\\\\AppData\\\\Local\\\\Temp\\\\pip-install-nmoqx5_9\\\\fasttext_672d8d871f9648c1af8ebd2cd5616e54\\\\setup.py'\"'\"';f = getattr(tokenize, '\"'\"'open'\"'\"', open)(__file__) if os.path.exists(__file__) else io.StringIO('\"'\"'from setuptools import setup; setup()'\"'\"');code = f.read().replace('\"'\"'\\r\\n'\"'\"', '\"'\"'\\n'\"'\"');f.close();exec(compile(code, __file__, '\"'\"'exec'\"'\"'))' bdist_wheel -d 'C:\\Users\\DELL\\AppData\\Local\\Temp\\pip-wheel-fdl7tevs'\n",
      "       cwd: C:\\Users\\DELL\\AppData\\Local\\Temp\\pip-install-nmoqx5_9\\fasttext_672d8d871f9648c1af8ebd2cd5616e54\\\n",
      "  Complete output (20 lines):\n",
      "  C:\\Users\\DELL\\anaconda3copy\\lib\\site-packages\\setuptools\\dist.py:717: UserWarning: Usage of dash-separated 'description-file' will not be supported in future versions. Please use the underscore name 'description_file' instead\n",
      "    warnings.warn(\n",
      "  running bdist_wheel\n",
      "  running build\n",
      "  running build_py\n",
      "  creating build\n",
      "  creating build\\lib.win-amd64-3.9\n",
      "  creating build\\lib.win-amd64-3.9\\fasttext\n",
      "  copying python\\fasttext_module\\fasttext\\FastText.py -> build\\lib.win-amd64-3.9\\fasttext\n",
      "  copying python\\fasttext_module\\fasttext\\__init__.py -> build\\lib.win-amd64-3.9\\fasttext\n",
      "  creating build\\lib.win-amd64-3.9\\fasttext\\util\n",
      "  copying python\\fasttext_module\\fasttext\\util\\util.py -> build\\lib.win-amd64-3.9\\fasttext\\util\n",
      "  copying python\\fasttext_module\\fasttext\\util\\__init__.py -> build\\lib.win-amd64-3.9\\fasttext\\util\n",
      "  creating build\\lib.win-amd64-3.9\\fasttext\\tests\n",
      "  copying python\\fasttext_module\\fasttext\\tests\\test_configurations.py -> build\\lib.win-amd64-3.9\\fasttext\\tests\n",
      "  copying python\\fasttext_module\\fasttext\\tests\\test_script.py -> build\\lib.win-amd64-3.9\\fasttext\\tests\n",
      "  copying python\\fasttext_module\\fasttext\\tests\\__init__.py -> build\\lib.win-amd64-3.9\\fasttext\\tests\n",
      "  running build_ext\n",
      "  building 'fasttext_pybind' extension\n",
      "  error: Microsoft Visual C++ 14.0 or greater is required. Get it with \"Microsoft C++ Build Tools\": https://visualstudio.microsoft.com/visual-cpp-build-tools/\n",
      "  ----------------------------------------\n",
      "  ERROR: Failed building wheel for fasttext\n",
      "    ERROR: Command errored out with exit status 1:\n",
      "     command: 'C:\\Users\\DELL\\anaconda3copy\\python.exe' -u -c 'import io, os, sys, setuptools, tokenize; sys.argv[0] = '\"'\"'C:\\\\Users\\\\DELL\\\\AppData\\\\Local\\\\Temp\\\\pip-install-nmoqx5_9\\\\fasttext_672d8d871f9648c1af8ebd2cd5616e54\\\\setup.py'\"'\"'; __file__='\"'\"'C:\\\\Users\\\\DELL\\\\AppData\\\\Local\\\\Temp\\\\pip-install-nmoqx5_9\\\\fasttext_672d8d871f9648c1af8ebd2cd5616e54\\\\setup.py'\"'\"';f = getattr(tokenize, '\"'\"'open'\"'\"', open)(__file__) if os.path.exists(__file__) else io.StringIO('\"'\"'from setuptools import setup; setup()'\"'\"');code = f.read().replace('\"'\"'\\r\\n'\"'\"', '\"'\"'\\n'\"'\"');f.close();exec(compile(code, __file__, '\"'\"'exec'\"'\"'))' install --record 'C:\\Users\\DELL\\AppData\\Local\\Temp\\pip-record-bzoemqr6\\install-record.txt' --single-version-externally-managed --compile --install-headers 'C:\\Users\\DELL\\anaconda3copy\\Include\\fasttext'\n",
      "         cwd: C:\\Users\\DELL\\AppData\\Local\\Temp\\pip-install-nmoqx5_9\\fasttext_672d8d871f9648c1af8ebd2cd5616e54\\\n",
      "    Complete output (20 lines):\n",
      "    C:\\Users\\DELL\\anaconda3copy\\lib\\site-packages\\setuptools\\dist.py:717: UserWarning: Usage of dash-separated 'description-file' will not be supported in future versions. Please use the underscore name 'description_file' instead\n",
      "      warnings.warn(\n",
      "    running install\n",
      "    running build\n",
      "    running build_py\n",
      "    creating build\n",
      "    creating build\\lib.win-amd64-3.9\n",
      "    creating build\\lib.win-amd64-3.9\\fasttext\n",
      "    copying python\\fasttext_module\\fasttext\\FastText.py -> build\\lib.win-amd64-3.9\\fasttext\n",
      "    copying python\\fasttext_module\\fasttext\\__init__.py -> build\\lib.win-amd64-3.9\\fasttext\n",
      "    creating build\\lib.win-amd64-3.9\\fasttext\\util\n",
      "    copying python\\fasttext_module\\fasttext\\util\\util.py -> build\\lib.win-amd64-3.9\\fasttext\\util\n",
      "    copying python\\fasttext_module\\fasttext\\util\\__init__.py -> build\\lib.win-amd64-3.9\\fasttext\\util\n",
      "    creating build\\lib.win-amd64-3.9\\fasttext\\tests\n",
      "    copying python\\fasttext_module\\fasttext\\tests\\test_configurations.py -> build\\lib.win-amd64-3.9\\fasttext\\tests\n",
      "    copying python\\fasttext_module\\fasttext\\tests\\test_script.py -> build\\lib.win-amd64-3.9\\fasttext\\tests\n",
      "    copying python\\fasttext_module\\fasttext\\tests\\__init__.py -> build\\lib.win-amd64-3.9\\fasttext\\tests\n",
      "    running build_ext\n",
      "    building 'fasttext_pybind' extension\n",
      "    error: Microsoft Visual C++ 14.0 or greater is required. Get it with \"Microsoft C++ Build Tools\": https://visualstudio.microsoft.com/visual-cpp-build-tools/\n",
      "    ----------------------------------------\n",
      "ERROR: Command errored out with exit status 1: 'C:\\Users\\DELL\\anaconda3copy\\python.exe' -u -c 'import io, os, sys, setuptools, tokenize; sys.argv[0] = '\"'\"'C:\\\\Users\\\\DELL\\\\AppData\\\\Local\\\\Temp\\\\pip-install-nmoqx5_9\\\\fasttext_672d8d871f9648c1af8ebd2cd5616e54\\\\setup.py'\"'\"'; __file__='\"'\"'C:\\\\Users\\\\DELL\\\\AppData\\\\Local\\\\Temp\\\\pip-install-nmoqx5_9\\\\fasttext_672d8d871f9648c1af8ebd2cd5616e54\\\\setup.py'\"'\"';f = getattr(tokenize, '\"'\"'open'\"'\"', open)(__file__) if os.path.exists(__file__) else io.StringIO('\"'\"'from setuptools import setup; setup()'\"'\"');code = f.read().replace('\"'\"'\\r\\n'\"'\"', '\"'\"'\\n'\"'\"');f.close();exec(compile(code, __file__, '\"'\"'exec'\"'\"'))' install --record 'C:\\Users\\DELL\\AppData\\Local\\Temp\\pip-record-bzoemqr6\\install-record.txt' --single-version-externally-managed --compile --install-headers 'C:\\Users\\DELL\\anaconda3copy\\Include\\fasttext' Check the logs for full command output.\n"
     ]
    }
   ],
   "source": [
    "pip install fasttext"
   ]
  },
  {
   "cell_type": "code",
   "execution_count": 16,
   "id": "c057eedb",
   "metadata": {},
   "outputs": [
    {
     "name": "stdout",
     "output_type": "stream",
     "text": [
      "Collecting spacy\n",
      "  Downloading spacy-3.3.1-cp39-cp39-win_amd64.whl (11.7 MB)\n",
      "Collecting langcodes<4.0.0,>=3.2.0\n",
      "  Downloading langcodes-3.3.0-py3-none-any.whl (181 kB)\n",
      "Collecting thinc<8.1.0,>=8.0.14\n",
      "  Downloading thinc-8.0.17-cp39-cp39-win_amd64.whl (1.0 MB)\n",
      "Collecting murmurhash<1.1.0,>=0.28.0\n",
      "  Downloading murmurhash-1.0.7-cp39-cp39-win_amd64.whl (18 kB)\n",
      "Requirement already satisfied: packaging>=20.0 in c:\\users\\dell\\anaconda3copy\\lib\\site-packages (from spacy) (21.0)\n",
      "Requirement already satisfied: jinja2 in c:\\users\\dell\\anaconda3copy\\lib\\site-packages (from spacy) (2.11.3)\n",
      "Requirement already satisfied: numpy>=1.15.0 in c:\\users\\dell\\anaconda3copy\\lib\\site-packages (from spacy) (1.22.4)\n",
      "Collecting pathy>=0.3.5\n",
      "  Downloading pathy-0.6.1-py3-none-any.whl (42 kB)\n",
      "Collecting blis<0.8.0,>=0.4.0\n",
      "  Downloading blis-0.7.7-cp39-cp39-win_amd64.whl (6.6 MB)\n",
      "Collecting cymem<2.1.0,>=2.0.2\n",
      "  Downloading cymem-2.0.6-cp39-cp39-win_amd64.whl (36 kB)\n",
      "Requirement already satisfied: setuptools in c:\\users\\dell\\anaconda3copy\\lib\\site-packages (from spacy) (58.0.4)\n",
      "Collecting spacy-legacy<3.1.0,>=3.0.9\n",
      "  Downloading spacy_legacy-3.0.9-py2.py3-none-any.whl (20 kB)\n",
      "Collecting pydantic!=1.8,!=1.8.1,<1.9.0,>=1.7.4\n",
      "  Downloading pydantic-1.8.2-cp39-cp39-win_amd64.whl (1.9 MB)\n",
      "Collecting spacy-loggers<2.0.0,>=1.0.0\n",
      "  Downloading spacy_loggers-1.0.2-py3-none-any.whl (7.2 kB)\n",
      "Collecting preshed<3.1.0,>=3.0.2\n",
      "  Downloading preshed-3.0.6-cp39-cp39-win_amd64.whl (112 kB)\n",
      "Requirement already satisfied: requests<3.0.0,>=2.13.0 in c:\\users\\dell\\anaconda3copy\\lib\\site-packages (from spacy) (2.26.0)\n",
      "Requirement already satisfied: tqdm<5.0.0,>=4.38.0 in c:\\users\\dell\\anaconda3copy\\lib\\site-packages (from spacy) (4.62.3)\n",
      "Collecting srsly<3.0.0,>=2.4.3\n",
      "  Downloading srsly-2.4.3-cp39-cp39-win_amd64.whl (448 kB)\n",
      "Collecting typer<0.5.0,>=0.3.0\n",
      "  Downloading typer-0.4.1-py3-none-any.whl (27 kB)\n",
      "Collecting wasabi<1.1.0,>=0.9.1\n",
      "  Downloading wasabi-0.9.1-py3-none-any.whl (26 kB)\n",
      "Note: you may need to restart the kernel to use updated packages.\n",
      "Collecting catalogue<2.1.0,>=2.0.6\n",
      "  Downloading catalogue-2.0.7-py3-none-any.whl (17 kB)\n",
      "Requirement already satisfied: pyparsing>=2.0.2 in c:\\users\\dell\\anaconda3copy\\lib\\site-packages (from packaging>=20.0->spacy) (3.0.4)\n",
      "Collecting smart-open<6.0.0,>=5.0.0\n",
      "  Downloading smart_open-5.2.1-py3-none-any.whl (58 kB)\n",
      "Requirement already satisfied: typing-extensions>=3.7.4.3 in c:\\users\\dell\\anaconda3copy\\lib\\site-packages (from pydantic!=1.8,!=1.8.1,<1.9.0,>=1.7.4->spacy) (3.10.0.2)\n",
      "Requirement already satisfied: urllib3<1.27,>=1.21.1 in c:\\users\\dell\\anaconda3copy\\lib\\site-packages (from requests<3.0.0,>=2.13.0->spacy) (1.26.7)\n",
      "Requirement already satisfied: idna<4,>=2.5 in c:\\users\\dell\\anaconda3copy\\lib\\site-packages (from requests<3.0.0,>=2.13.0->spacy) (3.2)\n",
      "Requirement already satisfied: certifi>=2017.4.17 in c:\\users\\dell\\anaconda3copy\\lib\\site-packages (from requests<3.0.0,>=2.13.0->spacy) (2021.10.8)\n",
      "Requirement already satisfied: charset-normalizer~=2.0.0 in c:\\users\\dell\\anaconda3copy\\lib\\site-packages (from requests<3.0.0,>=2.13.0->spacy) (2.0.4)\n",
      "Requirement already satisfied: colorama in c:\\users\\dell\\anaconda3copy\\lib\\site-packages (from tqdm<5.0.0,>=4.38.0->spacy) (0.4.4)\n",
      "Requirement already satisfied: click<9.0.0,>=7.1.1 in c:\\users\\dell\\anaconda3copy\\lib\\site-packages (from typer<0.5.0,>=0.3.0->spacy) (8.0.3)\n",
      "Requirement already satisfied: MarkupSafe>=0.23 in c:\\users\\dell\\anaconda3copy\\lib\\site-packages (from jinja2->spacy) (1.1.1)\n",
      "Installing collected packages: murmurhash, cymem, catalogue, wasabi, typer, srsly, smart-open, pydantic, preshed, blis, thinc, spacy-loggers, spacy-legacy, pathy, langcodes, spacy\n",
      "Successfully installed blis-0.7.7 catalogue-2.0.7 cymem-2.0.6 langcodes-3.3.0 murmurhash-1.0.7 pathy-0.6.1 preshed-3.0.6 pydantic-1.8.2 smart-open-5.2.1 spacy-3.3.1 spacy-legacy-3.0.9 spacy-loggers-1.0.2 srsly-2.4.3 thinc-8.0.17 typer-0.4.1 wasabi-0.9.1\n"
     ]
    }
   ],
   "source": [
    "pip install spacy"
   ]
  },
  {
   "cell_type": "code",
   "execution_count": 17,
   "id": "6832e094",
   "metadata": {
    "scrolled": true
   },
   "outputs": [
    {
     "name": "stdout",
     "output_type": "stream",
     "text": [
      "Collecting imblearn\n",
      "  Downloading imblearn-0.0-py2.py3-none-any.whl (1.9 kB)\n",
      "Collecting imbalanced-learn\n",
      "  Downloading imbalanced_learn-0.9.1-py3-none-any.whl (199 kB)\n",
      "Requirement already satisfied: threadpoolctl>=2.0.0 in c:\\users\\dell\\anaconda3copy\\lib\\site-packages (from imbalanced-learn->imblearn) (2.2.0)\n",
      "Requirement already satisfied: numpy>=1.17.3 in c:\\users\\dell\\anaconda3copy\\lib\\site-packages (from imbalanced-learn->imblearn) (1.22.4)\n",
      "Requirement already satisfied: joblib>=1.0.0 in c:\\users\\dell\\anaconda3copy\\lib\\site-packages (from imbalanced-learn->imblearn) (1.1.0)\n",
      "Requirement already satisfied: scipy>=1.3.2 in c:\\users\\dell\\anaconda3copy\\lib\\site-packages (from imbalanced-learn->imblearn) (1.7.1)\n",
      "Requirement already satisfied: scikit-learn>=1.1.0 in c:\\users\\dell\\anaconda3copy\\lib\\site-packages (from imbalanced-learn->imblearn) (1.1.1)\n",
      "Installing collected packages: imbalanced-learn, imblearn\n",
      "Successfully installed imbalanced-learn-0.9.1 imblearn-0.0\n",
      "Note: you may need to restart the kernel to use updated packages.\n"
     ]
    }
   ],
   "source": [
    "pip install imblearn"
   ]
  },
  {
   "cell_type": "code",
   "execution_count": 55,
   "id": "ae61345e",
   "metadata": {},
   "outputs": [
    {
     "name": "stderr",
     "output_type": "stream",
     "text": [
      "[nltk_data] Downloading package stopwords to\n",
      "[nltk_data]     C:\\Users\\DELL\\AppData\\Roaming\\nltk_data...\n",
      "[nltk_data]   Package stopwords is already up-to-date!\n",
      "[nltk_data] Downloading package punkt to\n",
      "[nltk_data]     C:\\Users\\DELL\\AppData\\Roaming\\nltk_data...\n",
      "[nltk_data]   Package punkt is already up-to-date!\n"
     ]
    },
    {
     "name": "stdout",
     "output_type": "stream",
     "text": [
      "✔ Download and installation successful\n",
      "You can now load the package via spacy.load('en_core_web_sm')\n"
     ]
    }
   ],
   "source": [
    "import seaborn as sns\n",
    "from scipy import stats\n",
    "import matplotlib.pyplot as plt\n",
    "# from wordcloud import WordCloud, STOPWORDS\n",
    "from matplotlib.colors import ListedColormap\n",
    "%matplotlib inline\n",
    "\n",
    "# imports for Natural Language  Processing\n",
    "import re\n",
    "import os\n",
    "import nltk\n",
    "import string\n",
    "import time\n",
    "# import fasttext\n",
    "import spacy.cli\n",
    "from langdetect import detect\n",
    "import contractions\n",
    "import unicodedata\n",
    "import numpy as np\n",
    "import pandas as pd\n",
    "# import xgboost\n",
    "from sklearn import metrics\n",
    "from nltk.corpus import stopwords\n",
    "from html.parser import HTMLParser\n",
    "from nltk.tokenize import TweetTokenizer\n",
    "from nltk.corpus import stopwords, wordnet\n",
    "from nltk.stem import WordNetLemmatizer\n",
    "from nltk.stem import PorterStemmer\n",
    "from nltk.tokenize import word_tokenize\n",
    "from sklearn.feature_extraction.text import TfidfVectorizer\n",
    "nltk.download('stopwords')\n",
    "nltk.download('punkt')\n",
    "\n",
    "# Classification Models\n",
    "\n",
    "from sklearn.svm import LinearSVC, SVC\n",
    "from sklearn.naive_bayes import MultinomialNB\n",
    "from sklearn.tree import DecisionTreeClassifier\n",
    "from sklearn.ensemble import AdaBoostClassifier\n",
    "from sklearn.neighbors import KNeighborsClassifier\n",
    "from sklearn.ensemble import RandomForestClassifier\n",
    "from sklearn.linear_model import LogisticRegression, SGDClassifier\n",
    "\n",
    "# Performance Evaluation\n",
    "from sklearn.pipeline import Pipeline\n",
    "from sklearn.metrics import roc_curve, auc\n",
    "from sklearn.preprocessing import label_binarize\n",
    "from sklearn.model_selection import GridSearchCV\n",
    "from sklearn.model_selection import StratifiedKFold\n",
    "# from scikitplot.metrics import plot_roc, plot_confusion_matrix\n",
    "from sklearn.multiclass import OneVsRestClassifier, OneVsOneClassifier\n",
    "from sklearn.metrics import f1_score, accuracy_score, precision_score, recall_score, classification_report, confusion_matrix\n",
    "\n",
    "# Import library for train test split\n",
    "from sklearn.model_selection import train_test_split, KFold, cross_val_score, GridSearchCV\n",
    "\n",
    "#Resampling techniques\n",
    "from collections import Counter \n",
    "from sklearn.utils import resample\n",
    "from imblearn.over_sampling import SMOTE\n",
    "\n",
    "# Ignore warnings\n",
    "import warnings\n",
    "warnings.simplefilter(action='ignore')\n",
    "\n",
    "#spacy\n",
    "spacy.cli.download('en_core_web_sm')"
   ]
  },
  {
   "cell_type": "markdown",
   "id": "d04f389a",
=======
>>>>>>> Stashed changes
   "metadata": {},
   "source": [
    "## 1.0 Importing Packages \n",
    "\n",
    "<a href=#content>Back to Table of Contents</a>\n",
    "\n",
    "    \n",
    "| Description |\n",
    "| :--------------------------- |\n",
    "| In this section, the packages and libraries required to carry out data loading, text processing; data engineering and visualisation; model building and evaluation are imported . |"
   ]
  },
  {
   "cell_type": "code",
<<<<<<< Updated upstream
   "execution_count": 24,
   "id": "71369bed",
=======
   "execution_count": 2,
>>>>>>> Stashed changes
   "metadata": {},
   "outputs": [],
   "source": [
    "# Data loading and Text processing\n",
    "import numpy as np\n",
    "import pandas as pd\n",
    "import re\n",
    "import string\n",
    "import nltk\n",
    "from nltk.corpus import stopwords\n",
    "from sklearn.feature_extraction.text import CountVectorizer\n",
<<<<<<< Updated upstream
    "# from spellchecker import SpellChecker\n",
=======
    "#from spellchecker import SpellChecker\n",
>>>>>>> Stashed changes
    "from nltk import tokenize\n",
    "from nltk.stem import WordNetLemmatizer\n",
    "from sklearn.feature_extraction.text import CountVectorizer\n",
    "from sklearn.feature_extraction.text import TfidfVectorizer\n",
    "\n",
    "# Data Visualisation\n",
    "import seaborn as sns\n",
    "import matplotlib.pyplot as plt\n",
    "\n",
    "# Modeling and Evaluation\n",
    "from sklearn.model_selection import train_test_split\n",
    "from sklearn.metrics import classification_report\n",
    "from sklearn.linear_model import RidgeClassifier\n",
    "from sklearn.ensemble import RandomForestClassifier\n",
    "from sklearn.tree import DecisionTreeClassifier\n",
    "from sklearn.ensemble import RandomForestClassifier, AdaBoostClassifier\n",
    "from sklearn.neighbors import KNeighborsClassifier\n",
    "from sklearn.svm import SVC\n",
    "from sklearn.linear_model import SGDClassifier\n",
    "from sklearn.naive_bayes import MultinomialNB\n",
    "from sklearn.neural_network import MLPClassifier"
   ]
  },
  {
   "cell_type": "markdown",
   "metadata": {},
   "source": [
    "<br />\n",
    "\n",
    "## 2.0 Loading Data\n",
    "\n",
    "<a href=#content>Back to Table of Contents</a>\n",
    "\n",
    "    \n",
    "| Description |\n",
    "| :--------------------------- |\n",
    "| The training and testing datasets are loaded from the `train` and `test_with_no_labels` csv files into respective DataFrames. Both datasets accompany this notebook and are available in the data subfolder. |"
   ]
  },
  {
   "cell_type": "code",
<<<<<<< Updated upstream
   "execution_count": 25,
   "id": "879637dc",
=======
   "execution_count": 4,
>>>>>>> Stashed changes
   "metadata": {},
   "outputs": [],
   "source": [
    "# read train dataset\n",
    "df_train = pd.read_csv('train.csv')\n",
    "\n",
    "# read test dataset\n",
    "df_test = pd.read_csv('test_with_no_labels.csv')"
   ]
  },
  {
   "cell_type": "markdown",
   "metadata": {},
   "source": [
    "For this project, Pandas library will be used to access and manipulate the datasets. Hence, the training and testing datasets are loaded using the pandas <a href=\"https://pandas.pydata.org/docs/reference/api/pandas.read_csv.html\"> read_csv</a> method. The read_csv method returns a dataframe. Dataframe is a native data structure of the Pandas library which provides easier and visually appealling means of handling data. <br ><br>"
   ]
  },
  {
   "cell_type": "markdown",
   "metadata": {},
   "source": [
    "## 3.0 Exploratory Data Analysis\n",
    "\n",
    "<a href=#content>Back to Table of Contents</a>\n",
    "\n",
    "    \n",
    "| Description |\n",
    "| :--------------------------- |\n",
    "| In this section, the dataset was explored to derive useful insight which will guide in the data engineering and modeling phase.|\n",
    "\n",
    "---"
   ]
  },
  {
   "cell_type": "markdown",
   "metadata": {},
   "source": [
    "### 3.1 Quick Overview of the Dataset"
   ]
  },
  {
   "cell_type": "code",
<<<<<<< Updated upstream
   "execution_count": 9,
   "id": "60ddc108",
=======
   "execution_count": 5,
>>>>>>> Stashed changes
   "metadata": {},
   "outputs": [
    {
     "data": {
      "text/html": [
       "<div>\n",
       "<style scoped>\n",
       "    .dataframe tbody tr th:only-of-type {\n",
       "        vertical-align: middle;\n",
       "    }\n",
       "\n",
       "    .dataframe tbody tr th {\n",
       "        vertical-align: top;\n",
       "    }\n",
       "\n",
       "    .dataframe thead th {\n",
       "        text-align: right;\n",
       "    }\n",
       "</style>\n",
       "<table border=\"1\" class=\"dataframe\">\n",
       "  <thead>\n",
       "    <tr style=\"text-align: right;\">\n",
       "      <th></th>\n",
       "      <th>sentiment</th>\n",
       "      <th>message</th>\n",
       "      <th>tweetid</th>\n",
       "    </tr>\n",
       "  </thead>\n",
       "  <tbody>\n",
       "    <tr>\n",
       "      <th>0</th>\n",
       "      <td>1</td>\n",
       "      <td>PolySciMajor EPA chief doesn't think carbon di...</td>\n",
       "      <td>625221</td>\n",
       "    </tr>\n",
       "    <tr>\n",
       "      <th>1</th>\n",
       "      <td>1</td>\n",
       "      <td>It's not like we lack evidence of anthropogeni...</td>\n",
       "      <td>126103</td>\n",
       "    </tr>\n",
       "    <tr>\n",
       "      <th>2</th>\n",
       "      <td>2</td>\n",
       "      <td>RT @RawStory: Researchers say we have three ye...</td>\n",
       "      <td>698562</td>\n",
       "    </tr>\n",
       "    <tr>\n",
       "      <th>3</th>\n",
       "      <td>1</td>\n",
       "      <td>#TodayinMaker# WIRED : 2016 was a pivotal year...</td>\n",
       "      <td>573736</td>\n",
       "    </tr>\n",
       "    <tr>\n",
       "      <th>4</th>\n",
       "      <td>1</td>\n",
       "      <td>RT @SoyNovioDeTodas: It's 2016, and a racist, ...</td>\n",
       "      <td>466954</td>\n",
       "    </tr>\n",
       "  </tbody>\n",
       "</table>\n",
       "</div>"
      ],
      "text/plain": [
       "   sentiment                                            message  tweetid\n",
       "0          1  PolySciMajor EPA chief doesn't think carbon di...   625221\n",
       "1          1  It's not like we lack evidence of anthropogeni...   126103\n",
       "2          2  RT @RawStory: Researchers say we have three ye...   698562\n",
       "3          1  #TodayinMaker# WIRED : 2016 was a pivotal year...   573736\n",
       "4          1  RT @SoyNovioDeTodas: It's 2016, and a racist, ...   466954"
      ]
     },
<<<<<<< Updated upstream
     "execution_count": 9,
=======
     "execution_count": 5,
>>>>>>> Stashed changes
     "metadata": {},
     "output_type": "execute_result"
    }
   ],
   "source": [
    "df_train.head()"
   ]
  },
  {
   "cell_type": "markdown",
   "metadata": {},
   "source": [
    "To have a quick overview of the dataset, the pandas<a href=\"https://pandas.pydata.org/docs/reference/api/pandas.DataFrame.head.html?highlight=head#pandas.DataFrame.head\"> DataFrame.head </a> method was used to display the first five rows of the train dataset. It is immediately obvious that the dataset contains two predictors; message and tweetid with a target variable.\n",
    "<br /><br />"
   ]
  },
  {
   "cell_type": "code",
<<<<<<< Updated upstream
   "execution_count": 10,
   "id": "93185608",
=======
   "execution_count": 6,
>>>>>>> Stashed changes
   "metadata": {},
   "outputs": [
    {
     "name": "stdout",
     "output_type": "stream",
     "text": [
      "<class 'pandas.core.frame.DataFrame'>\n",
      "RangeIndex: 15819 entries, 0 to 15818\n",
      "Data columns (total 3 columns):\n",
      " #   Column     Non-Null Count  Dtype \n",
      "---  ------     --------------  ----- \n",
      " 0   sentiment  15819 non-null  int64 \n",
      " 1   message    15819 non-null  object\n",
      " 2   tweetid    15819 non-null  int64 \n",
      "dtypes: int64(2), object(1)\n",
      "memory usage: 370.9+ KB\n"
     ]
    }
   ],
   "source": [
    "df_train.info()"
   ]
  },
  {
   "cell_type": "markdown",
   "metadata": {},
   "source": [
    "The dataset contains 15,819 entries with no null values. Hence, the shape of the dataset can be deduced to be (15819, 3) <br /><br />"
   ]
  },
  {
   "cell_type": "markdown",
   "metadata": {},
   "source": [
    "### 3.2 Target  Variable"
   ]
  },
  {
   "cell_type": "code",
   "execution_count": 7,
   "metadata": {},
   "outputs": [
    {
     "data": {
      "text/plain": [
       " 1    8530\n",
       " 2    3640\n",
       " 0    2353\n",
       "-1    1296\n",
       "Name: sentiment, dtype: int64"
      ]
     },
     "execution_count": 7,
     "metadata": {},
     "output_type": "execute_result"
    }
   ],
   "source": [
    "# Count class\n",
    "category_counts = df_train['sentiment'].value_counts()\n",
    "category_counts"
   ]
  },
  {
   "cell_type": "markdown",
   "metadata": {},
   "source": [
    "There are four distinct Class Descriptions present in the train data. Hence the the problem is a multi-class classification problem. \n",
    "* 2 News: the tweet links to factual news about climate change\n",
    "* 1 Pro: the tweet supports the belief of man-made climate change\n",
    "* 0 Neutral: the tweet neither supports nor refutes the belief of man-made climate change\n",
    "* -1 Anti: the tweet does not believe in man-made climate change"
   ]
  },
  {
   "cell_type": "markdown",
   "metadata": {},
   "source": [
    "#### 3.2.1 Distribution of Target"
   ]
  },
  {
   "cell_type": "code",
   "execution_count": 8,
   "metadata": {},
   "outputs": [
    {
     "data": {
      "image/png": "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\n",
      "text/plain": [
       "<Figure size 504x360 with 1 Axes>"
      ]
     },
     "metadata": {
      "needs_background": "light"
     },
     "output_type": "display_data"
    }
   ],
   "source": [
    "fig, ax = plt.subplots(figsize = (7, 5))\n",
    "target =df_train['sentiment'].value_counts()\n",
    "sns.barplot(x=target.index, y=target, ax=ax)\n",
    "plt.title(\"Distrubution of Sentiments\")\n",
    "plt.xlabel('Sentiment Categories')\n",
    "plt.ylabel(\"Samples\")\n",
    "plt.show()"
   ]
  },
  {
   "cell_type": "markdown",
   "metadata": {},
   "source": [
    "The distribution indicates that there is a category imbalance in the train dataset. The effect of this imbalance, if not attended to, is a model which performs very well at categorising samples of a particular category and fails at others. For an instance, a model built on this train data will perform well in categorising tweets which supports man-made climate change (1) but fails at classifying the Anti tweets. <br /><br />"
   ]
  },
  {
   "cell_type": "markdown",
   "metadata": {},
   "source": [
    "### 3.3 Features\n",
    "\n",
    "From the overview of the data carried out prior, there are two features in the dataset. The message and tweetId features. The tweeteId is numerical while the message is object."
   ]
  },
  {
   "cell_type": "markdown",
   "metadata": {},
   "source": [
    "#### 3.3.1 The tweetid feature"
   ]
  },
  {
   "cell_type": "code",
   "execution_count": 9,
   "metadata": {},
   "outputs": [
    {
     "data": {
      "image/png": "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\n",
      "text/plain": [
       "<Figure size 432x288 with 1 Axes>"
      ]
     },
     "metadata": {
      "needs_background": "light"
     },
     "output_type": "display_data"
    }
   ],
   "source": [
    "plt.hist(df_train['tweetid'])\n",
    "plt.title(\"Histogram of tweetid\")\n",
    "plt.show()"
   ]
  },
  {
   "cell_type": "markdown",
   "metadata": {},
   "source": [
    "The distribution of the tweetid feature is almost uniform. This feature contains unique value for all samples. Hence will not be very useful for modelling. Hence, this feature will be dropped. <br /><br />"
   ]
  },
  {
   "cell_type": "markdown",
   "metadata": {},
   "source": [
    "#### 3.3.2 The message feature\n",
    "\n",
    "The message feature contains natural language. Hance character, word and sentence level analysis is carried out. <br /><br />"
   ]
  },
  {
   "cell_type": "markdown",
   "metadata": {},
   "source": [
    "###### 3.3.2.1 Total Number of Distinct words in the Test Dataset"
   ]
  },
  {
   "cell_type": "code",
   "execution_count": 10,
   "metadata": {},
   "outputs": [],
   "source": [
    " def create_bank_set(dataset, word=\"\", category=\"\"):\n",
    "    '''\n",
    "        Creates a list of all the words or characters in the message feature\n",
    "        \n",
    "        Input:\n",
    "        dataset - The dataset to extract from\n",
    "        category - Filters the messages in the dataset to include only the specified category\n",
    "        type - Specifies the level of extraction; wether characters or words\n",
    "        \n",
    "        Output:\n",
    "        pandas DataFrame of all the characters of the specified category \n",
    "    '''\n",
    "    corpus = []\n",
    "    if category:\n",
    "        df = dataset[dataset['sentiment'] == category]['message']\n",
    "    else:\n",
    "        df = dataset['message']\n",
    "    \n",
    "    if word:\n",
    "        bank = []\n",
    "        for row in df:\n",
    "            bank.extend(row.split(\" \"))\n",
    "    else:\n",
    "        bank = [row[x] for row in df for x in range(len(row))]\n",
    "        \n",
    "    return pd.DataFrame(bank)"
   ]
  },
  {
   "cell_type": "markdown",
   "metadata": {},
   "source": [
    "<br />\n",
    "Using the create_bank_set function to create a word bank for the entire train dataset"
   ]
  },
  {
   "cell_type": "code",
   "execution_count": 11,
   "metadata": {},
   "outputs": [
    {
     "name": "stdout",
     "output_type": "stream",
     "text": [
      "Total words: 278862 \n",
      "Unique words: 47968\n"
     ]
    }
   ],
   "source": [
    "words = create_bank_set(df_train, word=True)\n",
    "total_words = len(words[0])\n",
    "count_unique = len(words[0].unique())\n",
    "print(\"Total words: {} \\nUnique words: {}\".format(total_words, count_unique))"
   ]
  },
  {
   "cell_type": "markdown",
   "metadata": {},
   "source": [
    "There are about 48,000 total words in the unprocessed train dataset. Considering that there are 15,819 total number of tweets, it can be deduced that each tweet will only contain on the average 47,968 / 15,189 = 3.158 unique word."
   ]
  },
  {
   "cell_type": "markdown",
   "metadata": {},
   "source": [
    "###### 3.3.2.2 Top 10 Most frequent words in each Category"
   ]
  },
  {
   "cell_type": "code",
   "execution_count": 32,
   "metadata": {},
   "outputs": [
    {
     "data": {
      "image/png": "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\n",
      "text/plain": [
       "<Figure size 1080x720 with 4 Axes>"
      ]
     },
     "metadata": {
      "needs_background": "light"
     },
     "output_type": "display_data"
    }
   ],
   "source": [
    "# Distribution of words per Class\n",
    "fig, ax = plt.subplots(2,2, figsize=(15,10))\n",
    "categories = [-1, 0, 1, 2]\n",
    "\n",
    "pos_x = 0\n",
    "pos_y = 0 \n",
    "\n",
    "for i, category in enumerate(categories):\n",
    "    if i > 1:\n",
    "        pos_x = 1\n",
    "        \n",
    "    pos_y = i % 2\n",
    "    \n",
    "    data = create_bank_set(df_train, word=True, category=category)\n",
    "    data = data[0].value_counts().head(10)\n",
    "    sns.barplot(x=data.index, y=data, ax=ax[pos_x][pos_y], palette=\"OrRd_r\")\n",
    "    ax[pos_x][pos_y].set_ylabel(\"Number of Occurence\")\n",
    "    ax[pos_x][pos_y].set_title(\"Distribution of words in Class \" + str(category))\n",
    "    ax[pos_x][pos_y].set_xlabel(\"Words\")\n",
    "    plt.setp(ax[pos_x][pos_y].get_xticklabels(), rotation=45)\n",
    "   \n",
    "    \n",
    "plt.subplots_adjust(left=0.1,\n",
    "                    bottom=0.1, \n",
    "                    right=0.9, \n",
    "                    top=0.9, \n",
    "                    wspace=0.4, \n",
    "                    hspace=0.4)\n",
    "plt.show()"
   ]
  },
  {
   "cell_type": "markdown",
   "metadata": {},
   "source": [
    "<a href=\"https://medium.com/@saitejaponugoti/stop-words-in-nlp-5b248dadad47\"> Stop words </a> are very common words that don’t have a lot of meaning or words that can be safely ignored without sacrificing the meaning of a text like this, that, or etc. From the above distribution, in addition to the obvious stop words, tweets from the different classes appear to contain similar wordings like Climate, change, RT, and global. These words usually will not be considered as stop words but in this case, since they appear the most frequent in almost all the categories, they will behave more like stop words, providing little or no information to our model. Hence, a consideration to drop such common words. <br /><br />"
   ]
  },
  {
   "cell_type": "markdown",
   "metadata": {},
   "source": [
    "###### 3.3.2.3 Total Number of Stop words "
   ]
  },
  {
   "cell_type": "code",
   "execution_count": 33,
   "metadata": {},
   "outputs": [
    {
     "name": "stdout",
     "output_type": "stream",
     "text": [
      "Total Stopwords: 73137\n",
      "Unique Stopwords: 151\n",
      "Percentage of stopwords in  the entire train dataset : 26.23%\n",
      "Percentage of Unique stopwords in the total unique words: 0.31%\n"
     ]
    }
   ],
   "source": [
    "stop_words = stopwords.words('english')\n",
    "chars = create_bank_set(df_train, word=True)[0]\n",
    "chars = [x for x in chars if x in stop_words]\n",
    "total_stopwords = len(chars)\n",
    "unique_stopwords = len(set(chars))\n",
    "print(\"Total Stopwords: {}\".format(total_stopwords))\n",
    "print(\"Unique Stopwords: {}\".format(unique_stopwords))\n",
    "print(\"Percentage of stopwords in  the entire train dataset : {}%\"\n",
    "      .format(round((total_stopwords / total_words) * 100, 2)))\n",
    "print(\"Percentage of Unique stopwords in the total unique words: {}%\"\n",
    "     .format(round((unique_stopwords / count_unique) * 100, 2)))"
   ]
  },
  {
   "cell_type": "markdown",
   "metadata": {},
   "source": [
    "###### 3.3.2.4 Top 10 Common stop words in train dataset"
   ]
  },
  {
   "cell_type": "code",
   "execution_count": 35,
   "metadata": {},
   "outputs": [
    {
     "data": {
      "text/plain": [
       "<AxesSubplot:ylabel='0'>"
      ]
     },
     "execution_count": 35,
     "metadata": {},
     "output_type": "execute_result"
    },
    {
     "data": {
      "image/png": "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\n",
      "text/plain": [
       "<Figure size 432x288 with 1 Axes>"
      ]
     },
     "metadata": {
      "needs_background": "light"
     },
     "output_type": "display_data"
    }
   ],
   "source": [
    "stop_words = stopwords.words('english')\n",
    "chars = create_bank_set(df_train, word=True)[0]\n",
    "chars = [x for x in chars if x in stop_words]\n",
    "data = pd.DataFrame(chars)[0].value_counts().head(10)\n",
    "sns.barplot(x=data.index, y=data, palette=\"OrRd_r\")"
   ]
  },
  {
   "cell_type": "markdown",
   "metadata": {},
   "source": [
    "###### 3.3.2.5 Ngram Analysis"
   ]
  },
  {
   "cell_type": "code",
   "execution_count": 36,
   "metadata": {},
   "outputs": [],
   "source": [
    "def get_ngram(message, nrange=(2, 3)):\n",
    "    '''\n",
    "        Takes a text and returns ngram and thier number of occurence.\n",
    "        \n",
    "        Input:\n",
    "            message: (series) A column of texts \n",
    "            nrange: (tuple) The range of ngram\n",
    "            \n",
    "        Output:\n",
    "            words_freq: (list) A list of tuple containing ngrams and their number of occurence\n",
    "    '''\n",
    "    vec = CountVectorizer(ngram_range = nrange).fit(message)\n",
    "    bag_of_words = vec.transform(message)\n",
    "    sum_of_words = bag_of_words.sum(axis=0)\n",
    "    words_freq = [(word, sum_of_words[0, idx]) for word, idx in vec.vocabulary_.items()]\n",
    "    words_freq = sorted(words_freq, key = lambda x: x[1], reverse=True)\n",
    "    return words_freq"
   ]
  },
  {
   "cell_type": "markdown",
   "metadata": {},
   "source": [
    "###### 3.3.2.6 Top 10 most frequent Ngrams"
   ]
  },
  {
   "cell_type": "code",
   "execution_count": 1,
   "metadata": {},
   "outputs": [
    {
     "ename": "NameError",
     "evalue": "name 'plt' is not defined",
     "output_type": "error",
     "traceback": [
      "\u001b[1;31m---------------------------------------------------------------------------\u001b[0m",
      "\u001b[1;31mNameError\u001b[0m                                 Traceback (most recent call last)",
      "\u001b[1;32m<ipython-input-1-2c2b59d559d3>\u001b[0m in \u001b[0;36m<module>\u001b[1;34m\u001b[0m\n\u001b[1;32m----> 1\u001b[1;33m \u001b[0mplt\u001b[0m\u001b[1;33m.\u001b[0m\u001b[0mfigure\u001b[0m\u001b[1;33m(\u001b[0m\u001b[0mfigsize\u001b[0m\u001b[1;33m=\u001b[0m\u001b[1;33m(\u001b[0m\u001b[1;36m10\u001b[0m\u001b[1;33m,\u001b[0m\u001b[1;36m5\u001b[0m\u001b[1;33m)\u001b[0m\u001b[1;33m)\u001b[0m\u001b[1;33m\u001b[0m\u001b[1;33m\u001b[0m\u001b[0m\n\u001b[0m\u001b[0;32m      2\u001b[0m \u001b[0mtop_tweet_bigrams\u001b[0m \u001b[1;33m=\u001b[0m \u001b[0mget_ngram\u001b[0m\u001b[1;33m(\u001b[0m\u001b[0mdf_train\u001b[0m\u001b[1;33m[\u001b[0m\u001b[1;34m'message'\u001b[0m\u001b[1;33m]\u001b[0m\u001b[1;33m,\u001b[0m \u001b[0mnrange\u001b[0m\u001b[1;33m=\u001b[0m\u001b[1;33m(\u001b[0m\u001b[1;36m2\u001b[0m\u001b[1;33m,\u001b[0m\u001b[1;36m4\u001b[0m\u001b[1;33m)\u001b[0m\u001b[1;33m)\u001b[0m\u001b[1;33m[\u001b[0m\u001b[1;33m:\u001b[0m\u001b[1;36m10\u001b[0m\u001b[1;33m]\u001b[0m\u001b[1;33m\u001b[0m\u001b[1;33m\u001b[0m\u001b[0m\n\u001b[0;32m      3\u001b[0m \u001b[0mx\u001b[0m\u001b[1;33m,\u001b[0m \u001b[0my\u001b[0m \u001b[1;33m=\u001b[0m \u001b[0mmap\u001b[0m\u001b[1;33m(\u001b[0m\u001b[0mlist\u001b[0m\u001b[1;33m,\u001b[0m\u001b[0mzip\u001b[0m\u001b[1;33m(\u001b[0m\u001b[1;33m*\u001b[0m\u001b[0mtop_tweet_bigrams\u001b[0m\u001b[1;33m)\u001b[0m\u001b[1;33m)\u001b[0m\u001b[1;33m\u001b[0m\u001b[1;33m\u001b[0m\u001b[0m\n\u001b[0;32m      4\u001b[0m \u001b[0msns\u001b[0m\u001b[1;33m.\u001b[0m\u001b[0mbarplot\u001b[0m\u001b[1;33m(\u001b[0m\u001b[0mx\u001b[0m\u001b[1;33m=\u001b[0m\u001b[0my\u001b[0m\u001b[1;33m,\u001b[0m\u001b[0my\u001b[0m\u001b[1;33m=\u001b[0m\u001b[0mx\u001b[0m\u001b[1;33m,\u001b[0m \u001b[0mpalette\u001b[0m\u001b[1;33m=\u001b[0m\u001b[1;34m\"OrRd_r\"\u001b[0m\u001b[1;33m)\u001b[0m\u001b[1;33m\u001b[0m\u001b[1;33m\u001b[0m\u001b[0m\n",
      "\u001b[1;31mNameError\u001b[0m: name 'plt' is not defined"
     ]
    }
   ],
   "source": [
    "plt.figure(figsize=(10,5))\n",
    "top_tweet_bigrams = get_ngram(df_train['message'], nrange=(2,4))[:10]\n",
    "x, y = map(list,zip(*top_tweet_bigrams))\n",
    "sns.barplot(x=y,y=x, palette=\"OrRd_r\")"
   ]
  },
  {
   "cell_type": "markdown",
   "metadata": {},
   "source": [
    "The ngram analysis indicates a paramount need to rid the dataset of links. Links related texts like https and co dominated the ngrams <br /><br />"
   ]
  },
  {
   "cell_type": "code",
   "execution_count": null,
   "id": "8627aeb2",
   "metadata": {},
   "outputs": [],
   "source": []
  },
  {
   "cell_type": "code",
   "execution_count": null,
   "id": "aca0042d",
   "metadata": {},
   "outputs": [],
   "source": []
  },
  {
   "cell_type": "code",
   "execution_count": null,
   "id": "e1a99a0d",
   "metadata": {},
   "outputs": [],
   "source": []
  },
  {
   "cell_type": "markdown",
   "id": "115d5972",
   "metadata": {},
   "source": [
    "#  Exploratory Data Analysis \n",
    "\n",
    "Exploratory data analysis is an approach to analyzing data sets to summarize their main characteristics, often with visual methods. primarily EDA is for seeing what the data can tell us beyond the formal modeling or hypothesis testing task.This approach for data analysis uses many tools(mainly graphical to maximize insight into a data set, extract important variables, detect outliers and anomalies, amongst other details that is missed when looking at DataFrame.\n",
    "\n",
    "This step is very important especially when we model the data in order to apply Machine Learning techniques."
   ]
  },
  {
   "cell_type": "markdown",
   "id": "39706e1e",
   "metadata": {},
   "source": [
    "###  Missing values and blank strings "
   ]
  },
  {
   "cell_type": "code",
   "execution_count": 26,
   "id": "f6886f4d",
   "metadata": {},
   "outputs": [
    {
     "data": {
      "text/plain": [
       "sentiment    0\n",
       "message      0\n",
       "tweetid      0\n",
       "dtype: int64"
      ]
     },
     "execution_count": 26,
     "metadata": {},
     "output_type": "execute_result"
    }
   ],
   "source": [
    "df_train.isnull().sum()"
   ]
  },
  {
   "cell_type": "code",
   "execution_count": 27,
   "id": "5bae1b78",
   "metadata": {},
   "outputs": [
    {
     "data": {
      "text/plain": [
       "message    0\n",
       "tweetid    0\n",
       "dtype: int64"
      ]
     },
     "execution_count": 27,
     "metadata": {},
     "output_type": "execute_result"
    }
   ],
   "source": [
    "df_test.isnull().sum()"
   ]
  },
  {
   "cell_type": "code",
   "execution_count": 29,
   "id": "a237a15a",
   "metadata": {},
   "outputs": [
    {
     "name": "stdout",
     "output_type": "stream",
     "text": [
      "0 blanks:  []\n"
     ]
    }
   ],
   "source": [
    "blanks = []  \n",
    "\n",
    "for ms in df_train.itertuples():  \n",
    "    if type(ms)==str:            \n",
    "        if ms.isspace():         \n",
    "            blanks.append(i)     \n",
    "        \n",
    "print(len(blanks), 'blanks: ', blanks)"
   ]
  },
  {
   "cell_type": "code",
   "execution_count": 30,
   "id": "269192d7",
   "metadata": {},
   "outputs": [
    {
     "name": "stdout",
     "output_type": "stream",
     "text": [
      "0 blanks:  []\n"
     ]
    }
   ],
   "source": [
    "blanks = []  \n",
    "\n",
    "for ms in df_test.itertuples():  \n",
    "    if type(ms)==str:            \n",
    "        if ms.isspace():         \n",
    "            blanks.append(i)     \n",
    "        \n",
    "print(len(blanks), 'blanks: ', blanks)"
   ]
  },
  {
   "cell_type": "markdown",
   "id": "f7070b38",
   "metadata": {},
   "source": [
    "**Observation:**\n",
    "* The training dataset has no null values or any blank tweet rows within it.\n",
    "* The test data also has no missing values or blank tweet rows"
   ]
  },
  {
   "cell_type": "markdown",
   "id": "bceced15",
   "metadata": {},
   "source": [
    "###  Data summary statisitics"
   ]
  },
  {
   "cell_type": "code",
   "execution_count": 31,
   "id": "1d051633",
   "metadata": {},
   "outputs": [
    {
     "data": {
      "text/html": [
       "<div>\n",
       "<style scoped>\n",
       "    .dataframe tbody tr th:only-of-type {\n",
       "        vertical-align: middle;\n",
       "    }\n",
       "\n",
       "    .dataframe tbody tr th {\n",
       "        vertical-align: top;\n",
       "    }\n",
       "\n",
       "    .dataframe thead th {\n",
       "        text-align: right;\n",
       "    }\n",
       "</style>\n",
       "<table border=\"1\" class=\"dataframe\">\n",
       "  <thead>\n",
       "    <tr style=\"text-align: right;\">\n",
       "      <th></th>\n",
       "      <th>sentiment</th>\n",
       "      <th>message</th>\n",
       "      <th>tweetid</th>\n",
       "    </tr>\n",
       "  </thead>\n",
       "  <tbody>\n",
       "    <tr>\n",
       "      <th>0</th>\n",
       "      <td>1</td>\n",
       "      <td>PolySciMajor EPA chief doesn't think carbon di...</td>\n",
       "      <td>625221</td>\n",
       "    </tr>\n",
       "    <tr>\n",
       "      <th>1</th>\n",
       "      <td>1</td>\n",
       "      <td>It's not like we lack evidence of anthropogeni...</td>\n",
       "      <td>126103</td>\n",
       "    </tr>\n",
       "    <tr>\n",
       "      <th>2</th>\n",
       "      <td>2</td>\n",
       "      <td>RT @RawStory: Researchers say we have three ye...</td>\n",
       "      <td>698562</td>\n",
       "    </tr>\n",
       "    <tr>\n",
       "      <th>3</th>\n",
       "      <td>1</td>\n",
       "      <td>#TodayinMaker# WIRED : 2016 was a pivotal year...</td>\n",
       "      <td>573736</td>\n",
       "    </tr>\n",
       "    <tr>\n",
       "      <th>4</th>\n",
       "      <td>1</td>\n",
       "      <td>RT @SoyNovioDeTodas: It's 2016, and a racist, ...</td>\n",
       "      <td>466954</td>\n",
       "    </tr>\n",
       "  </tbody>\n",
       "</table>\n",
       "</div>"
      ],
      "text/plain": [
       "   sentiment                                            message  tweetid\n",
       "0          1  PolySciMajor EPA chief doesn't think carbon di...   625221\n",
       "1          1  It's not like we lack evidence of anthropogeni...   126103\n",
       "2          2  RT @RawStory: Researchers say we have three ye...   698562\n",
       "3          1  #TodayinMaker# WIRED : 2016 was a pivotal year...   573736\n",
       "4          1  RT @SoyNovioDeTodas: It's 2016, and a racist, ...   466954"
      ]
     },
     "execution_count": 31,
     "metadata": {},
     "output_type": "execute_result"
    }
   ],
   "source": [
    "df_train.head()"
   ]
  },
  {
   "cell_type": "code",
   "execution_count": 32,
   "id": "c4cfd5b5",
   "metadata": {},
   "outputs": [
    {
     "name": "stdout",
     "output_type": "stream",
     "text": [
      "<class 'pandas.core.frame.DataFrame'>\n",
      "RangeIndex: 15819 entries, 0 to 15818\n",
      "Data columns (total 3 columns):\n",
      " #   Column     Non-Null Count  Dtype \n",
      "---  ------     --------------  ----- \n",
      " 0   sentiment  15819 non-null  int64 \n",
      " 1   message    15819 non-null  object\n",
      " 2   tweetid    15819 non-null  int64 \n",
      "dtypes: int64(2), object(1)\n",
      "memory usage: 370.9+ KB\n"
     ]
    }
   ],
   "source": [
    "df_train.info()"
   ]
  },
  {
   "cell_type": "code",
   "execution_count": 33,
   "id": "30383036",
   "metadata": {},
   "outputs": [
    {
     "data": {
      "text/html": [
       "<div>\n",
       "<style scoped>\n",
       "    .dataframe tbody tr th:only-of-type {\n",
       "        vertical-align: middle;\n",
       "    }\n",
       "\n",
       "    .dataframe tbody tr th {\n",
       "        vertical-align: top;\n",
       "    }\n",
       "\n",
       "    .dataframe thead th {\n",
       "        text-align: right;\n",
       "    }\n",
       "</style>\n",
       "<table border=\"1\" class=\"dataframe\">\n",
       "  <thead>\n",
       "    <tr style=\"text-align: right;\">\n",
       "      <th></th>\n",
       "      <th>message</th>\n",
       "      <th>tweetid</th>\n",
       "    </tr>\n",
       "  </thead>\n",
       "  <tbody>\n",
       "    <tr>\n",
       "      <th>0</th>\n",
       "      <td>Europe will now be looking to China to make su...</td>\n",
       "      <td>169760</td>\n",
       "    </tr>\n",
       "    <tr>\n",
       "      <th>1</th>\n",
       "      <td>Combine this with the polling of staffers re c...</td>\n",
       "      <td>35326</td>\n",
       "    </tr>\n",
       "    <tr>\n",
       "      <th>2</th>\n",
       "      <td>The scary, unimpeachable evidence that climate...</td>\n",
       "      <td>224985</td>\n",
       "    </tr>\n",
       "    <tr>\n",
       "      <th>3</th>\n",
       "      <td>@Karoli @morgfair @OsborneInk @dailykos \\nPuti...</td>\n",
       "      <td>476263</td>\n",
       "    </tr>\n",
       "    <tr>\n",
       "      <th>4</th>\n",
       "      <td>RT @FakeWillMoore: 'Female orgasms cause globa...</td>\n",
       "      <td>872928</td>\n",
       "    </tr>\n",
       "  </tbody>\n",
       "</table>\n",
       "</div>"
      ],
      "text/plain": [
       "                                             message  tweetid\n",
       "0  Europe will now be looking to China to make su...   169760\n",
       "1  Combine this with the polling of staffers re c...    35326\n",
       "2  The scary, unimpeachable evidence that climate...   224985\n",
       "3  @Karoli @morgfair @OsborneInk @dailykos \\nPuti...   476263\n",
       "4  RT @FakeWillMoore: 'Female orgasms cause globa...   872928"
      ]
     },
     "execution_count": 33,
     "metadata": {},
     "output_type": "execute_result"
    }
   ],
   "source": [
    "df_test.head()"
   ]
  },
  {
   "cell_type": "code",
   "execution_count": 34,
   "id": "a131bea3",
   "metadata": {},
   "outputs": [
    {
     "name": "stdout",
     "output_type": "stream",
     "text": [
      "<class 'pandas.core.frame.DataFrame'>\n",
      "RangeIndex: 10546 entries, 0 to 10545\n",
      "Data columns (total 2 columns):\n",
      " #   Column   Non-Null Count  Dtype \n",
      "---  ------   --------------  ----- \n",
      " 0   message  10546 non-null  object\n",
      " 1   tweetid  10546 non-null  int64 \n",
      "dtypes: int64(1), object(1)\n",
      "memory usage: 164.9+ KB\n"
     ]
    }
   ],
   "source": [
    "df_test.info()"
   ]
  },
  {
   "cell_type": "markdown",
   "id": "7ceed350",
   "metadata": {},
   "source": [
    "**Observations:**\n",
    "* The train and test datasets contains one categorical column called 'message'\n",
    "* The train dataset contains three columns\n",
    "* The test data contains two columns, it excluses the predictive (y) column sentiment \n",
    "* Some tweets contain twitter handles (e.g @RawStory), numbers (e.g year 2016), hashtags (e.g #TodayinMaker# WIRED) and re-tweets (RT).\n",
    "* Some tweets contain names of ogarnisations, continents and countries.\n",
    "* New lines are represented by '\\n' in the tweet string."
   ]
  },
  {
   "cell_type": "markdown",
   "id": "3caaf61d",
   "metadata": {},
   "source": [
    "###  Sentiment visual distributions"
   ]
  },
  {
   "cell_type": "code",
   "execution_count": 35,
   "id": "1159cda4",
   "metadata": {},
   "outputs": [],
   "source": [
    "#make a copy of the train dataset\n",
    "\n",
    "train1 = df_train.copy()"
   ]
  },
  {
   "cell_type": "markdown",
   "id": "851b7bc5",
   "metadata": {},
   "source": [
    "###  i. The percentage of each sentiment row\n",
    "\n",
    "The following code will count the number of rows each sentiment has and the total percentage it carries "
   ]
  },
  {
   "cell_type": "markdown",
   "id": "7f80c4c2",
   "metadata": {},
   "source": [
    "### ii. Tweets per Sentiment "
   ]
  },
  {
   "cell_type": "code",
   "execution_count": 36,
   "id": "d305e0ff",
   "metadata": {},
   "outputs": [
    {
     "data": {
      "text/plain": [
       "Text(0.5, 1.0, 'Class Distributions')"
      ]
     },
     "execution_count": 36,
     "metadata": {},
     "output_type": "execute_result"
    },
    {
     "data": {
      "image/png": "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\n",
      "text/plain": [
       "<Figure size 432x288 with 1 Axes>"
      ]
     },
     "metadata": {},
     "output_type": "display_data"
    }
   ],
   "source": [
    "'''\n",
    "We calculate the number of tweets per Sentiment,\n",
    "\n",
    "we then plot the class distributions results'''\n",
    "\n",
    "# Number of tweets per sentiment\n",
    "class_distribution = pd.DataFrame(list(train1['sentiment'].value_counts()),\n",
    "                          index=['Pro', 'News', 'Neutral', 'Anti'],\n",
    "                          columns=['Count'])\n",
    "sns.set()\n",
    "sns.barplot(x=class_distribution.index, y=class_distribution.Count, \n",
    "           palette=\"Blues_d\")\n",
    "plt.title('Class Distributions')"
   ]
  },
  {
   "cell_type": "markdown",
   "id": "06412836",
   "metadata": {},
   "source": [
    "**Observations:**\n",
    "* The sum of the tweets relating to news,neutral and anti is less than half of the total tweets.\n",
    "* Looking at the distribution we are able to see that the data is imbalanced, most tweets are skewed to the Pro sentiment category supporting the belief of man-made climate change."
   ]
  },
  {
   "cell_type": "markdown",
   "id": "6a868987",
   "metadata": {},
   "source": [
    "### iii. Number of words per tweet"
   ]
  },
  {
   "cell_type": "code",
   "execution_count": 38,
   "id": "f7da1fc0",
   "metadata": {},
   "outputs": [],
   "source": [
    "#identify the row we want \n",
    "tweet = df_train['message']"
   ]
  },
  {
   "cell_type": "code",
   "execution_count": 39,
   "id": "b05692a9",
   "metadata": {},
   "outputs": [
    {
     "data": {
      "text/html": [
       "<div>\n",
       "<style scoped>\n",
       "    .dataframe tbody tr th:only-of-type {\n",
       "        vertical-align: middle;\n",
       "    }\n",
       "\n",
       "    .dataframe tbody tr th {\n",
       "        vertical-align: top;\n",
       "    }\n",
       "\n",
       "    .dataframe thead th {\n",
       "        text-align: right;\n",
       "    }\n",
       "</style>\n",
       "<table border=\"1\" class=\"dataframe\">\n",
       "  <thead>\n",
       "    <tr style=\"text-align: right;\">\n",
       "      <th></th>\n",
       "      <th>message</th>\n",
       "      <th>sentiment</th>\n",
       "    </tr>\n",
       "  </thead>\n",
       "  <tbody>\n",
       "    <tr>\n",
       "      <th>0</th>\n",
       "      <td>PolySciMajor EPA chief doesn't think carbon di...</td>\n",
       "      <td>1</td>\n",
       "    </tr>\n",
       "    <tr>\n",
       "      <th>1</th>\n",
       "      <td>It's not like we lack evidence of anthropogeni...</td>\n",
       "      <td>1</td>\n",
       "    </tr>\n",
       "    <tr>\n",
       "      <th>2</th>\n",
       "      <td>RT @RawStory: Researchers say we have three ye...</td>\n",
       "      <td>2</td>\n",
       "    </tr>\n",
       "    <tr>\n",
       "      <th>3</th>\n",
       "      <td>#TodayinMaker# WIRED : 2016 was a pivotal year...</td>\n",
       "      <td>1</td>\n",
       "    </tr>\n",
       "    <tr>\n",
       "      <th>4</th>\n",
       "      <td>RT @SoyNovioDeTodas: It's 2016, and a racist, ...</td>\n",
       "      <td>1</td>\n",
       "    </tr>\n",
       "  </tbody>\n",
       "</table>\n",
       "</div>"
      ],
      "text/plain": [
       "                                             message  sentiment\n",
       "0  PolySciMajor EPA chief doesn't think carbon di...          1\n",
       "1  It's not like we lack evidence of anthropogeni...          1\n",
       "2  RT @RawStory: Researchers say we have three ye...          2\n",
       "3  #TodayinMaker# WIRED : 2016 was a pivotal year...          1\n",
       "4  RT @SoyNovioDeTodas: It's 2016, and a racist, ...          1"
      ]
     },
     "execution_count": 39,
     "metadata": {},
     "output_type": "execute_result"
    }
   ],
   "source": [
    "# creating a new DataFrame\n",
    "tweet_df = pd.DataFrame(tweet)\n",
    "\n",
    "# Add sentiment column to the tweets dataframe\n",
    "tweet_df['sentiment'] = train1['sentiment']\n",
    "\n",
    "tweet_df.head()"
   ]
  },
  {
   "cell_type": "code",
   "execution_count": 40,
   "id": "b4a3841e",
   "metadata": {},
   "outputs": [],
   "source": [
    "'''\n",
    "We creating a Collection of written text of each sentiment class '''\n",
    "\n",
    "news_tweets = ' '.join([text for text in tweet_df['message']\n",
    "                        [tweet_df['sentiment'] == 2]])\n",
    "pro_tweets = ' '.join([text for text in tweet_df['message']\n",
    "                       [tweet_df['sentiment'] == 1]])\n",
    "neutral_tweets = ' '.join([text for text in tweet_df['message']\n",
    "                           [tweet_df['sentiment'] == 0]])\n",
    "anti_tweets = ' '.join([text for text in tweet_df['message']\n",
    "                        [tweet_df['sentiment'] == -1]])"
   ]
  },
  {
   "cell_type": "code",
   "execution_count": 41,
   "id": "967a3fe5",
   "metadata": {},
   "outputs": [
    {
     "data": {
      "image/png": "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\n",
      "text/plain": [
       "<Figure size 2880x360 with 1 Axes>"
      ]
     },
     "metadata": {},
     "output_type": "display_data"
    },
    {
     "data": {
      "image/png": "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\n",
      "text/plain": [
       "<Figure size 2880x360 with 1 Axes>"
      ]
     },
     "metadata": {},
     "output_type": "display_data"
    },
    {
     "data": {
      "image/png": "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\n",
      "text/plain": [
       "<Figure size 2880x360 with 1 Axes>"
      ]
     },
     "metadata": {},
     "output_type": "display_data"
    },
    {
     "data": {
      "image/png": "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\n",
      "text/plain": [
       "<Figure size 2880x360 with 1 Axes>"
      ]
     },
     "metadata": {},
     "output_type": "display_data"
    }
   ],
   "source": [
    "# Visualising sentiment class \n",
    "full_title = ['Popular words for News tweets',\n",
    "              'Popular words for Pro tweets',\n",
    "              'Popular words for Neutral tweets',\n",
    "              'Popular words for Anti tweets']\n",
    "#creating a list for the visuals \n",
    "tweet_list = [news_tweets, pro_tweets,\n",
    "              neutral_tweets, anti_tweets]\n",
    "\n",
    "plt.rcParams['figure.figsize'] = [40, 5]\n",
    "\n",
    "for i, sent in enumerate(tweet_list):\n",
    "    plt.subplot(1, 4, i + 1)\n",
    "    freq_dist = nltk.FreqDist(sent.split(' '))\n",
    "    df = pd.DataFrame({'Word': list(freq_dist.keys()),\n",
    "                      'Count' : list(freq_dist.values())})\n",
    "\n",
    "    df = df.nlargest(columns='Count', n=15)\n",
    "\n",
    "    ax = sns.barplot(data=df, y='Word', x='Count', palette=\"Blues_d\")\n",
    "    plt.title(full_title[i])\n",
    "    plt.show()"
   ]
  },
  {
   "cell_type": "markdown",
   "id": "fa1c2d28",
   "metadata": {},
   "source": [
    "* The graphs above showcase the evidence of noise. A lot of stop words are picked up as being important which include: (the, to, and, also of). Also, in the graph labeled popular for news tweets, there is a punctuation (a dash -) picked up as an important word."
   ]
  },
  {
   "cell_type": "markdown",
   "id": "7e94904e",
   "metadata": {},
   "source": [
    "### iv. Mention Analysis\n",
    "\n",
    "A mention is a Tweet that contains another person's username anywhere in the body of the Tweet. We collect these messages, as well as all the replies. Including multiple usernames in a Tweet, all of those people you mentioned will see your Tweet."
   ]
  },
  {
   "cell_type": "code",
   "execution_count": 42,
   "id": "943f9b54",
   "metadata": {},
   "outputs": [
    {
     "data": {
      "image/png": "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\n",
      "text/plain": [
       "<Figure size 1656x360 with 1 Axes>"
      ]
     },
     "metadata": {},
     "output_type": "display_data"
    }
   ],
   "source": [
    "\"\"\"\n",
    "We calculate the number of mentions we have for each sentiment in a tweet\n",
    "\"\"\"\n",
    "\n",
    "# mention count \n",
    "train1['mentions'] = train1['message'].apply(lambda x: len([i for i in str(x) if i == '@']))\n",
    "\n",
    "#plot the number of mentions\n",
    "plt.subplot(1,3,3)\n",
    "sns.stripplot(y='mentions', x='sentiment', data=train1, jitter=True, palette=\"Blues_d\")\n",
    "plt.title('Number of mentions')\n",
    "plt.ylabel('')\n",
    "plt.xlabel('')\n",
    "fig = plt.gcf()\n",
    "fig.set_size_inches( 23, 5)\n",
    "\n",
    "plt.show()"
   ]
  },
  {
   "cell_type": "markdown",
   "id": "9d85f039",
   "metadata": {},
   "source": [
    " **Observation:**\n",
    "\n",
    "The pro and neutral setiments seem to have the most mentions in the tweets compared to the news and anti sentiment classes. "
   ]
  },
  {
   "cell_type": "markdown",
   "id": "4da3cc1e",
   "metadata": {},
   "source": [
    "### v. Extracting hashtags\n",
    "\n",
    "People use the hashtag symbol (#) before a relevant keyword or phrase in their Tweet to categorize those Tweets and help them show more easily in Twitter search. Clicking or tapping on a hashtagged word in any message shows you other Tweets that include that hashtag. Hashtags can be included anywhere in a Tweet"
   ]
  },
  {
   "cell_type": "code",
   "execution_count": 43,
   "id": "06f220ec",
   "metadata": {},
   "outputs": [],
   "source": [
    "# Creating a function to extract hashtags from tweets\n",
    "\n",
    "def extract_hashtags(x):\n",
    "    hashtags = []\n",
    "    for i in x:\n",
    "        ht = re.findall(r'#(\\w+)', i)\n",
    "        hashtags.append(ht)\n",
    "        \n",
    "    return hashtags"
   ]
  },
  {
   "cell_type": "code",
   "execution_count": 45,
   "id": "fb00e106",
   "metadata": {},
   "outputs": [
    {
     "data": {
      "image/png": "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\n",
      "text/plain": [
       "<Figure size 3600x360 with 1 Axes>"
      ]
     },
     "metadata": {},
     "output_type": "display_data"
    },
    {
     "data": {
      "image/png": "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\n",
      "text/plain": [
       "<Figure size 3600x360 with 1 Axes>"
      ]
     },
     "metadata": {},
     "output_type": "display_data"
    },
    {
     "data": {
      "image/png": "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\n",
      "text/plain": [
       "<Figure size 3600x360 with 1 Axes>"
      ]
     },
     "metadata": {},
     "output_type": "display_data"
    },
    {
     "data": {
      "image/png": "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\n",
      "text/plain": [
       "<Figure size 3600x360 with 1 Axes>"
      ]
     },
     "metadata": {},
     "output_type": "display_data"
    }
   ],
   "source": [
    "# Extracting hashtags from tweets\n",
    "news_h = extract_hashtags(tweet_df['message']\n",
    "                              [tweet_df['sentiment'] == 2])\n",
    "pro_h = extract_hashtags(tweet_df['message']\n",
    "                          [tweet_df['sentiment'] == 1])\n",
    "neutral_h = extract_hashtags(tweet_df['message']\n",
    "                              [tweet_df['sentiment'] == 0])\n",
    "anti_h = extract_hashtags(tweet_df['message']\n",
    "                          [tweet_df['sentiment'] == -1])\n",
    "\n",
    "# hashtag list\n",
    "hashtags = [sum(news_h, []), sum(pro_h, []),\n",
    "            sum(neutral_h, []),sum(anti_h, [])]\n",
    "\n",
    "# Visualising the Hashtags\n",
    "ft = [' Hashtags on the News sentiment',\n",
    "              ' Hashtags on the Pro sentiment',\n",
    "              ' Hashtags on the Neutral sentiment',\n",
    "              ' Hashtags on the Anti sentiment']\n",
    "\n",
    "plt.rcParams['figure.figsize'] = [50, 5]\n",
    "\n",
    "for i, sent in enumerate(hashtags):\n",
    "    plt.subplot(1, 4, i + 1)\n",
    "    freq_dist = nltk.FreqDist(sent)\n",
    "    df = pd.DataFrame({'Hashtag': list(freq_dist.keys()),\n",
    "                      'Count' : list(freq_dist.values())})\n",
    "\n",
    "    df = df.nlargest(columns='Count', n=15)\n",
    "\n",
    "    ax = sns.barplot(data=df, y='Hashtag', x='Count', palette=\"Blues_d\")\n",
    "    plt.title(ft[i])\n",
    "    plt.show()"
   ]
  },
  {
   "cell_type": "markdown",
   "id": "a751e112",
   "metadata": {},
   "source": [
    "**Observation:**\n",
    "\n",
    "* We can see that the top 5 hashtags have similar words like Climate, climate change, Trump and Before the flood\n",
    "* Before the flood is a popular hashtags used in pro climate change tweets, this refers to a 2016 documentary where actor Leonardo DiCaprio meets with scientists, activists and world leaders to discuss the dangers of climate change and possible solutions.\n",
    "* In the anti climate change tweets MAGA (Make America great again) is the top popular hashtag. It is a slogan that was often used by Donald Trump during his campaign for elections in 2016. This soon became a trending hashtag to use to show support for Donald Trump., "
   ]
  },
  {
   "cell_type": "markdown",
   "id": "426124b1",
   "metadata": {},
   "source": [
    "### vi. Url counts "
   ]
  },
  {
   "cell_type": "code",
   "execution_count": 46,
   "id": "8ae56c8f",
   "metadata": {},
   "outputs": [
    {
     "data": {
      "image/png": "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\n",
      "text/plain": [
       "<Figure size 1656x360 with 1 Axes>"
      ]
     },
     "metadata": {},
     "output_type": "display_data"
    }
   ],
   "source": [
    "# extracting urls\n",
    "train1['urls'] = train1['message'].apply(lambda x: len([i for i in x.lower().split() if 'http' in i or 'https' in i]))\n",
    "\n",
    "# ploting the number of urls\n",
    "plt.subplot(1,3,3)\n",
    "sns.stripplot(y='urls', x='sentiment', data=train1, jitter=True, palette=\"Blues_d\")\n",
    "plt.title('Number of urls')\n",
    "plt.ylabel('')\n",
    "plt.xlabel('')\n",
    "fig = plt.gcf()\n",
    "fig.set_size_inches( 23, 5)\n",
    "\n",
    "plt.show()"
   ]
  },
  {
   "cell_type": "markdown",
   "id": "0ec4b0a5",
   "metadata": {},
   "source": [
    "**Observation:\n",
    "There is not much difference between the number of urls in each setiment. "
   ]
  },
  {
   "cell_type": "markdown",
   "id": "5e64958f",
   "metadata": {},
   "source": [
    "### vii. Retweets\n",
    "\n",
    "Twitter allows a user to retweet, or RT another users tweets. We see RT as a popular word in the above visuals. This is great for creating trends, but not useful for sentiment analysis. Now we will remove the duplicates to get a clearer picture of our data set."
   ]
  },
  {
   "cell_type": "code",
   "execution_count": 49,
   "id": "a75911c7",
   "metadata": {},
   "outputs": [
    {
     "data": {
      "image/png": "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\n",
      "text/plain": [
       "<Figure size 576x360 with 1 Axes>"
      ]
     },
     "metadata": {},
     "output_type": "display_data"
    }
   ],
   "source": [
    "# Class distribution for set of retweeted-tweets and set without retweets\n",
    "plt.figure(figsize = (8,5))\n",
    "train1['retweet'] = train1['message'].apply(lambda tweet: 1 if tweet.startswith('RT @') else 0)\n",
    "sns.countplot(x='retweet', data=train1, palette='Blues_d', hue='sentiment')\n",
    "plt.title('Number of Retweets Per Sentiment Class',fontsize=14)\n",
    "plt.xlabel('Retweet')\n",
    "plt.ylabel('Count')\n",
    "plt.legend(title='Class')\n",
    "plt.show()"
   ]
  },
  {
   "cell_type": "markdown",
   "id": "9838fb4b",
   "metadata": {},
   "source": [
    "**Observations:**\n",
    "\n",
    "The Pro sentiment class seems to have more tweets retweeted with over 5000 retweets. while other sentiment classes have less than 2000 retweets. looks like evryone is retweeting positive climate change tweets more than others."
   ]
  },
  {
   "cell_type": "markdown",
   "id": "c6a1b5fc",
   "metadata": {},
   "source": [
    "### viii. Finding entities "
   ]
  },
  {
   "cell_type": "code",
   "execution_count": 56,
   "id": "f482318b",
   "metadata": {},
   "outputs": [],
   "source": [
    "nlp = spacy.load('en_core_web_sm')\n",
    "\n",
    "def entities(df):\n",
    "    df_index = 0\n",
    "\n",
    "    for tweet in df['message']:\n",
    "        tweet = nlp(tweet)\n",
    "\n",
    "    for entity in tweet.ents:\n",
    "        df.loc[df_index, 'message'] = df.loc[df_index, 'message'].replace(str(entity.text), str(entity.label_))\n",
    "        df_index += 1\n",
    "\n",
    "        return df"
   ]
  },
  {
   "cell_type": "code",
   "execution_count": 57,
   "id": "d23c2af5",
   "metadata": {},
   "outputs": [
    {
     "data": {
      "text/html": [
       "<div>\n",
       "<style scoped>\n",
       "    .dataframe tbody tr th:only-of-type {\n",
       "        vertical-align: middle;\n",
       "    }\n",
       "\n",
       "    .dataframe tbody tr th {\n",
       "        vertical-align: top;\n",
       "    }\n",
       "\n",
       "    .dataframe thead th {\n",
       "        text-align: right;\n",
       "    }\n",
       "</style>\n",
       "<table border=\"1\" class=\"dataframe\">\n",
       "  <thead>\n",
       "    <tr style=\"text-align: right;\">\n",
       "      <th></th>\n",
       "      <th>sentiment</th>\n",
       "      <th>message</th>\n",
       "      <th>tweetid</th>\n",
       "    </tr>\n",
       "  </thead>\n",
       "  <tbody>\n",
       "    <tr>\n",
       "      <th>0</th>\n",
       "      <td>1</td>\n",
       "      <td>PolySciMajor EPA chief doesn't think carbon di...</td>\n",
       "      <td>625221</td>\n",
       "    </tr>\n",
       "    <tr>\n",
       "      <th>1</th>\n",
       "      <td>1</td>\n",
       "      <td>It's not like we lack evidence of anthropogeni...</td>\n",
       "      <td>126103</td>\n",
       "    </tr>\n",
       "    <tr>\n",
       "      <th>2</th>\n",
       "      <td>2</td>\n",
       "      <td>RT @RawStory: Researchers say we have three ye...</td>\n",
       "      <td>698562</td>\n",
       "    </tr>\n",
       "    <tr>\n",
       "      <th>3</th>\n",
       "      <td>1</td>\n",
       "      <td>#TodayinMaker# WIRED : 2016 was a pivotal year...</td>\n",
       "      <td>573736</td>\n",
       "    </tr>\n",
       "    <tr>\n",
       "      <th>4</th>\n",
       "      <td>1</td>\n",
       "      <td>RT @SoyNovioDeTodas: It's 2016, and a racist, ...</td>\n",
       "      <td>466954</td>\n",
       "    </tr>\n",
       "    <tr>\n",
       "      <th>...</th>\n",
       "      <td>...</td>\n",
       "      <td>...</td>\n",
       "      <td>...</td>\n",
       "    </tr>\n",
       "    <tr>\n",
       "      <th>15814</th>\n",
       "      <td>1</td>\n",
       "      <td>RT @ezlusztig: They took down the material on ...</td>\n",
       "      <td>22001</td>\n",
       "    </tr>\n",
       "    <tr>\n",
       "      <th>15815</th>\n",
       "      <td>2</td>\n",
       "      <td>RT @washingtonpost: How climate change could b...</td>\n",
       "      <td>17856</td>\n",
       "    </tr>\n",
       "    <tr>\n",
       "      <th>15816</th>\n",
       "      <td>0</td>\n",
       "      <td>notiven: RT: nytimesworld :What does Trump act...</td>\n",
       "      <td>384248</td>\n",
       "    </tr>\n",
       "    <tr>\n",
       "      <th>15817</th>\n",
       "      <td>-1</td>\n",
       "      <td>RT @sara8smiles: Hey liberals the climate chan...</td>\n",
       "      <td>819732</td>\n",
       "    </tr>\n",
       "    <tr>\n",
       "      <th>15818</th>\n",
       "      <td>0</td>\n",
       "      <td>RT @Chet_Cannon: .@kurteichenwald's 'climate c...</td>\n",
       "      <td>806319</td>\n",
       "    </tr>\n",
       "  </tbody>\n",
       "</table>\n",
       "<p>15819 rows × 3 columns</p>\n",
       "</div>"
      ],
      "text/plain": [
       "       sentiment                                            message  tweetid\n",
       "0              1  PolySciMajor EPA chief doesn't think carbon di...   625221\n",
       "1              1  It's not like we lack evidence of anthropogeni...   126103\n",
       "2              2  RT @RawStory: Researchers say we have three ye...   698562\n",
       "3              1  #TodayinMaker# WIRED : 2016 was a pivotal year...   573736\n",
       "4              1  RT @SoyNovioDeTodas: It's 2016, and a racist, ...   466954\n",
       "...          ...                                                ...      ...\n",
       "15814          1  RT @ezlusztig: They took down the material on ...    22001\n",
       "15815          2  RT @washingtonpost: How climate change could b...    17856\n",
       "15816          0  notiven: RT: nytimesworld :What does Trump act...   384248\n",
       "15817         -1  RT @sara8smiles: Hey liberals the climate chan...   819732\n",
       "15818          0  RT @Chet_Cannon: .@kurteichenwald's 'climate c...   806319\n",
       "\n",
       "[15819 rows x 3 columns]"
      ]
     },
     "execution_count": 57,
     "metadata": {},
     "output_type": "execute_result"
    }
   ],
   "source": [
    "entities(df_train)"
   ]
  },
  {
   "cell_type": "markdown",
   "id": "29819b1a",
   "metadata": {},
   "source": [
    "### ix. Twitter Handles\n",
    "\n",
    "A Twitter handle is the username that appears at the end of your unique Twitter URL. Twitter handles appear after the @ sign in your profile URL and it must be unique to your account. A Twitter name, on the other hand, is simply there to help people find the company they're looking for."
   ]
  },
  {
   "cell_type": "code",
   "execution_count": 58,
   "id": "09120b4f",
   "metadata": {},
   "outputs": [],
   "source": [
    "# Creating a function to extract handles from tweets\n",
    "def extract_handles(x):\n",
    "    handles = []\n",
    "    for i in x:\n",
    "        h = re.findall(r'@(\\w+)', i)\n",
    "        handles.append(h)\n",
    "        \n",
    "    return handles"
   ]
  },
  {
   "cell_type": "code",
   "execution_count": 60,
   "id": "9705b83f",
   "metadata": {},
   "outputs": [
    {
     "data": {
      "image/png": "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\n",
      "text/plain": [
       "<Figure size 3600x360 with 1 Axes>"
      ]
     },
     "metadata": {
      "needs_background": "light"
     },
     "output_type": "display_data"
    },
    {
     "data": {
      "image/png": "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\n",
      "text/plain": [
       "<Figure size 3600x360 with 1 Axes>"
      ]
     },
     "metadata": {
      "needs_background": "light"
     },
     "output_type": "display_data"
    },
    {
     "data": {
      "image/png": "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\n",
      "text/plain": [
       "<Figure size 3600x360 with 1 Axes>"
      ]
     },
     "metadata": {
      "needs_background": "light"
     },
     "output_type": "display_data"
    },
    {
     "data": {
      "image/png": "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\n",
      "text/plain": [
       "<Figure size 3600x360 with 1 Axes>"
      ]
     },
     "metadata": {
      "needs_background": "light"
     },
     "output_type": "display_data"
    }
   ],
   "source": [
    "# Extracting handles from tweets\n",
    "news_h = extract_handles(tweet_df['message']\n",
    "                              [tweet_df['sentiment'] == 2])\n",
    "pro_h = extract_handles(tweet_df['message']\n",
    "                          [tweet_df['sentiment'] == 1])\n",
    "neutral_h = extract_handles(tweet_df['message']\n",
    "                              [tweet_df['sentiment'] == 0])\n",
    "anti_h = extract_handles(tweet_df['message']\n",
    "                          [tweet_df['sentiment'] == -1])\n",
    "\n",
    "# handle lists \n",
    "handles = [sum(news_h, []), sum(pro_h, []), sum(neutral_h, []),\n",
    "           sum(anti_h, [])]\n",
    "\n",
    "# Visualising the Handles\n",
    "full_title = ['Twitter Handles on the News sentiment',\n",
    "              'Twitter Handles on the Pro sentiment',\n",
    "              'Twitter Handles on the Neutral sentiment',\n",
    "              'Twitter Handles on the Anti sentiment']\n",
    "\n",
    "plt.rcParams['figure.figsize'] = [50, 5]\n",
    "\n",
    "for i, sent in enumerate(handles):\n",
    "    plt.subplot(1, 4, i + 1)\n",
    "    freq_dist = nltk.FreqDist(sent)\n",
    "    df = pd.DataFrame({'Handle': list(freq_dist.keys()),\n",
    "                      'Count' : list(freq_dist.values())})\n",
    "\n",
    "    df = df.nlargest(columns='Count', n=15)\n",
    "\n",
    "    ax = sns.barplot(data=df, y='Handle', x='Count', palette='Blues_d')\n",
    "    plt.title(full_title[i])\n",
    "    plt.show()"
   ]
  },
  {
   "cell_type": "markdown",
   "id": "85ffc710",
   "metadata": {},
   "source": [
    "**Observations**\n",
    "\n",
    "From the Visuals above we can all that ...\n",
    "* The most popular News handles are actual news broadcaster accounts\n",
    "* The most popular Pro handles seem to be celebrity accounts & news accounts.\n",
    "* Trump features most for most popular Anti & Neutral tweets."
   ]
  },
  {
   "cell_type": "code",
   "execution_count": null,
   "id": "b34c5f33",
   "metadata": {},
   "outputs": [],
   "source": []
  },
  {
   "cell_type": "code",
   "execution_count": null,
   "id": "64050c0e",
   "metadata": {},
   "outputs": [],
   "source": []
  },
  {
   "cell_type": "code",
   "execution_count": null,
   "id": "e0ba8a56",
   "metadata": {},
   "outputs": [],
   "source": []
  },
  {
   "cell_type": "code",
   "execution_count": null,
   "id": "e4866dfa",
   "metadata": {},
   "outputs": [],
   "source": []
  },
  {
   "cell_type": "code",
   "execution_count": null,
   "id": "63207d74",
   "metadata": {},
   "outputs": [],
   "source": []
  },
  {
   "cell_type": "code",
   "execution_count": null,
   "id": "ddd231bc",
   "metadata": {},
   "outputs": [],
   "source": []
  },
  {
   "cell_type": "code",
   "execution_count": null,
   "id": "a2247ecc",
   "metadata": {},
   "outputs": [],
   "source": []
  },
  {
   "cell_type": "markdown",
   "metadata": {},
   "source": [
    "## 4.0 Data Cleaning and Engineering\n",
    "\n",
    "<a href=#content>Back to Table of Contents</a>\n",
    "\n",
    "    \n",
    "| Description |\n",
    "| :--------------------------- |\n",
    "| In this section, the recommendations from the exploratory data analytis phase was implemented. The dataset was cleaned and features engineered from the message field|\n",
    "\n",
    "---"
   ]
  },
  {
   "cell_type": "markdown",
   "metadata": {},
   "source": [
    "### 4.1 Text Cleaning\n",
    "\n",
    "The dataset contains punctuations, links, emojis and twitter specific characters like @ and # symbols. Words also exist in different cases which models might translate and different. Hence, the proceeding function performs cleaning by:\n",
    "- Changing the Case of the words\n",
    "- Remove punctuations\n",
    "- Remove links\n",
    "- Remove emojis\n",
    "- Spelling Correction"
   ]
  },
  {
   "cell_type": "code",
   "execution_count": 41,
   "metadata": {},
   "outputs": [],
   "source": [
    "def clean_data(text):\n",
    "    # change the case of all the words in the text to lowercase \n",
    "    text = text.lower()\n",
    "    \n",
    "    # Remove links from the text\n",
    "    url = re.compile(r'https?://\\S+|www\\.\\S+')\n",
    "    text =  url.sub(r'', text)\n",
    "    \n",
    "    # remove punctuation\n",
    "    text = \"\".join([x for x in text if x not in string.punctuation])\n",
    "    \n",
    "    # Remove Emojis - Emoji Reference : https://gist.github.com/slowkow/7a7f61f495e3dbb7e3d767f97bd7304b\n",
    "    emoji_pattern = re.compile(\"[\"\n",
    "                           u\"\\U0001F600-\\U0001F64F\"  # emoticons\n",
    "                           u\"\\U0001F300-\\U0001F5FF\"  # symbols & pictographs\n",
    "                           u\"\\U0001F680-\\U0001F6FF\"  # transport & map symbols\n",
    "                           u\"\\U0001F1E0-\\U0001F1FF\"  # flags (iOS)\n",
    "                           u\"\\U00002702-\\U000027B0\"\n",
    "                           u\"\\U000024C2-\\U0001F251\"\n",
    "                           \"]+\", flags=re.UNICODE)\n",
    "    text = emoji_pattern.sub(r'', text)\n",
    "    \n",
    "    '''# Correct mispelt word\n",
    "    spelling = SpellChecker()\n",
    "    correct_text = []\n",
    "    misspelt_words = spelling.unknown(text.split())\n",
    "    for word in text.split():\n",
    "        if word in misspelt_words:\n",
    "            correct_text.append(spelling.correction(word))\n",
    "        else:\n",
    "            correct_text.append(word)\n",
    "    text = \" \".join(correct_text)'''\n",
    "    \n",
    "    return text"
   ]
  },
  {
   "cell_type": "markdown",
   "metadata": {},
   "source": [
    "The clean_data function accepts a row of text and returns a string with the punctuations, emojis and links removed including changing the case and correcting misspelt words. <br><br>  "
   ]
  },
  {
   "cell_type": "code",
   "execution_count": 42,
   "metadata": {},
   "outputs": [],
   "source": [
    "# Clean the train dataset\n",
    "df_train['message'] = df_train['message'].apply(clean_data)\n",
    "\n",
    "# Clean the test dataset\n",
    "df_test['message'] = df_test['message'].apply(clean_data)"
   ]
  },
  {
   "cell_type": "markdown",
   "metadata": {},
   "source": [
    "### 4.2 Drop TweetId feature\n",
    "\n",
    "The tweetId feature contains unique values across the feature. Hence, it will contribute little or nothing to the accuracy of the model. While weighing down the moodel in terms of computational cost."
   ]
  },
  {
   "cell_type": "code",
   "execution_count": null,
   "metadata": {},
   "outputs": [],
   "source": [
    "def drop_unwanted(dataframe, unwanted_features):\n",
    "    df = dataframe.drop(unwanted_features,  axis='columns')\n",
    "    return df"
   ]
  },
  {
   "cell_type": "code",
   "execution_count": null,
   "metadata": {},
   "outputs": [],
   "source": [
    "# drop tweetid from train dataset\n",
    "df_train = drop_unwanted(df_train, ['tweetid'])\n",
    "\n",
    "# Reserve tweetid for prediction\n",
    "test_tweet_id = df_test['tweetid']\n",
    "\n",
    "# drop tweetid from test dataset\n",
    "df_test = drop_unwanted(df_test, ['tweetid'])"
   ]
  },
  {
   "cell_type": "markdown",
   "metadata": {},
   "source": [
    "### 4.3 Text Tokenization\n",
    "\n",
    "In this section, the message feature was tokenized (each message was broken down into list of words) using the nltk RegexTokenizer."
   ]
  },
  {
   "cell_type": "code",
   "execution_count": null,
   "metadata": {},
   "outputs": [],
   "source": [
    "def tokenize_data(text):\n",
    "    tokenizer = tokenize.RegexpTokenizer(r'\\w+')\n",
    "    return tokenizer.tokenize(text)"
   ]
  },
  {
   "cell_type": "markdown",
   "metadata": {},
   "source": [
    "The function above takes a row of text and return a list of each word in the text. <br /><br />"
   ]
  },
  {
   "cell_type": "code",
   "execution_count": null,
   "metadata": {},
   "outputs": [],
   "source": [
    "# Tokenize the train dataset\n",
    "df_train['message'] = df_train['message'].apply(tokenize_data)\n",
    "\n",
    "# Tokenize the test dataset\n",
    "df_test['message'] = df_test['message'].apply(tokenize_data)"
   ]
  },
  {
   "cell_type": "markdown",
   "metadata": {},
   "source": [
    "### 4.4 Stop words Removal\n",
    "\n",
    "Stop words from the message feature are removed using the defined function remove_stop_words. <br ><br >"
   ]
  },
  {
   "cell_type": "code",
   "execution_count": null,
   "metadata": {},
   "outputs": [],
   "source": [
    "def remove_stop_words(list_of_words):\n",
    "    # The function takes a list of words and filter out the stop words\n",
    "    words = [word for word in list_of_words if word not in stopwords.words('english')]\n",
    "    return words"
   ]
  },
  {
   "cell_type": "code",
   "execution_count": null,
   "metadata": {},
   "outputs": [],
   "source": [
    "# Remove stop words from train dataset\n",
    "df_train['message'] = df_train['message'].apply(remove_stop_words)\n",
    "\n",
    "# Remove stop words from test dataset\n",
    "df_test['message'] = df_test['message'].apply(remove_stop_words)"
   ]
  },
  {
   "cell_type": "markdown",
   "metadata": {},
   "source": [
    "### 4.5 Lemmatization \n",
    "\n",
    "English words have different variants. cats and cat are variants of cat. Lemmatization will ensure that all variants of a word map to the same root word. ALthough, an alternative to lemmatization is stemming. Stemming will remove the suffix of words and does not necessarily return English words. Hence, Lematization is preffered in this instance."
   ]
  },
  {
   "cell_type": "code",
   "execution_count": null,
   "metadata": {},
   "outputs": [],
   "source": [
    "def lemmatize_words(list_of_words):\n",
    "    lemmatizer = WordNetLemmatizer()\n",
    "    return [lemmatizer.lemmatize(x) for x in list_of_words]"
   ]
  },
  {
   "cell_type": "code",
   "execution_count": null,
   "metadata": {},
   "outputs": [],
   "source": [
    "# lemmatize train set\n",
    "df_train['message'] = df_train['message'].apply(lemmatize_words)\n",
    "\n",
    "# lemmatize test set\n",
    "df_test['message'] = df_test['message'].apply(lemmatize_words)"
   ]
  },
  {
   "cell_type": "markdown",
   "metadata": {},
   "source": [
    "After the lemmatization, we join the tokenized words together. This is to enable us create features from the field."
   ]
  },
  {
   "cell_type": "code",
   "execution_count": null,
   "metadata": {},
   "outputs": [],
   "source": [
    "#Join all the words in the message field\n",
    "df_train['message'] = df_train['message'].apply(lambda x: \" \".join(x))\n",
    "df_test['message'] = df_test['message'].apply(lambda x: \" \".join(x))"
   ]
  },
  {
   "cell_type": "markdown",
   "metadata": {},
   "source": [
    "### 4.6 Features Extraction \n",
    "\n",
    "To create a model, there is a need to have a set of feature(s) and target. Most models only accept numerical values for feature sets. For this project, our feature is a string of words. Hence there is a need to create vectors of digits from these words. The process is called Vectorization.\n",
    "\n",
    "For this project we define a vectorizer with the following tuning\n",
    "- stop_words = 'english'\n",
    "- ngram_range = (1, 4)\n",
    "- max_df = 0.7\n",
    "- min_df = 1"
   ]
  },
  {
   "cell_type": "code",
   "execution_count": null,
   "metadata": {},
   "outputs": [],
   "source": [
    "def vectorize_data(train, test):\n",
    "    vectorizer = TfidfVectorizer(stop_words='english',\n",
    "                                 min_df=1,\n",
    "                                 ngram_range=(1, 2),\n",
    "                                 max_df = 0.5)\n",
    "    train_data = vectorizer.fit_transform(train)\n",
    "    test_data = vectorizer.transform(test)\n",
    "    return train_data, test_data"
   ]
  },
  {
   "cell_type": "code",
   "execution_count": null,
   "metadata": {},
   "outputs": [],
   "source": [
    "#vectorize the train and test dataset\n",
    "train_data, test_data = vectorize_data(df_train['message'], df_test['message'])"
   ]
  },
  {
   "cell_type": "markdown",
   "metadata": {},
   "source": [
    "### 4.6 Spliting Train Dataset \n",
    "\n",
    "To properly access a model, we need to access the model on data which it has not seen before. Hence, there is a need to split the training dataset into two different datasets; the training dataset - which will be used to train a model and the validation set - which will be used to measure the performance of the model. "
   ]
  },
  {
   "cell_type": "code",
   "execution_count": null,
   "metadata": {},
   "outputs": [],
   "source": [
    "train_x, validation_x, train_y, validation_y = train_test_split(train_data, df_train['sentiment'], test_size=0.2,  random_state=20)"
   ]
  },
  {
   "cell_type": "code",
   "execution_count": null,
   "metadata": {},
   "outputs": [],
   "source": [
    "print(train_x.shape)\n",
    "print(validation_x.shape)\n",
    "print(train_y.shape)\n",
    "print(validation_y.shape)"
   ]
  },
  {
   "cell_type": "markdown",
   "metadata": {},
   "source": [
    "## 5.0 Modeling and Evaluation\n",
    "\n",
    "<a href=#content>Back to Table of Contents</a>\n",
    "\n",
    "    \n",
    "| Description |\n",
    "| :--------------------------- |\n",
    "| In this section, several models are trained and evaluated.|\n",
    "\n",
    "---"
   ]
  },
  {
   "cell_type": "markdown",
   "metadata": {},
   "source": [
    "#### 5.1 Ridge Classifier Model"
   ]
  },
  {
   "cell_type": "code",
   "execution_count": null,
   "metadata": {},
   "outputs": [],
   "source": [
    "ridge_model = RidgeClassifier()\n",
    "ridge_model.fit(train_x, train_y)\n",
    "predictions = ridge_model.predict(validation_x)"
   ]
  },
  {
   "cell_type": "code",
   "execution_count": null,
   "metadata": {},
   "outputs": [],
   "source": [
    "print(classification_report(validation_y, predictions, target_names=['2: News', '1: Pro', '0: Neutral', '-1: Anti']))"
   ]
  },
  {
   "cell_type": "markdown",
   "metadata": {},
   "source": [
    "#### 5.2 Random Forest Classifier Model"
   ]
  },
  {
   "cell_type": "code",
   "execution_count": null,
   "metadata": {},
   "outputs": [],
   "source": [
    "tree_model = RandomForestClassifier(random_state=50)\n",
    "tree_model.fit(train_x, train_y)\n",
    "predictions = tree_model.predict(validation_x)"
   ]
  },
  {
   "cell_type": "code",
   "execution_count": null,
   "metadata": {},
   "outputs": [],
   "source": [
    "print(classification_report(validation_y, predictions, target_names=['2: News', '1: Pro', '0: Neutral', '-1: Anti']))"
   ]
  },
  {
   "cell_type": "markdown",
   "metadata": {},
   "source": [
    "#### 5.3 Nearest Neighbour Classifier"
   ]
  },
  {
   "cell_type": "code",
   "execution_count": null,
   "metadata": {},
   "outputs": [],
   "source": [
    "knn_model = KNeighborsClassifier(3)\n",
    "knn_model.fit(train_x, train_y)\n",
    "predictions = knn_model.predict(validation_x)\n",
    "print(classification_report(validation_y, predictions, target_names=['2: News', '1: Pro', '0: Neutral', '-1: Anti']))"
   ]
  },
  {
   "cell_type": "markdown",
   "metadata": {},
   "source": [
    "#### 5.4 Support Vector Classifier"
   ]
  },
  {
   "cell_type": "code",
   "execution_count": null,
   "metadata": {},
   "outputs": [],
   "source": [
    "svc_model = SVC(gamma=2, C=1)\n",
    "svc_model.fit(train_x, train_y)\n",
    "predictions = svc_model.predict(validation_x)\n",
    "print(classification_report(validation_y, predictions, target_names=['2: News', '1: Pro', '0: Neutral', '-1: Anti']))"
   ]
  },
  {
   "cell_type": "markdown",
   "metadata": {},
   "source": [
    "#### 5.5 AdaBoost Classifier"
   ]
  },
  {
   "cell_type": "code",
   "execution_count": null,
   "metadata": {},
   "outputs": [],
   "source": [
    "ada_model = AdaBoostClassifier()\n",
    "ada_model.fit(train_x, train_y)\n",
    "predictions = ada_model.predict(validation_x)\n",
    "print(classification_report(validation_y, predictions, target_names=['2: News', '1: Pro', '0: Neutral', '-1: Anti']))"
   ]
  },
  {
   "cell_type": "code",
   "execution_count": null,
   "metadata": {},
   "outputs": [],
   "source": [
    "bayes_model = MultinomialNB()\n",
    "bayes_model.fit(train_x, train_y)\n",
    "predictions = bayes_model.predict(validation_x)\n",
    "print(classification_report(validation_y, predictions, target_names=['2: News', '1: Pro', '0: Neutral', '-1: Anti']))"
   ]
  },
  {
   "cell_type": "code",
   "execution_count": null,
   "metadata": {},
   "outputs": [],
   "source": [
    "sgdc_model = SGDClassifier()\n",
    "sgdc_model.fit(train_x, train_y)\n",
    "predictions = sgdc_model.predict(validation_x)\n",
    "print(classification_report(validation_y, predictions, target_names=['2: News', '1: Pro', '0: Neutral', '-1: Anti']))"
   ]
  },
  {
   "cell_type": "code",
   "execution_count": null,
   "metadata": {},
   "outputs": [],
   "source": [
    "final_ridge_model = RidgeClassifier()\n",
    "final_ridge_model.fit(train_data, df_train['sentiment'])\n",
    "predictions = final_ridge_model.predict(test_data)"
   ]
  },
  {
   "cell_type": "code",
   "execution_count": null,
   "metadata": {},
   "outputs": [],
   "source": [
    "submission = pd.DataFrame({'tweetid': test_tweet_id, 'sentiment':predictions})\n",
    "submission.to_csv('submission.csv', index=False)\n",
    "\n",
    "predictions.shape"
   ]
  },
  {
   "cell_type": "code",
   "execution_count": null,
   "metadata": {},
   "outputs": [],
   "source": []
  }
 ],
 "metadata": {
  "kernelspec": {
   "display_name": "Python 3",
   "language": "python",
   "name": "python3"
  },
  "language_info": {
   "codemirror_mode": {
    "name": "ipython",
    "version": 3
   },
   "file_extension": ".py",
   "mimetype": "text/x-python",
   "name": "python",
   "nbconvert_exporter": "python",
   "pygments_lexer": "ipython3",
<<<<<<< Updated upstream
   "version": "3.9.7"
=======
   "version": "3.8.5"
>>>>>>> Stashed changes
  }
 },
 "nbformat": 4,
 "nbformat_minor": 5
}
