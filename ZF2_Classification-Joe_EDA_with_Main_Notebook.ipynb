{
 "cells": [
  {
   "cell_type": "markdown",
   "metadata": {},
   "source": [
    "# Climate Change Belief Analysis 2022 - Team ZF2\n",
    "\n",
    "© Explore Data Science Academy\n",
    "\n",
    "---\n",
    "\n",
    "###### Team Members\n",
    "\n",
    "1. Abubakar Abdulkadir\n",
    "2. Joseph Mugo\n",
    "3. Philip Ogunmola\n",
    "4. Rogers Mugambi\n",
    "5. Adewale Nana\n",
    "6. Philip Wambua\n",
    "\n",
    "---"
   ]
  },
  {
   "cell_type": "markdown",
   "metadata": {},
   "source": [
    "## Overview\n",
    "\n",
    "<img src=\"images/climate.jpg\"/>\n",
    "\n",
    "Many companies are built around lessening one’s environmental impact or carbon footprint. They offer products and services that are environmentally friendly and sustainable, in line with their values and ideals. They would like to determine how people perceive climate change and whether or not they believe it is a real threat. This would add to their market research efforts in gauging how their product/service may be received.\n",
    "\n",
    "With this context, this notebook provides a walk through the creation of a Machine Learning model that is able to classify whether or not a person believes in climate change, based on their novel tweet data.\n",
    "\n",
    "Providing an accurate and robust solution to this task gives companies access to a broad base of consumer sentiment, spanning multiple demographic and geographic categories - thus increasing their insights and informing future marketing strategies.\n",
    "\n",
    "---"
   ]
  },
  {
   "cell_type": "markdown",
   "metadata": {},
   "source": [
    "## Table of Contents     <a id=\"content\"></a>\n",
    "\n",
    "<a href=#1>1. Importing Packages</a>\n",
    "\n",
    "<a href=#2>2. Loading Data</a>\n",
    "\n",
    "<a href=#4>4. Exploratory Data Analysis (EDA)</a>\n",
    "\n",
    "<a href=#5>5. Data Cleaning and Engineering</a>\n",
    "\n",
    "<a href=#6>6. Modeling</a>\n",
    "\n",
    "<a href=#7>7. Model Performance </a>\n",
    "\n",
    "<a href=#8>8. Model Explanation </a>\n",
    "\n",
    "<a href=#9>9. Model Deployment </a>"
   ]
  },
  {
   "cell_type": "markdown",
   "metadata": {},
   "source": [
    "## 1.0 Importing Packages \n",
    "\n",
    "<a href=#content>Back to Table of Contents</a>\n",
    "\n",
    "    \n",
    "| Description |\n",
    "| :--------------------------- |\n",
    "| In this section, the packages and libraries required to carry out data loading, text processing; data engineering and visualisation; model building and evaluation are imported . |"
   ]
  },
  {
   "cell_type": "code",
   "execution_count": 27,
   "metadata": {},
   "outputs": [],
   "source": [
    "# Data loading and Text processing\n",
    "import numpy as np\n",
    "import pandas as pd\n",
    "import re\n",
    "import string\n",
    "import nltk\n",
    "from nltk.corpus import stopwords\n",
    "from sklearn.feature_extraction.text import CountVectorizer\n",
    "#from spellchecker import SpellChecker\n",
    "from nltk.tokenize import word_tokenize\n",
    "from nltk.stem import WordNetLemmatizer\n",
    "from sklearn.feature_extraction.text import CountVectorizer\n",
    "from sklearn.feature_extraction.text import TfidfVectorizer\n",
    "\n",
    "# Data Visualisation\n",
    "import seaborn as sns\n",
    "import matplotlib.pyplot as plt\n",
    "\n",
    "# Modeling and Evaluation\n",
    "from sklearn.model_selection import train_test_split\n",
    "from sklearn.metrics import classification_report\n",
    "from sklearn.linear_model import RidgeClassifier\n",
    "from sklearn.ensemble import RandomForestClassifier\n",
    "from sklearn.tree import DecisionTreeClassifier\n",
    "from sklearn.ensemble import RandomForestClassifier, AdaBoostClassifier\n",
    "from sklearn.neighbors import KNeighborsClassifier\n",
    "from sklearn.svm import SVC\n",
    "from sklearn.linear_model import SGDClassifier\n",
    "from sklearn.naive_bayes import MultinomialNB\n",
    "from sklearn.neural_network import MLPClassifier"
   ]
  },
  {
   "cell_type": "markdown",
   "metadata": {},
   "source": [
    "<br />\n",
    "\n",
    "## 2.0 Loading Data\n",
    "\n",
    "<a href=#content>Back to Table of Contents</a>\n",
    "\n",
    "    \n",
    "| Description |\n",
    "| :--------------------------- |\n",
    "| The training and testing datasets are loaded from the `train` and `test_with_no_labels` csv files into respective DataFrames. Both datasets accompany this notebook and are available in the data subfolder. |"
   ]
  },
  {
   "cell_type": "code",
   "execution_count": 4,
   "metadata": {},
   "outputs": [
    {
     "data": {
      "text/html": [
       "<div>\n",
       "<style scoped>\n",
       "    .dataframe tbody tr th:only-of-type {\n",
       "        vertical-align: middle;\n",
       "    }\n",
       "\n",
       "    .dataframe tbody tr th {\n",
       "        vertical-align: top;\n",
       "    }\n",
       "\n",
       "    .dataframe thead th {\n",
       "        text-align: right;\n",
       "    }\n",
       "</style>\n",
       "<table border=\"1\" class=\"dataframe\">\n",
       "  <thead>\n",
       "    <tr style=\"text-align: right;\">\n",
       "      <th></th>\n",
       "      <th>message</th>\n",
       "    </tr>\n",
       "    <tr>\n",
       "      <th>tweetid</th>\n",
       "      <th></th>\n",
       "    </tr>\n",
       "  </thead>\n",
       "  <tbody>\n",
       "    <tr>\n",
       "      <th>169760</th>\n",
       "      <td>Europe will now be looking to China to make su...</td>\n",
       "    </tr>\n",
       "    <tr>\n",
       "      <th>35326</th>\n",
       "      <td>Combine this with the polling of staffers re c...</td>\n",
       "    </tr>\n",
       "    <tr>\n",
       "      <th>224985</th>\n",
       "      <td>The scary, unimpeachable evidence that climate...</td>\n",
       "    </tr>\n",
       "    <tr>\n",
       "      <th>476263</th>\n",
       "      <td>@Karoli @morgfair @OsborneInk @dailykos \\r\\nPu...</td>\n",
       "    </tr>\n",
       "    <tr>\n",
       "      <th>872928</th>\n",
       "      <td>RT @FakeWillMoore: 'Female orgasms cause globa...</td>\n",
       "    </tr>\n",
       "  </tbody>\n",
       "</table>\n",
       "</div>"
      ],
      "text/plain": [
       "                                                   message\n",
       "tweetid                                                   \n",
       "169760   Europe will now be looking to China to make su...\n",
       "35326    Combine this with the polling of staffers re c...\n",
       "224985   The scary, unimpeachable evidence that climate...\n",
       "476263   @Karoli @morgfair @OsborneInk @dailykos \\r\\nPu...\n",
       "872928   RT @FakeWillMoore: 'Female orgasms cause globa..."
      ]
     },
     "execution_count": 4,
     "metadata": {},
     "output_type": "execute_result"
    }
   ],
   "source": [
    "# read train dataset\n",
    "df_train = pd.read_csv('data/train.csv', index_col='tweetid')\n",
    "# read test dataset\n",
    "df_test = pd.read_csv('data/test_with_no_labels.csv', index_col='tweetid')\n",
    "df_test.head()"
   ]
  },
  {
   "cell_type": "markdown",
   "metadata": {},
   "source": [
    "For this project, Pandas library will be used to access and manipulate the datasets. Hence, the training and testing datasets are loaded using the pandas <a href=\"https://pandas.pydata.org/docs/reference/api/pandas.read_csv.html\"> read_csv</a> method. The read_csv method returns a dataframe. Dataframe is a native data structure of the Pandas library which provides easier and visually appealling means of handling data. <br ><br>"
   ]
  },
  {
   "cell_type": "markdown",
   "metadata": {},
   "source": [
    "## 3.0 Exploratory Data Analysis\n",
    "\n",
    "<a href=#content>Back to Table of Contents</a>\n",
    "\n",
    "    \n",
    "| Description |\n",
    "| :--------------------------- |\n",
    "| In this section, the dataset was explored to derive useful insight which will guide in the data engineering and modeling phase.|\n",
    "\n",
    "---"
   ]
  },
  {
   "cell_type": "markdown",
   "metadata": {},
   "source": [
    "### 3.1 Quick Overview of the Dataset"
   ]
  },
  {
   "cell_type": "code",
   "execution_count": 5,
   "metadata": {},
   "outputs": [
    {
     "data": {
      "text/html": [
       "<div>\n",
       "<style scoped>\n",
       "    .dataframe tbody tr th:only-of-type {\n",
       "        vertical-align: middle;\n",
       "    }\n",
       "\n",
       "    .dataframe tbody tr th {\n",
       "        vertical-align: top;\n",
       "    }\n",
       "\n",
       "    .dataframe thead th {\n",
       "        text-align: right;\n",
       "    }\n",
       "</style>\n",
       "<table border=\"1\" class=\"dataframe\">\n",
       "  <thead>\n",
       "    <tr style=\"text-align: right;\">\n",
       "      <th></th>\n",
       "      <th>sentiment</th>\n",
       "      <th>message</th>\n",
       "    </tr>\n",
       "    <tr>\n",
       "      <th>tweetid</th>\n",
       "      <th></th>\n",
       "      <th></th>\n",
       "    </tr>\n",
       "  </thead>\n",
       "  <tbody>\n",
       "    <tr>\n",
       "      <th>625221</th>\n",
       "      <td>1</td>\n",
       "      <td>PolySciMajor EPA chief doesn't think carbon di...</td>\n",
       "    </tr>\n",
       "    <tr>\n",
       "      <th>126103</th>\n",
       "      <td>1</td>\n",
       "      <td>It's not like we lack evidence of anthropogeni...</td>\n",
       "    </tr>\n",
       "    <tr>\n",
       "      <th>698562</th>\n",
       "      <td>2</td>\n",
       "      <td>RT @RawStory: Researchers say we have three ye...</td>\n",
       "    </tr>\n",
       "    <tr>\n",
       "      <th>573736</th>\n",
       "      <td>1</td>\n",
       "      <td>#TodayinMaker# WIRED : 2016 was a pivotal year...</td>\n",
       "    </tr>\n",
       "    <tr>\n",
       "      <th>466954</th>\n",
       "      <td>1</td>\n",
       "      <td>RT @SoyNovioDeTodas: It's 2016, and a racist, ...</td>\n",
       "    </tr>\n",
       "  </tbody>\n",
       "</table>\n",
       "</div>"
      ],
      "text/plain": [
       "         sentiment                                            message\n",
       "tweetid                                                              \n",
       "625221           1  PolySciMajor EPA chief doesn't think carbon di...\n",
       "126103           1  It's not like we lack evidence of anthropogeni...\n",
       "698562           2  RT @RawStory: Researchers say we have three ye...\n",
       "573736           1  #TodayinMaker# WIRED : 2016 was a pivotal year...\n",
       "466954           1  RT @SoyNovioDeTodas: It's 2016, and a racist, ..."
      ]
     },
     "execution_count": 5,
     "metadata": {},
     "output_type": "execute_result"
    }
   ],
   "source": [
    "df_train.head()"
   ]
  },
  {
   "cell_type": "markdown",
   "metadata": {},
   "source": [
    "To have a quick overview of the dataset, the pandas<a href=\"https://pandas.pydata.org/docs/reference/api/pandas.DataFrame.head.html?highlight=head#pandas.DataFrame.head\"> DataFrame.head </a> method was used to display the first five rows of the train dataset. It is immediately obvious that the dataset contains two predictors; message and tweetid with a target variable.\n",
    "<br /><br />"
   ]
  },
  {
   "cell_type": "code",
   "execution_count": 4,
   "metadata": {},
   "outputs": [
    {
     "name": "stdout",
     "output_type": "stream",
     "text": [
      "<class 'pandas.core.frame.DataFrame'>\n",
      "RangeIndex: 15819 entries, 0 to 15818\n",
      "Data columns (total 3 columns):\n",
      " #   Column     Non-Null Count  Dtype \n",
      "---  ------     --------------  ----- \n",
      " 0   sentiment  15819 non-null  int64 \n",
      " 1   message    15819 non-null  object\n",
      " 2   tweetid    15819 non-null  int64 \n",
      "dtypes: int64(2), object(1)\n",
      "memory usage: 370.9+ KB\n"
     ]
    }
   ],
   "source": [
    "df_train.info()"
   ]
  },
  {
   "cell_type": "markdown",
   "metadata": {},
   "source": [
    "The dataset contains 15,819 entries with no null values. Hence, the shape of the dataset can be deduced to be (15819, 3) <br /><br />"
   ]
  },
  {
   "cell_type": "markdown",
   "metadata": {},
   "source": [
    "### 3.2 Target  Variable"
   ]
  },
  {
   "cell_type": "code",
   "execution_count": 5,
   "metadata": {},
   "outputs": [
    {
     "data": {
      "text/plain": [
       " 1    8530\n",
       " 2    3640\n",
       " 0    2353\n",
       "-1    1296\n",
       "Name: sentiment, dtype: int64"
      ]
     },
     "execution_count": 5,
     "metadata": {},
     "output_type": "execute_result"
    }
   ],
   "source": [
    "# Count class\n",
    "category_counts = df_train['sentiment'].value_counts()\n",
    "category_counts"
   ]
  },
  {
   "cell_type": "markdown",
   "metadata": {},
   "source": [
    "There are four distinct Class Descriptions present in the train data. Hence the the problem is a multi-class classification problem. \n",
    "* 2 News: the tweet links to factual news about climate change\n",
    "* 1 Pro: the tweet supports the belief of man-made climate change\n",
    "* 0 Neutral: the tweet neither supports nor refutes the belief of man-made climate change\n",
    "* -1 Anti: the tweet does not believe in man-made climate change"
   ]
  },
  {
   "cell_type": "markdown",
   "metadata": {},
   "source": [
    "#### 3.2.1 Distribution of Target"
   ]
  },
  {
   "cell_type": "code",
   "execution_count": 7,
   "metadata": {},
   "outputs": [
    {
     "data": {
      "text/plain": [
       "<AxesSubplot:xlabel='sentiment', ylabel='count'>"
      ]
     },
     "execution_count": 7,
     "metadata": {},
     "output_type": "execute_result"
    },
    {
     "data": {
      "image/png": "[encoded data removed]",
      "text/plain": [
       "<Figure size 432x288 with 1 Axes>"
      ]
     },
     "metadata": {
      "needs_background": "light"
     },
     "output_type": "display_data"
    }
   ],
   "source": [
    "# fig, ax = plt.subplots(figsize = (7, 5))\n",
    "# target =df_train['sentiment'].value_counts()\n",
    "# sns.barplot(x=target.index, y=target, ax=ax)\n",
    "# plt.title(\"Distrubution of Sentiments\")\n",
    "# plt.xlabel('Sentiment Categories')\n",
    "# plt.ylabel(\"Samples\")\n",
    "# plt.show()\n",
    "sns.countplot(x='sentiment', data=df_train, palette='Blues')"
   ]
  },
  {
   "cell_type": "markdown",
   "metadata": {},
   "source": [
    "The distribution indicates that there is a category imbalance in the train dataset. The effect of this imbalance, if not attended to, is a model which performs very well at categorising samples of a particular category and fails at others. For an instance, a model built on this train data will perform well in categorising tweets which supports man-made climate change (1) but fails at classifying the Anti tweets. <br /><br />"
   ]
  },
  {
   "cell_type": "markdown",
   "metadata": {},
   "source": [
    "### 3.3 Features\n",
    "\n",
    "From the overview of the data carried out prior, there are two features in the dataset. The message and tweetId features. The tweeteId is numerical while the message is object."
   ]
  },
  {
   "cell_type": "markdown",
   "metadata": {},
   "source": [
    "#### 3.3.1 The tweetid feature"
   ]
  },
  {
   "cell_type": "code",
   "execution_count": 8,
   "metadata": {},
   "outputs": [],
   "source": [
    "# plt.hist(df_train['tweetid'])\n",
    "# plt.title(\"Histogram of tweetid\")\n",
    "# plt.show()"
   ]
  },
  {
   "cell_type": "markdown",
   "metadata": {},
   "source": [
    "The distribution of the tweetid feature is almost uniform. This feature contains unique value for all samples. Hence will not be very useful for modelling. Hence, this feature will be dropped. <br /><br />"
   ]
  },
  {
   "cell_type": "markdown",
   "metadata": {},
   "source": [
    "#### 3.3.2 The message feature\n",
    "\n",
    "The message feature contains natural language. Hance character, word and sentence level analysis is carried out. <br /><br />"
   ]
  },
  {
   "cell_type": "markdown",
   "metadata": {},
   "source": [
    "###### 3.3.2.1 Total Number of Distinct words in the Test Dataset"
   ]
  },
  {
   "cell_type": "code",
   "execution_count": 15,
   "metadata": {},
   "outputs": [],
   "source": [
    " def create_bank_set(dataset, word=\"\", category=\"\"):\n",
    "    '''\n",
    "        Creates a list of all the words or characters in the message feature\n",
    "        \n",
    "        Input:\n",
    "        dataset - The dataset to extract from\n",
    "        category - Filters the messages in the dataset to include only the specified category\n",
    "        type - Specifies the level of extraction; wether characters or words\n",
    "        \n",
    "        Output:\n",
    "        pandas DataFrame of all the characters of the specified category \n",
    "    '''\n",
    "    corpus = []\n",
    "    if category:\n",
    "        df = dataset[dataset['sentiment'] == category]['message']\n",
    "    else:\n",
    "        df = dataset['message']\n",
    "    \n",
    "    if word:\n",
    "        bank = []\n",
    "        for row in df:\n",
    "            bank.extend(row.split(\" \"))\n",
    "    else:\n",
    "        bank = [row[x] for row in df for x in range(len(row))]\n",
    "        \n",
    "    return pd.DataFrame(bank)"
   ]
  },
  {
   "cell_type": "code",
   "execution_count": 9,
   "metadata": {},
   "outputs": [
    {
     "data": {
      "text/plain": [
       "'!\"#$%&\\'()*+,-./:;<=>?@[\\\\]^_`{|}~'"
      ]
     },
     "execution_count": 9,
     "metadata": {},
     "output_type": "execute_result"
    }
   ],
   "source": [
    "string.punctuation"
   ]
  },
  {
   "cell_type": "code",
   "execution_count": 10,
   "metadata": {},
   "outputs": [],
   "source": []
  },
  {
   "cell_type": "markdown",
   "metadata": {},
   "source": [
    "<br />\n",
    "Using the create_bank_set function to create a word bank for the entire train dataset"
   ]
  },
  {
   "cell_type": "code",
   "execution_count": 16,
   "metadata": {},
   "outputs": [
    {
     "name": "stdout",
     "output_type": "stream",
     "text": [
      "Total words: 278862 \n",
      "Unique words: 47968\n"
     ]
    }
   ],
   "source": [
    "words = create_bank_set(df_train, word=True)\n",
    "total_words = len(words[0])\n",
    "count_unique = len(words[0].unique())\n",
    "print(\"Total words: {} \\nUnique words: {}\".format(total_words, count_unique))"
   ]
  },
  {
   "cell_type": "markdown",
   "metadata": {},
   "source": [
    "There are about 48,000 total words in the unprocessed train dataset. Considering that there are 15,819 total number of tweets, it can be deduced that each tweet will only contain on the average 47,968 / 15,189 = 3.158 unique word."
   ]
  },
  {
   "cell_type": "markdown",
   "metadata": {},
   "source": [
    "###### 3.3.2.2 Top 10 Most frequent words in each Category"
   ]
  },
  {
   "cell_type": "code",
   "execution_count": 20,
   "metadata": {},
   "outputs": [
    {
     "data": {
      "image/png": "[encoded data removed]",
      "text/plain": [
       "<Figure size 1080x720 with 4 Axes>"
      ]
     },
     "metadata": {
      "needs_background": "light"
     },
     "output_type": "display_data"
    }
   ],
   "source": [
    "# Distribution of words per Class\n",
    "fig, ax = plt.subplots(2,2, figsize=(15,10))\n",
    "categories = [-1, 0, 1, 2]\n",
    "\n",
    "pos_x = 0\n",
    "pos_y = 0 \n",
    "\n",
    "for i, category in enumerate(categories):\n",
    "    if i > 1:\n",
    "        pos_x = 1\n",
    "        \n",
    "    pos_y = i % 2\n",
    "    \n",
    "    data = create_bank_set(df_train, word=True, category=category)\n",
    "    data = data[0].value_counts().head(10)\n",
    "    sns.barplot(x=data.index, y=data, ax=ax[pos_x][pos_y], palette='Blues_r')\n",
    "    ax[pos_x][pos_y].set_ylabel(\"Number of Occurence\")\n",
    "    ax[pos_x][pos_y].set_title(\"Distribution of words in Class \" + str(category))\n",
    "    ax[pos_x][pos_y].set_xlabel(\"Words\")\n",
    "    plt.setp(ax[pos_x][pos_y].get_xticklabels(), rotation=45)\n",
    "    \n",
    "plt.subplots_adjust(left=0.1,\n",
    "                    bottom=0.1, \n",
    "                    right=0.9, \n",
    "                    top=0.9, \n",
    "                    wspace=0.4, \n",
    "                    hspace=0.4)\n",
    "plt.show()"
   ]
  },
  {
   "cell_type": "markdown",
   "metadata": {},
   "source": [
    "<a href=\"https://medium.com/@saitejaponugoti/stop-words-in-nlp-5b248dadad47\"> Stop words </a> are very common words that don’t have a lot of meaning or words that can be safely ignored without sacrificing the meaning of a text like this, that, or etc. From the above distribution, in addition to the obvious stop words, tweets from the different classes appear to contain similar wordings like Climate, change, RT, and global. These words usually will not be considered as stop words but in this case, since they appear the most frequent in almost all the categories, they will behave more like stop words, providing little or no information to our model. Hence, a consideration to drop such common words. <br /><br />"
   ]
  },
  {
   "cell_type": "markdown",
   "metadata": {},
   "source": [
    "###### 3.3.2.3 Total Number of Stop words "
   ]
  },
  {
   "cell_type": "code",
   "execution_count": 11,
   "metadata": {},
   "outputs": [
    {
     "name": "stdout",
     "output_type": "stream",
     "text": [
      "Total Stopwords: 73137\n",
      "Unique Stopwords: 151\n",
      "Percentage of stopwords in  the entire train dataset : 26.23%\n",
      "Percentage of Unique stopwords in the total unique words: 0.31%\n"
     ]
    }
   ],
   "source": [
    "stop_words = stopwords.words('english')\n",
    "chars = create_bank_set(df_train, word=True)[0]\n",
    "chars = [x for x in chars if x in stop_words]\n",
    "total_stopwords = len(chars)\n",
    "unique_stopwords = len(set(chars))\n",
    "print(\"Total Stopwords: {}\".format(total_stopwords))\n",
    "print(\"Unique Stopwords: {}\".format(unique_stopwords))\n",
    "print(\"Percentage of stopwords in  the entire train dataset : {}%\"\n",
    "      .format(round((total_stopwords / total_words) * 100, 2)))\n",
    "print(\"Percentage of Unique stopwords in the total unique words: {}%\"\n",
    "     .format(round((unique_stopwords / count_unique) * 100, 2)))"
   ]
  },
  {
   "cell_type": "markdown",
   "metadata": {},
   "source": [
    "###### 3.3.2.4 Top 10 Common stop words in train dataset"
   ]
  },
  {
   "cell_type": "code",
   "execution_count": 21,
   "metadata": {},
   "outputs": [
    {
     "data": {
      "text/plain": [
       "<AxesSubplot:ylabel='0'>"
      ]
     },
     "execution_count": 21,
     "metadata": {},
     "output_type": "execute_result"
    },
    {
     "data": {
      "image/png": "[encoded data removed]",
      "text/plain": [
       "<Figure size 432x288 with 1 Axes>"
      ]
     },
     "metadata": {
      "needs_background": "light"
     },
     "output_type": "display_data"
    }
   ],
   "source": [
    "stop_words = stopwords.words('english')\n",
    "chars = create_bank_set(df_train, word=True)[0]\n",
    "chars = [x for x in chars if x in stop_words]\n",
    "data = pd.DataFrame(chars)[0].value_counts().head(10)\n",
    "sns.barplot(x=data.index, y=data, palette='Blues_r')"
   ]
  },
  {
   "cell_type": "markdown",
   "metadata": {},
   "source": [
    "###### 3.3.2.5 Ngram Analysis"
   ]
  },
  {
   "cell_type": "code",
   "execution_count": 22,
   "metadata": {},
   "outputs": [],
   "source": [
    "def get_ngram(message, nrange=(2, 3)):\n",
    "    '''\n",
    "        Takes a text and returns ngram and thier number of occurence.\n",
    "        \n",
    "        Input:\n",
    "            message: (series) A column of texts \n",
    "            nrange: (tuple) The range of ngram\n",
    "            \n",
    "        Output:\n",
    "            words_freq: (list) A list of tuple containing ngrams and their number of occurence\n",
    "    '''\n",
    "    vec = CountVectorizer(ngram_range = nrange).fit(message)\n",
    "    bag_of_words = vec.transform(message)\n",
    "    sum_of_words = bag_of_words.sum(axis=0)\n",
    "    words_freq = [(word, sum_of_words[0, idx]) for word, idx in vec.vocabulary_.items()]\n",
    "    words_freq = sorted(words_freq, key = lambda x: x[1], reverse=True)\n",
    "    return words_freq"
   ]
  },
  {
   "cell_type": "markdown",
   "metadata": {},
   "source": [
    "###### 3.3.2.6 Top 10 most frequent Ngrams"
   ]
  },
  {
   "cell_type": "code",
   "execution_count": 23,
   "metadata": {},
   "outputs": [
    {
     "data": {
      "text/plain": [
       "<AxesSubplot:>"
      ]
     },
     "execution_count": 23,
     "metadata": {},
     "output_type": "execute_result"
    },
    {
     "data": {
      "image/png": "[encoded data removed]",
      "text/plain": [
       "<Figure size 720x360 with 1 Axes>"
      ]
     },
     "metadata": {
      "needs_background": "light"
     },
     "output_type": "display_data"
    }
   ],
   "source": [
    "plt.figure(figsize=(10,5))\n",
    "top_tweet_bigrams = get_ngram(df_train['message'], nrange=(2,4))[:10]\n",
    "x, y = map(list,zip(*top_tweet_bigrams))\n",
    "sns.barplot(x=y,y=x, palette='Blues_r')"
   ]
  },
  {
   "cell_type": "markdown",
   "metadata": {},
   "source": [
    "The ngram analysis indicates a paramount need to rid the dataset of links. Links related texts like https and co dominated the ngrams <br /><br />"
   ]
  },
  {
   "cell_type": "markdown",
   "metadata": {},
   "source": [
    "## 4.0 Data Cleaning and Engineering\n",
    "\n",
    "<a href=#content>Back to Table of Contents</a>\n",
    "\n",
    "    \n",
    "| Description |\n",
    "| :--------------------------- |\n",
    "| In this section, the recommendations from the exploratory data analytis phase was implemented. The dataset was cleaned and features engineered from the message field|\n",
    "\n",
    "---"
   ]
  },
  {
   "cell_type": "markdown",
   "metadata": {},
   "source": [
    "### 4.1 Text Cleaning\n",
    "\n",
    "The dataset contains punctuations, links, emojis and twitter specific characters like @ and # symbols. Words also exist in different cases which models might translate and different. Hence, the proceeding function performs cleaning by:\n",
    "- Changing the Case of the words\n",
    "- Remove punctuations\n",
    "- Remove links\n",
    "- Remove emojis\n",
    "- Spelling Correction"
   ]
  },
  {
   "cell_type": "code",
   "execution_count": 15,
   "metadata": {},
   "outputs": [],
   "source": [
    "# def clean_data(text):\n",
    "#     # change the case of all the words in the text to lowercase \n",
    "#     text = text.lower()\n",
    "    \n",
    "#     # Remove links from the text\n",
    "#     url = re.compile(r'https?://\\S+|www\\.\\S+')\n",
    "#     text =  url.sub(r'', text)\n",
    "    \n",
    "#     # remove punctuation\n",
    "#     text = \"\".join([x for x in text if x not in string.punctuation])\n",
    "    \n",
    "#     # Remove Emojis - Emoji Reference : https://gist.github.com/slowkow/7a7f61f495e3dbb7e3d767f97bd7304b\n",
    "#     emoji_pattern = re.compile(\"[\"\n",
    "#                            u\"\\U0001F600-\\U0001F64F\"  # emoticons\n",
    "#                            u\"\\U0001F300-\\U0001F5FF\"  # symbols & pictographs\n",
    "#                            u\"\\U0001F680-\\U0001F6FF\"  # transport & map symbols\n",
    "#                            u\"\\U0001F1E0-\\U0001F1FF\"  # flags (iOS)\n",
    "#                            u\"\\U00002702-\\U000027B0\"\n",
    "#                            u\"\\U000024C2-\\U0001F251\"\n",
    "#                            \"]+\", flags=re.UNICODE)\n",
    "#     text = emoji_pattern.sub(r'', text)\n",
    "    \n",
    "#     '''# Correct mispelt word\n",
    "#     spelling = SpellChecker()\n",
    "#     correct_text = []\n",
    "#     misspelt_words = spelling.unknown(text.split())\n",
    "#     for word in text.split():\n",
    "#         if word in misspelt_words:\n",
    "#             correct_text.append(spelling.correction(word))\n",
    "#         else:\n",
    "#             correct_text.append(word)\n",
    "#     text = \" \".join(correct_text)'''\n",
    "    \n",
    "#     return text"
   ]
  },
  {
   "cell_type": "code",
   "execution_count": 30,
   "metadata": {},
   "outputs": [],
   "source": [
    "stopwords_list = stopwords.words('english')"
   ]
  },
  {
   "cell_type": "code",
   "execution_count": 31,
   "metadata": {},
   "outputs": [],
   "source": [
    "\n",
    "def pre_process(any_message):\n",
    "    '''\n",
    "    Runs several steps of the data to prepare \n",
    "    text in each tweet for feature engineering\n",
    "    '''\n",
    "    #convert to lowercase\n",
    "    message = any_message.lower()\n",
    "    \n",
    "    #remove the urls\n",
    "    message = re.sub('http[s]?://\\S+', '', message, flags = re.MULTILINE)\n",
    "    \n",
    "    #remove punctuations\n",
    "    message=message.translate(str.maketrans('','',string.punctuation))\n",
    "    \n",
    "    #remove @ and #\n",
    "    message=re.sub(r'\\@\\w+|\\#', '', message)\n",
    "    \n",
    "    #remove stopwords\n",
    "    message_tokens=word_tokenize(message)\n",
    "    filtered_message=[text for text in message_tokens if text not in stopwords_list]\n",
    "    \n",
    "    #stem\n",
    "#     stemmer = SnowballStemmer(\"english\")\n",
    "#     stemmed_message = [stemmer.stem(tweet) for tweet in filtered_message] \n",
    "    \n",
    "    #lemmatize\n",
    "    lemmatizer = WordNetLemmatizer()\n",
    "    lemma_message=[lemmatizer.lemmatize(tweet, pos='a') for tweet in filtered_message]\n",
    "    \n",
    "    return ' '.join(lemma_message)"
   ]
  },
  {
   "cell_type": "markdown",
   "metadata": {},
   "source": [
    "The clean_data function accepts a row of text and returns a string with the punctuations, emojis and links removed including changing the case and correcting misspelt words. <br><br>  "
   ]
  },
  {
   "cell_type": "code",
   "execution_count": 32,
   "metadata": {},
   "outputs": [],
   "source": [
    "# Clean the train dataset\n",
    "df_train['message'] = df_train['message'].apply(pre_process)\n",
    "\n",
    "# Clean the test dataset\n",
    "df_test['message'] = df_test['message'].apply(pre_process)"
   ]
  },
  {
   "cell_type": "markdown",
   "metadata": {},
   "source": []
  },
  {
   "cell_type": "code",
   "execution_count": 17,
   "metadata": {},
   "outputs": [],
   "source": []
  },
  {
   "cell_type": "code",
   "execution_count": null,
   "metadata": {},
   "outputs": [],
   "source": []
  },
  {
   "cell_type": "code",
   "execution_count": null,
   "metadata": {},
   "outputs": [],
   "source": []
  },
  {
   "cell_type": "markdown",
   "metadata": {},
   "source": [
    "### 4.3 Text Tokenization\n",
    "\n",
    "In this section, the message feature was tokenized (each message was broken down into list of words) using the nltk RegexTokenizer."
   ]
  },
  {
   "cell_type": "code",
   "execution_count": 20,
   "metadata": {},
   "outputs": [],
   "source": [
    "# def tokenize_data(text):\n",
    "#     tokenizer = tokenize.RegexpTokenizer(r'\\w+')\n",
    "#     return tokenizer.tokenize(text)"
   ]
  },
  {
   "cell_type": "markdown",
   "metadata": {},
   "source": [
    "The function above takes a row of text and return a list of each word in the text. <br /><br />"
   ]
  },
  {
   "cell_type": "code",
   "execution_count": 75,
   "metadata": {},
   "outputs": [],
   "source": [
    "# # Tokenize the train dataset\n",
    "# df_train['message'] = df_train['message'].apply(tokenize_data)\n",
    "\n",
    "# # Tokenize the test dataset\n",
    "# df_test['message'] = df_test['message'].apply(tokenize_data)"
   ]
  },
  {
   "cell_type": "code",
   "execution_count": 33,
   "metadata": {},
   "outputs": [
    {
     "data": {
      "text/plain": [
       "(10546, 1)"
      ]
     },
     "execution_count": 33,
     "metadata": {},
     "output_type": "execute_result"
    }
   ],
   "source": [
    "df_test.shape"
   ]
  },
  {
   "cell_type": "markdown",
   "metadata": {},
   "source": [
    "### 4.4 Stop words Removal\n",
    "\n",
    "Stop words from the message feature are removed using the defined function remove_stop_words. <br ><br >"
   ]
  },
  {
   "cell_type": "code",
   "execution_count": 23,
   "metadata": {},
   "outputs": [],
   "source": [
    "# def remove_stop_words(list_of_words):\n",
    "#     # The function takes a list of words and filter out the stop words\n",
    "#     words = [word for word in list_of_words if word not in stopwords.words('english')]\n",
    "#     return words"
   ]
  },
  {
   "cell_type": "code",
   "execution_count": 24,
   "metadata": {},
   "outputs": [],
   "source": [
    "# # Remove stop words from train dataset\n",
    "# df_train['message'] = df_train['message'].apply(remove_stop_words)\n",
    "\n",
    "# # Remove stop words from test dataset\n",
    "# df_test['message'] = df_test['message'].apply(remove_stop_words)"
   ]
  },
  {
   "cell_type": "code",
   "execution_count": 34,
   "metadata": {},
   "outputs": [],
   "source": [
    "# df_test.shape"
   ]
  },
  {
   "cell_type": "markdown",
   "metadata": {},
   "source": [
    "### 4.5 Lemmatization \n",
    "\n",
    "English words have different variants. cats and cat are variants of cat. Lemmatization will ensure that all variants of a word map to the same root word. ALthough, an alternative to lemmatization is stemming. Stemming will remove the suffix of words and does not necessarily return English words. Hence, Lematization is preffered in this instance."
   ]
  },
  {
   "cell_type": "code",
   "execution_count": 25,
   "metadata": {},
   "outputs": [],
   "source": [
    "# def lemmatize_words(list_of_words):\n",
    "#     lemmatizer = WordNetLemmatizer()\n",
    "#     return [lemmatizer.lemmatize(x) for x in list_of_words]"
   ]
  },
  {
   "cell_type": "code",
   "execution_count": 26,
   "metadata": {},
   "outputs": [],
   "source": [
    "# # lemmatize train set\n",
    "# df_train['message'] = df_train['message'].apply(lemmatize_words)\n",
    "\n",
    "# # lemmatize test set\n",
    "# df_test['message'] = df_test['message'].apply(lemmatize_words)"
   ]
  },
  {
   "cell_type": "markdown",
   "metadata": {},
   "source": [
    "After the lemmatization, we join the tokenized words together. This is to enable us create features from the field."
   ]
  },
  {
   "cell_type": "code",
   "execution_count": 82,
   "metadata": {},
   "outputs": [],
   "source": [
    "#Join all the words in the message field\n",
    "# df_train['message'] = df_train['message'].apply(lambda x: \" \".join(x))\n",
    "# df_test['message'] = df_test['message'].apply(lambda x: \" \".join(x))"
   ]
  },
  {
   "cell_type": "code",
   "execution_count": 35,
   "metadata": {},
   "outputs": [
    {
     "data": {
      "text/plain": [
       "(10546, 1)"
      ]
     },
     "execution_count": 35,
     "metadata": {},
     "output_type": "execute_result"
    }
   ],
   "source": [
    "df_test.shape"
   ]
  },
  {
   "cell_type": "markdown",
   "metadata": {},
   "source": [
    "### 4.6 Features Extraction \n",
    "\n",
    "To create a model, there is a need to have a set of feature(s) and target. Most models only accept numerical values for feature sets. For this project, our feature is a string of words. Hence there is a need to create vectors of digits from these words. The process is called Vectorization.\n",
    "\n",
    "For this project we define a vectorizer with the following tuning\n",
    "- stop_words = 'english'\n",
    "- ngram_range = (1, 4)\n",
    "- max_df = 0.7\n",
    "- min_df = 1"
   ]
  },
  {
   "cell_type": "code",
   "execution_count": 36,
   "metadata": {},
   "outputs": [],
   "source": [
    "def vectorize_data(train, test):\n",
    "    vectorizer = TfidfVectorizer(stop_words='english',\n",
    "                                 min_df=1,\n",
    "                                 ngram_range=(1, 2))\n",
    "\n",
    "    train_data = vectorizer.fit_transform(train)\n",
    "    test_data = vectorizer.transform(test)\n",
    "    return train_data, test_data"
   ]
  },
  {
   "cell_type": "code",
   "execution_count": 37,
   "metadata": {},
   "outputs": [],
   "source": [
    "#vectorize the train and test dataset\n",
    "train_data, test_data = vectorize_data(df_train['message'], df_test['message'])"
   ]
  },
  {
   "cell_type": "markdown",
   "metadata": {},
   "source": [
    "### 4.6 Spliting Train Dataset \n",
    "\n",
    "To properly access a model, we need to access the model on data which it has not seen before. Hence, there is a need to split the training dataset into two different datasets; the training dataset - which will be used to train a model and the validation set - which will be used to measure the performance of the model. "
   ]
  },
  {
   "cell_type": "code",
   "execution_count": 38,
   "metadata": {},
   "outputs": [],
   "source": [
    "train_x, validation_x, train_y, validation_y = train_test_split(train_data, df_train['sentiment'], test_size=0.2,  random_state=20)"
   ]
  },
  {
   "cell_type": "code",
   "execution_count": 39,
   "metadata": {},
   "outputs": [
    {
     "name": "stdout",
     "output_type": "stream",
     "text": [
      "(12655, 109414)\n",
      "(3164, 109414)\n",
      "(12655,)\n",
      "(3164,)\n"
     ]
    }
   ],
   "source": [
    "print(train_x.shape)\n",
    "print(validation_x.shape)\n",
    "print(train_y.shape)\n",
    "print(validation_y.shape)"
   ]
  },
  {
   "cell_type": "markdown",
   "metadata": {},
   "source": [
    "## 5.0 Modeling and Evaluation\n",
    "\n",
    "<a href=#content>Back to Table of Contents</a>\n",
    "\n",
    "    \n",
    "| Description |\n",
    "| :--------------------------- |\n",
    "| In this section, several models are trained and evaluated.|\n",
    "\n",
    "---"
   ]
  },
  {
   "cell_type": "markdown",
   "metadata": {},
   "source": [
    "#### 5.1 Ridge Classifier Model"
   ]
  },
  {
   "cell_type": "code",
   "execution_count": 280,
   "metadata": {},
   "outputs": [],
   "source": [
    "ridge_model = RidgeClassifier()\n",
    "ridge_model.fit(train_x, train_y)\n",
    "predictions = ridge_model.predict(validation_x)"
   ]
  },
  {
   "cell_type": "code",
   "execution_count": 281,
   "metadata": {},
   "outputs": [
    {
     "name": "stdout",
     "output_type": "stream",
     "text": [
      "              precision    recall  f1-score   support\n",
      "\n",
      "     2: News       0.91      0.35      0.51       272\n",
      "      1: Pro       0.69      0.32      0.43       477\n",
      "  0: Neutral       0.72      0.92      0.81      1726\n",
      "    -1: Anti       0.78      0.71      0.75       689\n",
      "\n",
      "    accuracy                           0.74      3164\n",
      "   macro avg       0.78      0.58      0.62      3164\n",
      "weighted avg       0.75      0.74      0.71      3164\n",
      "\n"
     ]
    }
   ],
   "source": [
    "print(classification_report(validation_y, predictions, target_names=['2: News', '1: Pro', '0: Neutral', '-1: Anti']))"
   ]
  },
  {
   "cell_type": "markdown",
   "metadata": {},
   "source": [
    "#### 5.2 Random Forest Classifier Model"
   ]
  },
  {
   "cell_type": "code",
   "execution_count": 34,
   "metadata": {},
   "outputs": [],
   "source": [
    "tree_model = RandomForestClassifier(random_state=50)\n",
    "tree_model.fit(train_x, train_y)\n",
    "predictions = tree_model.predict(validation_x)"
   ]
  },
  {
   "cell_type": "code",
   "execution_count": 35,
   "metadata": {},
   "outputs": [
    {
     "name": "stdout",
     "output_type": "stream",
     "text": [
      "              precision    recall  f1-score   support\n",
      "\n",
      "     2: News       0.91      0.23      0.36       272\n",
      "      1: Pro       0.61      0.34      0.44       477\n",
      "  0: Neutral       0.68      0.92      0.78      1726\n",
      "    -1: Anti       0.80      0.56      0.66       689\n",
      "\n",
      "    accuracy                           0.70      3164\n",
      "   macro avg       0.75      0.51      0.56      3164\n",
      "weighted avg       0.71      0.70      0.67      3164\n",
      "\n"
     ]
    }
   ],
   "source": [
    "print(classification_report(validation_y, predictions, target_names=['2: News', '1: Pro', '0: Neutral', '-1: Anti']))"
   ]
  },
  {
   "cell_type": "markdown",
   "metadata": {},
   "source": [
    "#### 5.3 Nearest Neighbour Classifier"
   ]
  },
  {
   "cell_type": "code",
   "execution_count": 36,
   "metadata": {},
   "outputs": [
    {
     "name": "stdout",
     "output_type": "stream",
     "text": [
      "              precision    recall  f1-score   support\n",
      "\n",
      "     2: News       0.37      0.43      0.40       272\n",
      "      1: Pro       0.39      0.35      0.37       477\n",
      "  0: Neutral       0.74      0.70      0.72      1726\n",
      "    -1: Anti       0.58      0.67      0.62       689\n",
      "\n",
      "    accuracy                           0.62      3164\n",
      "   macro avg       0.52      0.54      0.53      3164\n",
      "weighted avg       0.62      0.62      0.62      3164\n",
      "\n"
     ]
    }
   ],
   "source": [
    "knn_model = KNeighborsClassifier(3)\n",
    "knn_model.fit(train_x, train_y)\n",
    "predictions = knn_model.predict(validation_x)\n",
    "print(classification_report(validation_y, predictions, target_names=['2: News', '1: Pro', '0: Neutral', '-1: Anti']))"
   ]
  },
  {
   "cell_type": "markdown",
   "metadata": {},
   "source": [
    "#### 5.4 Support Vector Classifier"
   ]
  },
  {
   "cell_type": "code",
   "execution_count": 37,
   "metadata": {},
   "outputs": [
    {
     "name": "stdout",
     "output_type": "stream",
     "text": [
      "              precision    recall  f1-score   support\n",
      "\n",
      "     2: News       0.95      0.14      0.25       272\n",
      "      1: Pro       0.88      0.16      0.27       477\n",
      "  0: Neutral       0.64      0.98      0.77      1726\n",
      "    -1: Anti       0.89      0.50      0.64       689\n",
      "\n",
      "    accuracy                           0.68      3164\n",
      "   macro avg       0.84      0.44      0.48      3164\n",
      "weighted avg       0.75      0.68      0.62      3164\n",
      "\n"
     ]
    }
   ],
   "source": [
    "svc_model = SVC(gamma=2, C=1)\n",
    "svc_model.fit(train_x, train_y)\n",
    "predictions = svc_model.predict(validation_x)\n",
    "print(classification_report(validation_y, predictions, target_names=['2: News', '1: Pro', '0: Neutral', '-1: Anti']))"
   ]
  },
  {
   "cell_type": "markdown",
   "metadata": {},
   "source": [
    "#### 5.5 AdaBoost Classifier"
   ]
  },
  {
   "cell_type": "code",
   "execution_count": 38,
   "metadata": {},
   "outputs": [
    {
     "name": "stdout",
     "output_type": "stream",
     "text": [
      "              precision    recall  f1-score   support\n",
      "\n",
      "     2: News       0.54      0.25      0.34       272\n",
      "      1: Pro       0.46      0.29      0.35       477\n",
      "  0: Neutral       0.62      0.84      0.72      1726\n",
      "    -1: Anti       0.61      0.36      0.45       689\n",
      "\n",
      "    accuracy                           0.60      3164\n",
      "   macro avg       0.56      0.43      0.47      3164\n",
      "weighted avg       0.59      0.60      0.57      3164\n",
      "\n"
     ]
    }
   ],
   "source": [
    "ada_model = AdaBoostClassifier()\n",
    "ada_model.fit(train_x, train_y)\n",
    "predictions = ada_model.predict(validation_x)\n",
    "print(classification_report(validation_y, predictions, target_names=['2: News', '1: Pro', '0: Neutral', '-1: Anti']))"
   ]
  },
  {
   "cell_type": "code",
   "execution_count": 39,
   "metadata": {},
   "outputs": [
    {
     "name": "stdout",
     "output_type": "stream",
     "text": [
      "              precision    recall  f1-score   support\n",
      "\n",
      "     2: News       1.00      0.01      0.01       272\n",
      "      1: Pro       1.00      0.08      0.14       477\n",
      "  0: Neutral       0.61      0.98      0.75      1726\n",
      "    -1: Anti       0.87      0.42      0.57       689\n",
      "\n",
      "    accuracy                           0.64      3164\n",
      "   macro avg       0.87      0.37      0.37      3164\n",
      "weighted avg       0.76      0.64      0.56      3164\n",
      "\n"
     ]
    }
   ],
   "source": [
    "bayes_model = MultinomialNB()\n",
    "bayes_model.fit(train_x, train_y)\n",
    "predictions = bayes_model.predict(validation_x)\n",
    "print(classification_report(validation_y, predictions, target_names=['2: News', '1: Pro', '0: Neutral', '-1: Anti']))"
   ]
  },
  {
   "cell_type": "code",
   "execution_count": 244,
   "metadata": {},
   "outputs": [
    {
     "name": "stdout",
     "output_type": "stream",
     "text": [
      "              precision    recall  f1-score   support\n",
      "\n",
      "     2: News       0.79      0.42      0.54       272\n",
      "      1: Pro       0.66      0.39      0.49       477\n",
      "  0: Neutral       0.75      0.89      0.81      1726\n",
      "    -1: Anti       0.73      0.72      0.73       689\n",
      "\n",
      "    accuracy                           0.74      3164\n",
      "   macro avg       0.73      0.60      0.64      3164\n",
      "weighted avg       0.73      0.74      0.72      3164\n",
      "\n"
     ]
    }
   ],
   "source": [
    "sgdc_model = SGDClassifier()\n",
    "sgdc_model.fit(train_x, train_y)\n",
    "predictions = sgdc_model.predict(validation_x)\n",
    "print(classification_report(validation_y, predictions, target_names=['2: News', '1: Pro', '0: Neutral', '-1: Anti']))"
   ]
  },
  {
   "cell_type": "code",
   "execution_count": 282,
   "metadata": {},
   "outputs": [],
   "source": [
    "final_ridge_model = RidgeClassifier()\n",
    "final_ridge_model.fit(train_data, df_train['sentiment'])\n",
    "predictions = final_ridge_model.predict(test_data)"
   ]
  },
  {
   "cell_type": "code",
   "execution_count": 283,
   "metadata": {},
   "outputs": [
    {
     "data": {
      "text/plain": [
       "(10546,)"
      ]
     },
     "execution_count": 283,
     "metadata": {},
     "output_type": "execute_result"
    }
   ],
   "source": [
    "submission = pd.DataFrame({'tweetid': test_tweet_id, 'sentiment':predictions})\n",
    "submission.to_csv('submission.csv', index=False)\n",
    "\n",
    "predictions.shape"
   ]
  },
  {
   "cell_type": "code",
   "execution_count": null,
   "metadata": {},
   "outputs": [],
   "source": []
  }
 ],
 "metadata": {
  "kernelspec": {
   "display_name": "Python 3",
   "language": "python",
   "name": "python3"
  },
  "language_info": {
   "codemirror_mode": {
    "name": "ipython",
    "version": 3
   },
   "file_extension": ".py",
   "mimetype": "text/x-python",
   "name": "python",
   "nbconvert_exporter": "python",
   "pygments_lexer": "ipython3",
   "version": "3.8.5"
  }
 },
 "nbformat": 4,
 "nbformat_minor": 5
}
